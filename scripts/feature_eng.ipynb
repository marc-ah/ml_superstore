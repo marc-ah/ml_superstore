{
 "cells": [
  {
   "cell_type": "markdown",
   "id": "327a78b4-8999-4bc9-a484-96d8b2fade20",
   "metadata": {},
   "source": [
    "# Prepare"
   ]
  },
  {
   "cell_type": "code",
   "execution_count": 1,
   "id": "1e6db656-3d3d-48d0-92aa-6267943deb1f",
   "metadata": {},
   "outputs": [],
   "source": [
    "# machine learning modules\n",
    "from sklearn.model_selection import train_test_split\n",
    "\n",
    "from sklearn.pipeline import Pipeline\n",
    "from sklearn.compose import ColumnTransformer\n",
    "from sklearn.preprocessing import StandardScaler\n",
    "from sklearn.impute import SimpleImputer\n",
    "from sklearn.preprocessing import LabelBinarizer\n",
    "\n",
    "import statsmodels.formula.api as smf\n",
    "from sklearn.linear_model import LinearRegression, Ridge, Lasso"
   ]
  },
  {
   "cell_type": "code",
   "execution_count": 71,
   "id": "39391ec3-22a8-43af-b097-5096f72f6ae6",
   "metadata": {},
   "outputs": [],
   "source": [
    "# general modules\n",
    "import pandas as pd\n",
    "import sqlite3 \n",
    "import os\n",
    "import pandas_profiling\n",
    "import seaborn as sns\n",
    "import sqlite3 as sql\n",
    "import hashlib\n",
    "\n",
    "import pickle"
   ]
  },
  {
   "cell_type": "code",
   "execution_count": 3,
   "id": "b9c42902-3055-41ef-84cf-e1491e5f44cf",
   "metadata": {},
   "outputs": [],
   "source": [
    "# variables\n",
    "randon_state = 42\n",
    "\n"
   ]
  },
  {
   "cell_type": "markdown",
   "id": "4a557e1f-3eb0-4768-8d48-dc520fa6ba30",
   "metadata": {},
   "source": [
    "# Import"
   ]
  },
  {
   "cell_type": "code",
   "execution_count": 4,
   "id": "08c89903-8d88-49cb-bc24-b0c556d50f8b",
   "metadata": {},
   "outputs": [],
   "source": [
    "conn = sql.connect(os.path.join(\"..\", DATA_FOLDER, db_name),\n",
    "                   detect_types=sqlite3.PARSE_DECLTYPES | sqlite3.PARSE_COLNAMES)"
   ]
  },
  {
   "cell_type": "code",
   "execution_count": 5,
   "id": "ee8ad3fe-8aff-4f3c-a224-04d6a8156363",
   "metadata": {},
   "outputs": [],
   "source": [
    "stmt = \"select * from superstore\""
   ]
  },
  {
   "cell_type": "code",
   "execution_count": 6,
   "id": "d848a0cd-e8b8-4a28-b5bb-aa883fb9b5be",
   "metadata": {},
   "outputs": [],
   "source": [
    "raw_df = pd.read_sql(stmt, conn, index_col='index')"
   ]
  },
  {
   "cell_type": "markdown",
   "id": "cf96abf5-41c6-4d4e-81d7-da27a3757491",
   "metadata": {},
   "source": [
    "# Inspect"
   ]
  },
  {
   "cell_type": "code",
   "execution_count": null,
   "id": "fd2e267a",
   "metadata": {},
   "outputs": [],
   "source": []
  },
  {
   "cell_type": "code",
   "execution_count": null,
   "id": "bb949b6f",
   "metadata": {},
   "outputs": [],
   "source": []
  },
  {
   "cell_type": "code",
   "execution_count": null,
   "id": "278854a6",
   "metadata": {},
   "outputs": [],
   "source": []
  },
  {
   "cell_type": "code",
   "execution_count": null,
   "id": "6c42923d",
   "metadata": {},
   "outputs": [],
   "source": []
  },
  {
   "cell_type": "code",
   "execution_count": null,
   "id": "57b65d44",
   "metadata": {},
   "outputs": [],
   "source": []
  },
  {
   "cell_type": "code",
   "execution_count": null,
   "id": "c7e43d81",
   "metadata": {},
   "outputs": [],
   "source": []
  },
  {
   "cell_type": "markdown",
   "id": "42c795e1",
   "metadata": {},
   "source": [
    "# Export"
   ]
  },
  {
   "cell_type": "code",
   "execution_count": 72,
   "id": "7c915d56",
   "metadata": {},
   "outputs": [],
   "source": [
    "train_out = open('train_data','wb')\n",
    "pickle.dump(df_train,train_out)\n",
    "train_out.close()"
   ]
  },
  {
   "cell_type": "code",
   "execution_count": 73,
   "id": "83bd9b81",
   "metadata": {},
   "outputs": [],
   "source": [
    "test_out = open('test_data','wb')\n",
    "pickle.dump(df_test,test_out)\n",
    "test_out.close()"
   ]
  },
  {
   "cell_type": "code",
   "execution_count": null,
   "id": "3cb29688",
   "metadata": {},
   "outputs": [],
   "source": []
  },
  {
   "cell_type": "code",
   "execution_count": null,
   "id": "1c5ed911",
   "metadata": {},
   "outputs": [],
   "source": []
  },
  {
   "cell_type": "code",
   "execution_count": null,
   "id": "5b756cba",
   "metadata": {},
   "outputs": [],
   "source": []
  },
  {
   "cell_type": "code",
   "execution_count": 57,
   "id": "0024273d-a2f4-439e-aa6d-5fcfc0368a2c",
   "metadata": {},
   "outputs": [],
   "source": [
    "# -----------------------------------------------------------------"
   ]
  },
  {
   "cell_type": "code",
   "execution_count": 58,
   "id": "12d5ad23-2657-4cc1-92fd-f55e4083ebdc",
   "metadata": {},
   "outputs": [],
   "source": [
    "# select potentially useful columns\n",
    "#useful_columns = [\"\"]\n",
    "#df_inspect = df_train[useful_columns]"
   ]
  },
  {
   "cell_type": "code",
   "execution_count": 59,
   "id": "4a8f2110-7c46-4ccb-ac49-00a9077d5737",
   "metadata": {},
   "outputs": [],
   "source": [
    "#df_inspect.reset_index(drop=True, inplace=True)\n"
   ]
  },
  {
   "cell_type": "code",
   "execution_count": 60,
   "id": "f63cddf2-290c-4da6-90ac-7c9be9f40d6c",
   "metadata": {},
   "outputs": [],
   "source": [
    "#df_inspect.loc[:,\"\"] = LabelBinarizer().fit_transform(df_inspect[\"...\"])"
   ]
  },
  {
   "cell_type": "code",
   "execution_count": 61,
   "id": "7a9f2c53-67f9-47f2-8c3e-e93b0a11a03e",
   "metadata": {
    "scrolled": true
   },
   "outputs": [],
   "source": [
    "#sns.pairplot(data=df_inspect)"
   ]
  },
  {
   "cell_type": "code",
   "execution_count": 62,
   "id": "d02a506c-0ddc-43b3-8e28-22c545201585",
   "metadata": {},
   "outputs": [],
   "source": [
    "#sns.heatmap(df_inspect.corr())"
   ]
  },
  {
   "cell_type": "code",
   "execution_count": 63,
   "id": "839b58e6-8542-42a6-906c-212c9bba2c69",
   "metadata": {},
   "outputs": [],
   "source": [
    "#model = smf.ols(formula=\"target ~ a + b + c\", data=df_inspect)\n",
    "#results = model.fit()\n",
    "#print(results.summary())"
   ]
  },
  {
   "cell_type": "code",
   "execution_count": null,
   "id": "0e6f16b6-da35-42d2-95f0-9869c8739554",
   "metadata": {},
   "outputs": [],
   "source": []
  }
 ],
 "metadata": {
  "kernelspec": {
   "display_name": "Python 3.9.4 64-bit",
   "language": "python",
   "name": "python394jvsc74a57bd0f228753f02b6bcec550021ad01f9964bb2298ebd1b1709942fc8265c3e080479"
  },
  "language_info": {
   "codemirror_mode": {
    "name": "ipython",
    "version": 3
   },
   "file_extension": ".py",
   "mimetype": "text/x-python",
   "name": "python",
   "nbconvert_exporter": "python",
   "pygments_lexer": "ipython3",
   "version": "3.9.4"
  }
 },
 "nbformat": 4,
 "nbformat_minor": 5
}
