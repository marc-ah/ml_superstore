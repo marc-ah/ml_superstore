{
 "cells": [
  {
   "cell_type": "markdown",
   "id": "c1df34c1",
   "metadata": {},
   "source": [
    "# Prepare"
   ]
  },
  {
   "cell_type": "code",
   "execution_count": 1,
   "id": "71b37a0c",
   "metadata": {},
   "outputs": [],
   "source": [
    "# general modules\n",
    "import pandas as pd\n",
    "import sqlite3 \n",
    "import os\n",
    "import pandas_profiling\n",
    "import seaborn as sns\n",
    "import sqlite3 as sql\n",
    "import hashlib"
   ]
  },
  {
   "cell_type": "code",
   "execution_count": 2,
   "id": "6b7d9604",
   "metadata": {},
   "outputs": [],
   "source": [
    "# variables\n",
    "INPUT_FOLDER = \"input\"\n",
    "OUTPUT_FOLDER = \"output\"\n",
    "DATA_FOLDER = \"data\"\n",
    "\n",
    "xl_name = \"global-superstore.xls\" \n",
    "db_name = \"superstore.db\"\n",
    "\n",
    "randon_state = 42"
   ]
  },
  {
   "cell_type": "markdown",
   "id": "2dfc0c21",
   "metadata": {},
   "source": [
    "# Import"
   ]
  },
  {
   "cell_type": "code",
   "execution_count": 4,
   "id": "e2aab164",
   "metadata": {},
   "outputs": [],
   "source": [
    "df_orders = pd.read_excel(os.path.join(\"..\", INPUT_FOLDER, xl_name), sheet_name=\"Orders\")\n",
    "df_returns = pd.read_excel(os.path.join(\"..\", INPUT_FOLDER, xl_name), sheet_name=\"Returns\")\n",
    "df_people = pd.read_excel(os.path.join(\"..\", INPUT_FOLDER, xl_name), sheet_name=\"People\")"
   ]
  },
  {
   "cell_type": "markdown",
   "id": "94276015",
   "metadata": {},
   "source": [
    "### Column Inspection"
   ]
  },
  {
   "cell_type": "code",
   "execution_count": 5,
   "id": "faebd124",
   "metadata": {
    "scrolled": true
   },
   "outputs": [
    {
     "data": {
      "text/plain": [
       "Index(['Row ID', 'Order ID', 'Order Date', 'Ship Date', 'Ship Mode',\n",
       "       'Customer ID', 'Customer Name', 'Segment', 'City', 'State', 'Country',\n",
       "       'Postal Code', 'Market', 'Region', 'Product ID', 'Category',\n",
       "       'Sub-Category', 'Product Name', 'Sales', 'Quantity', 'Discount',\n",
       "       'Profit', 'Shipping Cost', 'Order Priority'],\n",
       "      dtype='object')"
      ]
     },
     "execution_count": 5,
     "metadata": {},
     "output_type": "execute_result"
    }
   ],
   "source": [
    "df_orders.columns"
   ]
  },
  {
   "cell_type": "code",
   "execution_count": 6,
   "id": "ae98ef49",
   "metadata": {},
   "outputs": [
    {
     "data": {
      "text/plain": [
       "Index(['Returned', 'Order ID', 'Market'], dtype='object')"
      ]
     },
     "execution_count": 6,
     "metadata": {},
     "output_type": "execute_result"
    }
   ],
   "source": [
    "df_returns.columns"
   ]
  },
  {
   "cell_type": "code",
   "execution_count": 7,
   "id": "cf845221",
   "metadata": {},
   "outputs": [
    {
     "data": {
      "text/plain": [
       "Index(['Person', 'Region'], dtype='object')"
      ]
     },
     "execution_count": 7,
     "metadata": {},
     "output_type": "execute_result"
    }
   ],
   "source": [
    "df_people.columns"
   ]
  },
  {
   "cell_type": "code",
   "execution_count": 8,
   "id": "03921fb1",
   "metadata": {},
   "outputs": [
    {
     "data": {
      "text/html": [
       "<div>\n",
       "<style scoped>\n",
       "    .dataframe tbody tr th:only-of-type {\n",
       "        vertical-align: middle;\n",
       "    }\n",
       "\n",
       "    .dataframe tbody tr th {\n",
       "        vertical-align: top;\n",
       "    }\n",
       "\n",
       "    .dataframe thead th {\n",
       "        text-align: right;\n",
       "    }\n",
       "</style>\n",
       "<table border=\"1\" class=\"dataframe\">\n",
       "  <thead>\n",
       "    <tr style=\"text-align: right;\">\n",
       "      <th></th>\n",
       "      <th>Person</th>\n",
       "      <th>Region</th>\n",
       "    </tr>\n",
       "  </thead>\n",
       "  <tbody>\n",
       "    <tr>\n",
       "      <th>0</th>\n",
       "      <td>Anna Andreadi</td>\n",
       "      <td>Central</td>\n",
       "    </tr>\n",
       "    <tr>\n",
       "      <th>1</th>\n",
       "      <td>Chuck Magee</td>\n",
       "      <td>South</td>\n",
       "    </tr>\n",
       "    <tr>\n",
       "      <th>2</th>\n",
       "      <td>Kelly Williams</td>\n",
       "      <td>East</td>\n",
       "    </tr>\n",
       "    <tr>\n",
       "      <th>3</th>\n",
       "      <td>Matt Collister</td>\n",
       "      <td>West</td>\n",
       "    </tr>\n",
       "    <tr>\n",
       "      <th>4</th>\n",
       "      <td>Deborah Brumfield</td>\n",
       "      <td>Africa</td>\n",
       "    </tr>\n",
       "    <tr>\n",
       "      <th>5</th>\n",
       "      <td>Larry Hughes</td>\n",
       "      <td>AMEA</td>\n",
       "    </tr>\n",
       "    <tr>\n",
       "      <th>6</th>\n",
       "      <td>Nicole Hansen</td>\n",
       "      <td>Canada</td>\n",
       "    </tr>\n",
       "    <tr>\n",
       "      <th>7</th>\n",
       "      <td>Giulietta Dortch</td>\n",
       "      <td>Caribbean</td>\n",
       "    </tr>\n",
       "    <tr>\n",
       "      <th>8</th>\n",
       "      <td>Nora Preis</td>\n",
       "      <td>Central Asia</td>\n",
       "    </tr>\n",
       "    <tr>\n",
       "      <th>9</th>\n",
       "      <td>Jack Lebron</td>\n",
       "      <td>North</td>\n",
       "    </tr>\n",
       "    <tr>\n",
       "      <th>10</th>\n",
       "      <td>Shirley Daniels</td>\n",
       "      <td>North Asia</td>\n",
       "    </tr>\n",
       "    <tr>\n",
       "      <th>11</th>\n",
       "      <td>Anthony Jacobs</td>\n",
       "      <td>Oceania</td>\n",
       "    </tr>\n",
       "    <tr>\n",
       "      <th>12</th>\n",
       "      <td>Alejandro Ballentine</td>\n",
       "      <td>Southeast Asia</td>\n",
       "    </tr>\n",
       "  </tbody>\n",
       "</table>\n",
       "</div>"
      ],
      "text/plain": [
       "                  Person          Region\n",
       "0          Anna Andreadi         Central\n",
       "1            Chuck Magee           South\n",
       "2         Kelly Williams            East\n",
       "3         Matt Collister            West\n",
       "4      Deborah Brumfield          Africa\n",
       "5           Larry Hughes            AMEA\n",
       "6          Nicole Hansen          Canada\n",
       "7       Giulietta Dortch       Caribbean\n",
       "8             Nora Preis    Central Asia\n",
       "9            Jack Lebron           North\n",
       "10       Shirley Daniels      North Asia\n",
       "11        Anthony Jacobs         Oceania\n",
       "12  Alejandro Ballentine  Southeast Asia"
      ]
     },
     "execution_count": 8,
     "metadata": {},
     "output_type": "execute_result"
    }
   ],
   "source": [
    "df_people"
   ]
  },
  {
   "cell_type": "code",
   "execution_count": 9,
   "id": "37fb3a0f",
   "metadata": {},
   "outputs": [],
   "source": [
    "# seems to be not relevant at all"
   ]
  },
  {
   "cell_type": "markdown",
   "id": "37218b0d",
   "metadata": {},
   "source": [
    "### Integration"
   ]
  },
  {
   "cell_type": "code",
   "execution_count": 10,
   "id": "6853f39d",
   "metadata": {},
   "outputs": [],
   "source": [
    "raw_df = df_orders.merge(\n",
    "    df_returns[[\"Order ID\", \"Returned\"]],\n",
    "    on=\"Order ID\",\n",
    "    how=\"left\",\n",
    ")"
   ]
  },
  {
   "cell_type": "code",
   "execution_count": 11,
   "id": "e6ea125a",
   "metadata": {},
   "outputs": [
    {
     "data": {
      "text/plain": [
       "Index(['Row ID', 'Order ID', 'Order Date', 'Ship Date', 'Ship Mode',\n",
       "       'Customer ID', 'Customer Name', 'Segment', 'City', 'State', 'Country',\n",
       "       'Postal Code', 'Market', 'Region', 'Product ID', 'Category',\n",
       "       'Sub-Category', 'Product Name', 'Sales', 'Quantity', 'Discount',\n",
       "       'Profit', 'Shipping Cost', 'Order Priority', 'Returned'],\n",
       "      dtype='object')"
      ]
     },
     "execution_count": 11,
     "metadata": {},
     "output_type": "execute_result"
    }
   ],
   "source": [
    "raw_df.columns\n"
   ]
  },
  {
   "cell_type": "code",
   "execution_count": 12,
   "id": "69857431",
   "metadata": {},
   "outputs": [],
   "source": [
    "# remove obviously useless columns\n",
    "raw_df.drop(columns=\"Row ID\", inplace=True)\n",
    "raw_df.drop(columns=\"Order ID\", inplace=True)"
   ]
  },
  {
   "cell_type": "code",
   "execution_count": 13,
   "id": "d0f4a4f3",
   "metadata": {},
   "outputs": [],
   "source": [
    "# anonymize customer name\n",
    "raw_df[\"Customer Name\"] = raw_df.apply(lambda x: hashlib.md5(x[\"Customer Name\"].encode()).hexdigest(), axis=1)"
   ]
  },
  {
   "cell_type": "markdown",
   "id": "377435b6",
   "metadata": {},
   "source": [
    "# Store"
   ]
  },
  {
   "cell_type": "code",
   "execution_count": 15,
   "id": "71ede14b",
   "metadata": {},
   "outputs": [
    {
     "name": "stderr",
     "output_type": "stream",
     "text": [
      "C:\\Users\\Marc\\AppData\\Local\\Programs\\Python\\Python39\\lib\\site-packages\\pandas\\core\\generic.py:2779: UserWarning: The spaces in these column names will not be changed. In pandas versions < 0.14, spaces were converted to underscores.\n",
      "  sql.to_sql(\n"
     ]
    }
   ],
   "source": [
    "conn = sql.connect(os.path.join(\"..\", DATA_FOLDER, db_name))\n",
    "raw_df.to_sql('superstore', conn, if_exists='replace')"
   ]
  },
  {
   "cell_type": "markdown",
   "id": "78b853a0",
   "metadata": {},
   "source": [
    " \n",
    "**_--------- notebook hier aufsplitten ----------_**\n",
    " \n"
   ]
  },
  {
   "cell_type": "code",
   "execution_count": 16,
   "id": "60b39051",
   "metadata": {},
   "outputs": [],
   "source": [
    "# machine learning modules\n",
    "from sklearn.model_selection import train_test_split\n",
    "\n",
    "from sklearn.pipeline import Pipeline\n",
    "from sklearn.compose import ColumnTransformer\n",
    "from sklearn.preprocessing import StandardScaler\n",
    "from sklearn.impute import SimpleImputer\n",
    "from sklearn.preprocessing import LabelBinarizer\n",
    "\n",
    "import statsmodels.formula.api as smf\n",
    "from sklearn.linear_model import LinearRegression, Ridge, Lasso"
   ]
  },
  {
   "cell_type": "markdown",
   "id": "253d5930",
   "metadata": {},
   "source": [
    "### Train-Test-Split"
   ]
  },
  {
   "cell_type": "code",
   "execution_count": 17,
   "id": "935199e9",
   "metadata": {},
   "outputs": [],
   "source": [
    "df_train, df_test = train_test_split(raw_df, random_state = randon_state)"
   ]
  },
  {
   "cell_type": "code",
   "execution_count": 18,
   "id": "3eff05c6",
   "metadata": {},
   "outputs": [
    {
     "name": "stdout",
     "output_type": "stream",
     "text": [
      "(38471, 23)\n",
      "(12824, 23)\n"
     ]
    }
   ],
   "source": [
    "print(df_train.shape)\n",
    "print(df_test.shape)"
   ]
  },
  {
   "cell_type": "markdown",
   "id": "3652111d",
   "metadata": {},
   "source": [
    "# Inspect"
   ]
  },
  {
   "cell_type": "code",
   "execution_count": 56,
   "id": "5916c8d1",
   "metadata": {
    "scrolled": true
   },
   "outputs": [
    {
     "data": {
      "text/html": [
       "<div>\n",
       "<style scoped>\n",
       "    .dataframe tbody tr th:only-of-type {\n",
       "        vertical-align: middle;\n",
       "    }\n",
       "\n",
       "    .dataframe tbody tr th {\n",
       "        vertical-align: top;\n",
       "    }\n",
       "\n",
       "    .dataframe thead th {\n",
       "        text-align: right;\n",
       "    }\n",
       "</style>\n",
       "<table border=\"1\" class=\"dataframe\">\n",
       "  <thead>\n",
       "    <tr style=\"text-align: right;\">\n",
       "      <th></th>\n",
       "      <th>Order Date</th>\n",
       "      <th>Ship Date</th>\n",
       "      <th>Ship Mode</th>\n",
       "      <th>Customer ID</th>\n",
       "      <th>Customer Name</th>\n",
       "      <th>Segment</th>\n",
       "      <th>City</th>\n",
       "      <th>State</th>\n",
       "      <th>Country</th>\n",
       "      <th>Postal Code</th>\n",
       "      <th>...</th>\n",
       "      <th>Sub-Category</th>\n",
       "      <th>Product Name</th>\n",
       "      <th>Sales</th>\n",
       "      <th>Quantity</th>\n",
       "      <th>Discount</th>\n",
       "      <th>Profit</th>\n",
       "      <th>Shipping Cost</th>\n",
       "      <th>Order Priority</th>\n",
       "      <th>Returned</th>\n",
       "      <th>ship_delay</th>\n",
       "    </tr>\n",
       "  </thead>\n",
       "  <tbody>\n",
       "    <tr>\n",
       "      <th>27507</th>\n",
       "      <td>2012-12-27</td>\n",
       "      <td>2012-12-31</td>\n",
       "      <td>Standard Class</td>\n",
       "      <td>SP-20860</td>\n",
       "      <td>a7d03c30d416fc5f7d695b495884fdd7</td>\n",
       "      <td>Corporate</td>\n",
       "      <td>Murfreesboro</td>\n",
       "      <td>Tennessee</td>\n",
       "      <td>United States</td>\n",
       "      <td>37130.0</td>\n",
       "      <td>...</td>\n",
       "      <td>Accessories</td>\n",
       "      <td>SanDisk Ultra 16 GB MicroSDHC Class 10 Memory ...</td>\n",
       "      <td>72.744</td>\n",
       "      <td>7</td>\n",
       "      <td>0.2</td>\n",
       "      <td>-12.7302</td>\n",
       "      <td>6.720</td>\n",
       "      <td>Medium</td>\n",
       "      <td>NaN</td>\n",
       "      <td>4</td>\n",
       "    </tr>\n",
       "    <tr>\n",
       "      <th>35511</th>\n",
       "      <td>2014-12-25</td>\n",
       "      <td>2015-01-01</td>\n",
       "      <td>Standard Class</td>\n",
       "      <td>JD-15895</td>\n",
       "      <td>1b2850c124acd1bc24237b4b5228b65e</td>\n",
       "      <td>Corporate</td>\n",
       "      <td>Oosterhout</td>\n",
       "      <td>North Brabant</td>\n",
       "      <td>Netherlands</td>\n",
       "      <td>NaN</td>\n",
       "      <td>...</td>\n",
       "      <td>Labels</td>\n",
       "      <td>Smead File Folder Labels, Adjustable</td>\n",
       "      <td>23.730</td>\n",
       "      <td>7</td>\n",
       "      <td>0.5</td>\n",
       "      <td>-21.0000</td>\n",
       "      <td>3.430</td>\n",
       "      <td>Low</td>\n",
       "      <td>NaN</td>\n",
       "      <td>7</td>\n",
       "    </tr>\n",
       "    <tr>\n",
       "      <th>9172</th>\n",
       "      <td>2012-05-08</td>\n",
       "      <td>2012-05-11</td>\n",
       "      <td>Second Class</td>\n",
       "      <td>AB-10600</td>\n",
       "      <td>6acab08bb2b385c8569adfd24730ee01</td>\n",
       "      <td>Corporate</td>\n",
       "      <td>Phnom Penh</td>\n",
       "      <td>Phnom Penh</td>\n",
       "      <td>Cambodia</td>\n",
       "      <td>NaN</td>\n",
       "      <td>...</td>\n",
       "      <td>Bookcases</td>\n",
       "      <td>Dania Corner Shelving, Pine</td>\n",
       "      <td>617.100</td>\n",
       "      <td>5</td>\n",
       "      <td>0.0</td>\n",
       "      <td>172.6500</td>\n",
       "      <td>36.380</td>\n",
       "      <td>Medium</td>\n",
       "      <td>NaN</td>\n",
       "      <td>3</td>\n",
       "    </tr>\n",
       "    <tr>\n",
       "      <th>31366</th>\n",
       "      <td>2011-06-30</td>\n",
       "      <td>2011-07-02</td>\n",
       "      <td>Second Class</td>\n",
       "      <td>GH-14410</td>\n",
       "      <td>1528a0a296f3ecf500753855ea9a21a5</td>\n",
       "      <td>Home Office</td>\n",
       "      <td>Lima</td>\n",
       "      <td>Lima (city)</td>\n",
       "      <td>Peru</td>\n",
       "      <td>NaN</td>\n",
       "      <td>...</td>\n",
       "      <td>Chairs</td>\n",
       "      <td>Hon Bag Chairs, Red</td>\n",
       "      <td>54.180</td>\n",
       "      <td>3</td>\n",
       "      <td>0.4</td>\n",
       "      <td>-32.5200</td>\n",
       "      <td>4.919</td>\n",
       "      <td>Medium</td>\n",
       "      <td>Yes</td>\n",
       "      <td>2</td>\n",
       "    </tr>\n",
       "    <tr>\n",
       "      <th>24465</th>\n",
       "      <td>2013-06-23</td>\n",
       "      <td>2013-06-26</td>\n",
       "      <td>First Class</td>\n",
       "      <td>KW-16435</td>\n",
       "      <td>648a7c6f93ee0f453ee1378466a84ff8</td>\n",
       "      <td>Consumer</td>\n",
       "      <td>London</td>\n",
       "      <td>England</td>\n",
       "      <td>United Kingdom</td>\n",
       "      <td>NaN</td>\n",
       "      <td>...</td>\n",
       "      <td>Storage</td>\n",
       "      <td>Fellowes Box, Wire Frame</td>\n",
       "      <td>50.625</td>\n",
       "      <td>3</td>\n",
       "      <td>0.1</td>\n",
       "      <td>20.2050</td>\n",
       "      <td>8.570</td>\n",
       "      <td>Medium</td>\n",
       "      <td>NaN</td>\n",
       "      <td>3</td>\n",
       "    </tr>\n",
       "  </tbody>\n",
       "</table>\n",
       "<p>5 rows × 24 columns</p>\n",
       "</div>"
      ],
      "text/plain": [
       "      Order Date  Ship Date       Ship Mode Customer ID  \\\n",
       "27507 2012-12-27 2012-12-31  Standard Class    SP-20860   \n",
       "35511 2014-12-25 2015-01-01  Standard Class    JD-15895   \n",
       "9172  2012-05-08 2012-05-11    Second Class    AB-10600   \n",
       "31366 2011-06-30 2011-07-02    Second Class    GH-14410   \n",
       "24465 2013-06-23 2013-06-26     First Class    KW-16435   \n",
       "\n",
       "                          Customer Name      Segment          City  \\\n",
       "27507  a7d03c30d416fc5f7d695b495884fdd7    Corporate  Murfreesboro   \n",
       "35511  1b2850c124acd1bc24237b4b5228b65e    Corporate    Oosterhout   \n",
       "9172   6acab08bb2b385c8569adfd24730ee01    Corporate    Phnom Penh   \n",
       "31366  1528a0a296f3ecf500753855ea9a21a5  Home Office          Lima   \n",
       "24465  648a7c6f93ee0f453ee1378466a84ff8     Consumer        London   \n",
       "\n",
       "               State         Country  Postal Code  ... Sub-Category  \\\n",
       "27507      Tennessee   United States      37130.0  ...  Accessories   \n",
       "35511  North Brabant     Netherlands          NaN  ...       Labels   \n",
       "9172      Phnom Penh        Cambodia          NaN  ...    Bookcases   \n",
       "31366    Lima (city)            Peru          NaN  ...       Chairs   \n",
       "24465        England  United Kingdom          NaN  ...      Storage   \n",
       "\n",
       "                                            Product Name    Sales Quantity  \\\n",
       "27507  SanDisk Ultra 16 GB MicroSDHC Class 10 Memory ...   72.744        7   \n",
       "35511               Smead File Folder Labels, Adjustable   23.730        7   \n",
       "9172                         Dania Corner Shelving, Pine  617.100        5   \n",
       "31366                                Hon Bag Chairs, Red   54.180        3   \n",
       "24465                           Fellowes Box, Wire Frame   50.625        3   \n",
       "\n",
       "      Discount    Profit  Shipping Cost  Order Priority  Returned  ship_delay  \n",
       "27507      0.2  -12.7302          6.720          Medium       NaN           4  \n",
       "35511      0.5  -21.0000          3.430             Low       NaN           7  \n",
       "9172       0.0  172.6500         36.380          Medium       NaN           3  \n",
       "31366      0.4  -32.5200          4.919          Medium       Yes           2  \n",
       "24465      0.1   20.2050          8.570          Medium       NaN           3  \n",
       "\n",
       "[5 rows x 24 columns]"
      ]
     },
     "execution_count": 56,
     "metadata": {},
     "output_type": "execute_result"
    }
   ],
   "source": [
    "df_train.head()"
   ]
  },
  {
   "cell_type": "code",
   "execution_count": 57,
   "id": "42239839",
   "metadata": {
    "scrolled": true
   },
   "outputs": [
    {
     "data": {
      "text/plain": [
       "Index(['Order Date', 'Ship Date', 'Ship Mode', 'Customer ID', 'Customer Name',\n",
       "       'Segment', 'City', 'State', 'Country', 'Postal Code', 'Market',\n",
       "       'Region', 'Product ID', 'Category', 'Sub-Category', 'Product Name',\n",
       "       'Sales', 'Quantity', 'Discount', 'Profit', 'Shipping Cost',\n",
       "       'Order Priority', 'Returned', 'ship_delay'],\n",
       "      dtype='object')"
      ]
     },
     "execution_count": 57,
     "metadata": {},
     "output_type": "execute_result"
    }
   ],
   "source": [
    "df_train.columns"
   ]
  },
  {
   "cell_type": "markdown",
   "id": "f7d66028",
   "metadata": {},
   "source": [
    "### Target Column"
   ]
  },
  {
   "cell_type": "markdown",
   "id": "b8391406",
   "metadata": {},
   "source": [
    "Time between order and shipment in days"
   ]
  },
  {
   "cell_type": "code",
   "execution_count": 58,
   "id": "c5c9becd",
   "metadata": {},
   "outputs": [
    {
     "name": "stderr",
     "output_type": "stream",
     "text": [
      "<ipython-input-58-7ec150f686c2>:1: SettingWithCopyWarning: \n",
      "A value is trying to be set on a copy of a slice from a DataFrame.\n",
      "Try using .loc[row_indexer,col_indexer] = value instead\n",
      "\n",
      "See the caveats in the documentation: https://pandas.pydata.org/pandas-docs/stable/user_guide/indexing.html#returning-a-view-versus-a-copy\n",
      "  df_train['ship_delay'] = df_train.apply(lambda x: (x[\"Ship Date\"]-x['Order Date']).days, axis=1)\n"
     ]
    }
   ],
   "source": [
    "df_train['ship_delay'] = df_train.apply(lambda x: (x[\"Ship Date\"]-x['Order Date']).days, axis=1)"
   ]
  },
  {
   "cell_type": "code",
   "execution_count": 59,
   "id": "82bd5bd0",
   "metadata": {},
   "outputs": [
    {
     "data": {
      "text/html": [
       "<div>\n",
       "<style scoped>\n",
       "    .dataframe tbody tr th:only-of-type {\n",
       "        vertical-align: middle;\n",
       "    }\n",
       "\n",
       "    .dataframe tbody tr th {\n",
       "        vertical-align: top;\n",
       "    }\n",
       "\n",
       "    .dataframe thead th {\n",
       "        text-align: right;\n",
       "    }\n",
       "</style>\n",
       "<table border=\"1\" class=\"dataframe\">\n",
       "  <thead>\n",
       "    <tr style=\"text-align: right;\">\n",
       "      <th></th>\n",
       "      <th>Order Date</th>\n",
       "      <th>Ship Date</th>\n",
       "      <th>ship_delay</th>\n",
       "    </tr>\n",
       "  </thead>\n",
       "  <tbody>\n",
       "    <tr>\n",
       "      <th>27507</th>\n",
       "      <td>2012-12-27</td>\n",
       "      <td>2012-12-31</td>\n",
       "      <td>4</td>\n",
       "    </tr>\n",
       "    <tr>\n",
       "      <th>35511</th>\n",
       "      <td>2014-12-25</td>\n",
       "      <td>2015-01-01</td>\n",
       "      <td>7</td>\n",
       "    </tr>\n",
       "    <tr>\n",
       "      <th>9172</th>\n",
       "      <td>2012-05-08</td>\n",
       "      <td>2012-05-11</td>\n",
       "      <td>3</td>\n",
       "    </tr>\n",
       "    <tr>\n",
       "      <th>31366</th>\n",
       "      <td>2011-06-30</td>\n",
       "      <td>2011-07-02</td>\n",
       "      <td>2</td>\n",
       "    </tr>\n",
       "    <tr>\n",
       "      <th>24465</th>\n",
       "      <td>2013-06-23</td>\n",
       "      <td>2013-06-26</td>\n",
       "      <td>3</td>\n",
       "    </tr>\n",
       "  </tbody>\n",
       "</table>\n",
       "</div>"
      ],
      "text/plain": [
       "      Order Date  Ship Date  ship_delay\n",
       "27507 2012-12-27 2012-12-31           4\n",
       "35511 2014-12-25 2015-01-01           7\n",
       "9172  2012-05-08 2012-05-11           3\n",
       "31366 2011-06-30 2011-07-02           2\n",
       "24465 2013-06-23 2013-06-26           3"
      ]
     },
     "execution_count": 59,
     "metadata": {},
     "output_type": "execute_result"
    }
   ],
   "source": [
    "df_train[[\"Order Date\", \"Ship Date\", \"ship_delay\"]].head()"
   ]
  },
  {
   "cell_type": "code",
   "execution_count": 63,
   "id": "f4603985",
   "metadata": {
    "scrolled": false
   },
   "outputs": [
    {
     "data": {
      "text/plain": [
       "<AxesSubplot:>"
      ]
     },
     "execution_count": 63,
     "metadata": {},
     "output_type": "execute_result"
    },
    {
     "data": {
      "image/png": "[encoded data removed]",
      "text/plain": [
       "<Figure size 1080x288 with 1 Axes>"
      ]
     },
     "metadata": {
      "needs_background": "light"
     },
     "output_type": "display_data"
    }
   ],
   "source": [
    "df_train[\"ship_delay\"].value_counts().plot.bar()"
   ]
  },
  {
   "cell_type": "code",
   "execution_count": null,
   "id": "63c0a92b",
   "metadata": {},
   "outputs": [],
   "source": []
  },
  {
   "cell_type": "markdown",
   "id": "38d28fad",
   "metadata": {},
   "source": [
    "### Profiling"
   ]
  },
  {
   "cell_type": "code",
   "execution_count": 61,
   "id": "f8e36402",
   "metadata": {},
   "outputs": [],
   "source": [
    "profile = df_train.profile_report(title='Pandas Profiling Report')"
   ]
  },
  {
   "cell_type": "code",
   "execution_count": 62,
   "id": "6e0dd8e2",
   "metadata": {},
   "outputs": [
    {
     "data": {
      "application/vnd.jupyter.widget-view+json": {
       "model_id": "c6d15a1dc9ed47a29652acded53cf160",
       "version_major": 2,
       "version_minor": 0
      },
      "text/plain": [
       "Summarize dataset:   0%|          | 0/38 [00:00<?, ?it/s]"
      ]
     },
     "metadata": {},
     "output_type": "display_data"
    },
    {
     "data": {
      "application/vnd.jupyter.widget-view+json": {
       "model_id": "f481c935d1c94f76b176b71581142b59",
       "version_major": 2,
       "version_minor": 0
      },
      "text/plain": [
       "Generate report structure:   0%|          | 0/1 [00:00<?, ?it/s]"
      ]
     },
     "metadata": {},
     "output_type": "display_data"
    },
    {
     "data": {
      "application/vnd.jupyter.widget-view+json": {
       "model_id": "21453d6ca030469c953616077619daa0",
       "version_major": 2,
       "version_minor": 0
      },
      "text/plain": [
       "Render HTML:   0%|          | 0/1 [00:00<?, ?it/s]"
      ]
     },
     "metadata": {},
     "output_type": "display_data"
    },
    {
     "data": {
      "application/vnd.jupyter.widget-view+json": {
       "model_id": "0e5e5a846b364fd696e4cef5886a99dc",
       "version_major": 2,
       "version_minor": 0
      },
      "text/plain": [
       "Export report to file:   0%|          | 0/1 [00:00<?, ?it/s]"
      ]
     },
     "metadata": {},
     "output_type": "display_data"
    }
   ],
   "source": [
    "profile.to_file(output_file=os.path.join(\"..\", OUTPUT_FOLDER, \"data_profile.html\"))"
   ]
  },
  {
   "cell_type": "markdown",
   "id": "1379a939",
   "metadata": {},
   "source": [
    "### Missings"
   ]
  },
  {
   "cell_type": "code",
   "execution_count": 23,
   "id": "f40925fb",
   "metadata": {},
   "outputs": [
    {
     "data": {
      "text/plain": [
       "Order Date            0\n",
       "Ship Date             0\n",
       "Ship Mode             0\n",
       "Customer ID           0\n",
       "Customer Name         0\n",
       "Segment               0\n",
       "City                  0\n",
       "State                 0\n",
       "Country               0\n",
       "Postal Code       30915\n",
       "Market                0\n",
       "Region                0\n",
       "Product ID            0\n",
       "Category              0\n",
       "Sub-Category          0\n",
       "Product Name          0\n",
       "Sales                 0\n",
       "Quantity              0\n",
       "Discount              0\n",
       "Profit                0\n",
       "Shipping Cost         0\n",
       "Order Priority        0\n",
       "Returned          36159\n",
       "dtype: int64"
      ]
     },
     "execution_count": 23,
     "metadata": {},
     "output_type": "execute_result"
    }
   ],
   "source": [
    "df_train.isnull().sum()"
   ]
  },
  {
   "cell_type": "markdown",
   "id": "51a0e1d3",
   "metadata": {},
   "source": [
    "Postal Code ==> useless"
   ]
  },
  {
   "cell_type": "markdown",
   "id": "4aef60aa",
   "metadata": {},
   "source": [
    "### Columnwise Inspection"
   ]
  },
  {
   "cell_type": "markdown",
   "id": "d4f089f8",
   "metadata": {},
   "source": [
    "#### Ship Date, Order Date"
   ]
  },
  {
   "cell_type": "code",
   "execution_count": 24,
   "id": "4c9150cb",
   "metadata": {
    "scrolled": true
   },
   "outputs": [
    {
     "data": {
      "text/plain": [
       "<AxesSubplot:xlabel='Count', ylabel='Order Date'>"
      ]
     },
     "execution_count": 24,
     "metadata": {},
     "output_type": "execute_result"
    },
    {
     "data": {
      "image/png": "[encoded data removed]",
      "text/plain": [
       "<Figure size 1080x288 with 2 Axes>"
      ]
     },
     "metadata": {
      "needs_background": "light"
     },
     "output_type": "display_data"
    }
   ],
   "source": [
    "from matplotlib import pyplot as plt\n",
    "plt.rcParams[\"figure.figsize\"] = [15, 4]\n",
    "f, axes = plt.subplots(1, 2)\n",
    "\n",
    "sns.histplot(data=df_train, y=\"Ship Date\", ax=axes[0])\n",
    "sns.histplot(data=df_train, y=\"Order Date\", ax=axes[1])"
   ]
  },
  {
   "cell_type": "markdown",
   "id": "9618af87",
   "metadata": {},
   "source": [
    "#### Ship Mode"
   ]
  },
  {
   "cell_type": "code",
   "execution_count": null,
   "id": "a611508b",
   "metadata": {},
   "outputs": [],
   "source": [
    "df_train[\"Ship Mode\"].value_counts()"
   ]
  },
  {
   "cell_type": "markdown",
   "id": "132fadf4",
   "metadata": {},
   "source": [
    "* Predestined for OneHotEncoder"
   ]
  },
  {
   "cell_type": "markdown",
   "id": "557590ea",
   "metadata": {},
   "source": [
    "#### Customer ID, Customer Name"
   ]
  },
  {
   "cell_type": "code",
   "execution_count": 67,
   "id": "4e59f5ee",
   "metadata": {},
   "outputs": [
    {
     "name": "stdout",
     "output_type": "stream",
     "text": [
      "Unique values: 1587\n",
      "Total values: 38471\n"
     ]
    }
   ],
   "source": [
    "print(\"Unique values:\", len(set(df_train[\"Customer ID\"])))\n",
    "print(\"Total values:\", len(df_train[\"Customer ID\"]))"
   ]
  },
  {
   "cell_type": "code",
   "execution_count": 66,
   "id": "fc78b59e",
   "metadata": {},
   "outputs": [
    {
     "name": "stdout",
     "output_type": "stream",
     "text": [
      "Unique values: 795\n",
      "Total values: 38471\n"
     ]
    }
   ],
   "source": [
    "print(\"Unique values:\", len(set(df_train[\"Customer Name\"])))\n",
    "print(\"Total values:\", len(df_train[\"Customer Name\"]))"
   ]
  },
  {
   "cell_type": "markdown",
   "id": "e1e8d424",
   "metadata": {},
   "source": [
    "* not useless at all... classification?\n",
    "\n",
    "* customer may have nothing to do with the shipment delay (cannot be caused by the customer)"
   ]
  },
  {
   "cell_type": "markdown",
   "id": "712bca37",
   "metadata": {},
   "source": [
    "#### Segment"
   ]
  },
  {
   "cell_type": "code",
   "execution_count": 65,
   "id": "da1a57fe",
   "metadata": {},
   "outputs": [
    {
     "data": {
      "text/plain": [
       "Consumer       20019\n",
       "Corporate      11471\n",
       "Home Office     6981\n",
       "Name: Segment, dtype: int64"
      ]
     },
     "execution_count": 65,
     "metadata": {},
     "output_type": "execute_result"
    }
   ],
   "source": [
    "df_train[\"Segment\"].value_counts()"
   ]
  },
  {
   "cell_type": "markdown",
   "id": "4277c820",
   "metadata": {},
   "source": [
    "=> OneHotEncoder"
   ]
  },
  {
   "cell_type": "markdown",
   "id": "948d40e8",
   "metadata": {},
   "source": [
    "#### City, State, Country"
   ]
  },
  {
   "cell_type": "code",
   "execution_count": 68,
   "id": "da337db3",
   "metadata": {},
   "outputs": [
    {
     "name": "stdout",
     "output_type": "stream",
     "text": [
      "Unique values City: 3475\n",
      "Unique values State: 1072\n",
      "Total values: 38471\n"
     ]
    }
   ],
   "source": [
    "print(\"Unique values City:\", len(set(df_train[\"City\"])))\n",
    "print(\"Unique values State:\", len(set(df_train[\"State\"])))\n",
    "print(\"Total values:\", len(df_train[\"State\"]))"
   ]
  },
  {
   "cell_type": "code",
   "execution_count": 69,
   "id": "0d31401c",
   "metadata": {
    "scrolled": true
   },
   "outputs": [
    {
     "data": {
      "text/plain": [
       "United States        7556\n",
       "Australia            2137\n",
       "France               2114\n",
       "Mexico               2012\n",
       "Germany              1570\n",
       "                     ... \n",
       "Equatorial Guinea       2\n",
       "Chad                    1\n",
       "Tajikistan              1\n",
       "Burundi                 1\n",
       "South Sudan             1\n",
       "Name: Country, Length: 147, dtype: int64"
      ]
     },
     "execution_count": 69,
     "metadata": {},
     "output_type": "execute_result"
    }
   ],
   "source": [
    "df_train[\"Country\"].value_counts()"
   ]
  },
  {
   "cell_type": "markdown",
   "id": "0100364c",
   "metadata": {},
   "source": [
    "=> Too high cardinality"
   ]
  },
  {
   "cell_type": "markdown",
   "id": "cb09cdf3",
   "metadata": {},
   "source": [
    "#### Postal Code"
   ]
  },
  {
   "cell_type": "markdown",
   "id": "ca07598d",
   "metadata": {},
   "source": [
    "useless due to missing values"
   ]
  },
  {
   "cell_type": "markdown",
   "id": "3a8f5401",
   "metadata": {},
   "source": [
    "#### Market"
   ]
  },
  {
   "cell_type": "code",
   "execution_count": 70,
   "id": "034a131a",
   "metadata": {},
   "outputs": [
    {
     "data": {
      "text/plain": [
       "<AxesSubplot:ylabel='Market'>"
      ]
     },
     "execution_count": 70,
     "metadata": {},
     "output_type": "execute_result"
    },
    {
     "data": {
      "image/png": "[encoded data removed]",
      "text/plain": [
       "<Figure size 1080x288 with 1 Axes>"
      ]
     },
     "metadata": {},
     "output_type": "display_data"
    }
   ],
   "source": [
    "df_train[\"Market\"].value_counts().plot.pie()"
   ]
  },
  {
   "cell_type": "markdown",
   "id": "a777b4a1",
   "metadata": {},
   "source": [
    "* looks interesting, OneHotEncoder; there may be differences in the regions"
   ]
  },
  {
   "cell_type": "markdown",
   "id": "a91da72f",
   "metadata": {},
   "source": [
    "#### Region"
   ]
  },
  {
   "cell_type": "code",
   "execution_count": 71,
   "id": "b10301ee",
   "metadata": {},
   "outputs": [
    {
     "data": {
      "text/plain": [
       "<AxesSubplot:ylabel='Region'>"
      ]
     },
     "execution_count": 71,
     "metadata": {},
     "output_type": "execute_result"
    },
    {
     "data": {
      "image/png": "[encoded data removed]",
      "text/plain": [
       "<Figure size 1080x288 with 1 Axes>"
      ]
     },
     "metadata": {},
     "output_type": "display_data"
    }
   ],
   "source": [
    "df_train[\"Region\"].value_counts().plot.pie()"
   ]
  },
  {
   "cell_type": "markdown",
   "id": "7ed2a67d",
   "metadata": {},
   "source": [
    "* almost the same as market, but more detailed"
   ]
  },
  {
   "cell_type": "markdown",
   "id": "835ab745",
   "metadata": {},
   "source": [
    "#### Product ID, Product Name"
   ]
  },
  {
   "cell_type": "code",
   "execution_count": 74,
   "id": "bb08967d",
   "metadata": {},
   "outputs": [
    {
     "data": {
      "text/plain": [
       "27507    TEC-AC-10004227\n",
       "35511    OFF-LA-10003699\n",
       "9172     FUR-BO-10000112\n",
       "31366    FUR-CH-10004338\n",
       "24465    OFF-ST-10001646\n",
       "              ...       \n",
       "11284    FUR-BO-10001483\n",
       "44732    OFF-LA-10002015\n",
       "38158    OFF-LA-10004894\n",
       "860      TEC-CO-10002009\n",
       "15795    OFF-PA-10002725\n",
       "Name: Product ID, Length: 38471, dtype: object"
      ]
     },
     "execution_count": 74,
     "metadata": {},
     "output_type": "execute_result"
    }
   ],
   "source": [
    "df_train[\"Product ID\"]"
   ]
  },
  {
   "cell_type": "code",
   "execution_count": 73,
   "id": "12930eb1",
   "metadata": {},
   "outputs": [
    {
     "data": {
      "text/plain": [
       "27507    SanDisk Ultra 16 GB MicroSDHC Class 10 Memory ...\n",
       "35511                 Smead File Folder Labels, Adjustable\n",
       "9172                           Dania Corner Shelving, Pine\n",
       "31366                                  Hon Bag Chairs, Red\n",
       "24465                             Fellowes Box, Wire Frame\n",
       "                               ...                        \n",
       "11284                          Bush Corner Shelving, Metal\n",
       "44732                       Hon Round Labels, Alphabetical\n",
       "38158                    Hon Shipping Labels, Alphabetical\n",
       "860                       Brother Wireless Fax, High-Speed\n",
       "15795                     Eaton Cards & Envelopes, Premium\n",
       "Name: Product Name, Length: 38471, dtype: object"
      ]
     },
     "execution_count": 73,
     "metadata": {},
     "output_type": "execute_result"
    }
   ],
   "source": [
    "df_train[\"Product Name\"]"
   ]
  },
  {
   "cell_type": "markdown",
   "id": "e8c4076a",
   "metadata": {},
   "source": [
    "* Obviously too detailed"
   ]
  },
  {
   "cell_type": "markdown",
   "id": "cf3639aa",
   "metadata": {},
   "source": [
    "#### Sales, Discount, Profit"
   ]
  },
  {
   "cell_type": "code",
   "execution_count": 79,
   "id": "bbf05d7d",
   "metadata": {},
   "outputs": [
    {
     "data": {
      "text/plain": [
       "<AxesSubplot:xlabel='Sales', ylabel='Count'>"
      ]
     },
     "execution_count": 79,
     "metadata": {},
     "output_type": "execute_result"
    },
    {
     "data": {
      "image/png": "[encoded data removed]",
      "text/plain": [
       "<Figure size 1080x288 with 1 Axes>"
      ]
     },
     "metadata": {
      "needs_background": "light"
     },
     "output_type": "display_data"
    }
   ],
   "source": [
    "sns.histplot(data=df_train, x=\"Sales\")"
   ]
  },
  {
   "cell_type": "code",
   "execution_count": 78,
   "id": "23f39125",
   "metadata": {},
   "outputs": [
    {
     "data": {
      "text/plain": [
       "<AxesSubplot:xlabel='Sales', ylabel='Count'>"
      ]
     },
     "execution_count": 78,
     "metadata": {},
     "output_type": "execute_result"
    },
    {
     "data": {
      "image/png": "[encoded data removed]",
      "text/plain": [
       "<Figure size 1080x288 with 1 Axes>"
      ]
     },
     "metadata": {
      "needs_background": "light"
     },
     "output_type": "display_data"
    }
   ],
   "source": [
    "sns.histplot(data=df_train, x=\"Sales\", log_scale=True)"
   ]
  },
  {
   "cell_type": "code",
   "execution_count": 82,
   "id": "e07a0e3a",
   "metadata": {},
   "outputs": [
    {
     "data": {
      "text/plain": [
       "-4088.3759999999997"
      ]
     },
     "execution_count": 82,
     "metadata": {},
     "output_type": "execute_result"
    }
   ],
   "source": [
    "df_train[\"Profit\"].min()"
   ]
  },
  {
   "cell_type": "code",
   "execution_count": 83,
   "id": "b0efbadb",
   "metadata": {},
   "outputs": [
    {
     "data": {
      "text/plain": [
       "8399.975999999999"
      ]
     },
     "execution_count": 83,
     "metadata": {},
     "output_type": "execute_result"
    }
   ],
   "source": [
    "df_train[\"Profit\"].max()"
   ]
  },
  {
   "cell_type": "code",
   "execution_count": 95,
   "id": "7339f9c7",
   "metadata": {},
   "outputs": [
    {
     "data": {
      "text/plain": [
       "[None]"
      ]
     },
     "execution_count": 95,
     "metadata": {},
     "output_type": "execute_result"
    },
    {
     "data": {
      "image/png": "[encoded data removed]",
      "text/plain": [
       "<Figure size 1080x288 with 1 Axes>"
      ]
     },
     "metadata": {
      "needs_background": "light"
     },
     "output_type": "display_data"
    }
   ],
   "source": [
    "sns.histplot(df_train[\"Profit\"]).set(yscale=\"log\")"
   ]
  },
  {
   "cell_type": "code",
   "execution_count": null,
   "id": "c370c73c",
   "metadata": {},
   "outputs": [],
   "source": []
  },
  {
   "cell_type": "code",
   "execution_count": null,
   "id": "eab3fd02",
   "metadata": {},
   "outputs": [],
   "source": []
  },
  {
   "cell_type": "code",
   "execution_count": null,
   "id": "6a8e247b",
   "metadata": {},
   "outputs": [],
   "source": [
    "# select potentially useful columns\n",
    "useful_columns = [\"\"]\n",
    "df_inspect = df_train[useful_columns]"
   ]
  },
  {
   "cell_type": "code",
   "execution_count": null,
   "id": "140befed",
   "metadata": {},
   "outputs": [],
   "source": [
    "#df_inspect.reset_index(drop=True, inplace=True)\n"
   ]
  },
  {
   "cell_type": "code",
   "execution_count": null,
   "id": "14594335",
   "metadata": {},
   "outputs": [],
   "source": [
    "#df_inspect.loc[:,\"\"] = LabelBinarizer().fit_transform(df_inspect[\"flirtInterests_date\"])"
   ]
  },
  {
   "cell_type": "code",
   "execution_count": null,
   "id": "56ababa4",
   "metadata": {
    "scrolled": true
   },
   "outputs": [],
   "source": [
    "#sns.pairplot(data=df_inspect)"
   ]
  },
  {
   "cell_type": "code",
   "execution_count": null,
   "id": "1b24e735",
   "metadata": {},
   "outputs": [],
   "source": [
    "#sns.heatmap(df_inspect.corr())"
   ]
  },
  {
   "cell_type": "code",
   "execution_count": null,
   "id": "0dff4d5c",
   "metadata": {},
   "outputs": [],
   "source": [
    "#model = smf.ols(formula=\"target ~ a + b + c\", data=df_inspect)\n",
    "#results = model.fit()\n",
    "#print(results.summary())"
   ]
  },
  {
   "cell_type": "code",
   "execution_count": null,
   "id": "3d7f63f6",
   "metadata": {},
   "outputs": [],
   "source": []
  }
 ],
 "metadata": {
  "kernelspec": {
   "display_name": "Python 3.9.4 64-bit",
   "language": "python",
   "name": "python394jvsc74a57bd0f228753f02b6bcec550021ad01f9964bb2298ebd1b1709942fc8265c3e080479"
  },
  "language_info": {
   "codemirror_mode": {
    "name": "ipython",
    "version": 3
   },
   "file_extension": ".py",
   "mimetype": "text/x-python",
   "name": "python",
   "nbconvert_exporter": "python",
   "pygments_lexer": "ipython3",
   "version": "3.9.4"
  }
 },
 "nbformat": 4,
 "nbformat_minor": 5
}
