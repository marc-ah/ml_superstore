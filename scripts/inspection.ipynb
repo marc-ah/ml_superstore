{
 "cells": [
  {
   "cell_type": "markdown",
   "id": "c1df34c1",
   "metadata": {},
   "source": [
    "# Prepare"
   ]
  },
  {
   "cell_type": "code",
   "execution_count": 1,
   "id": "71b37a0c",
   "metadata": {},
   "outputs": [],
   "source": [
    "# general modules\n",
    "import pandas as pd\n",
    "import sqlite3 \n",
    "import os\n",
    "import pandas_profiling\n",
    "import seaborn as sns\n",
    "import sqlite3 as sql\n",
    "import hashlib"
   ]
  },
  {
   "cell_type": "code",
   "execution_count": 2,
   "id": "6b7d9604",
   "metadata": {},
   "outputs": [],
   "source": [
    "# variables\n",
    "INPUT_FOLDER = \"input\"\n",
    "OUTPUT_FOLDER = \"output\"\n",
    "DATA_FOLDER = \"data\"\n",
    "\n",
    "xl_name = \"global-superstore.xls\" \n",
    "db_name = \"superstore.db\"\n",
    "\n",
    "randon_state = 42"
   ]
  },
  {
   "cell_type": "markdown",
   "id": "2dfc0c21",
   "metadata": {},
   "source": [
    "# Import"
   ]
  },
  {
   "cell_type": "code",
   "execution_count": 3,
   "id": "e2aab164",
   "metadata": {},
   "outputs": [],
   "source": [
    "df_orders = pd.read_excel(os.path.join(\"..\", INPUT_FOLDER, xl_name), sheet_name=\"Orders\")\n",
    "df_returns = pd.read_excel(os.path.join(\"..\", INPUT_FOLDER, xl_name), sheet_name=\"Returns\")\n",
    "df_people = pd.read_excel(os.path.join(\"..\", INPUT_FOLDER, xl_name), sheet_name=\"People\")"
   ]
  },
  {
   "cell_type": "markdown",
   "id": "94276015",
   "metadata": {},
   "source": [
    "### Column Inspection"
   ]
  },
  {
   "cell_type": "code",
   "execution_count": 4,
   "id": "faebd124",
   "metadata": {
    "scrolled": true
   },
   "outputs": [
    {
     "data": {
      "text/plain": [
       "Index(['Row ID', 'Order ID', 'Order Date', 'Ship Date', 'Ship Mode',\n",
       "       'Customer ID', 'Customer Name', 'Segment', 'City', 'State', 'Country',\n",
       "       'Postal Code', 'Market', 'Region', 'Product ID', 'Category',\n",
       "       'Sub-Category', 'Product Name', 'Sales', 'Quantity', 'Discount',\n",
       "       'Profit', 'Shipping Cost', 'Order Priority'],\n",
       "      dtype='object')"
      ]
     },
     "execution_count": 4,
     "metadata": {},
     "output_type": "execute_result"
    }
   ],
   "source": [
    "df_orders.columns"
   ]
  },
  {
   "cell_type": "code",
   "execution_count": 5,
   "id": "ae98ef49",
   "metadata": {},
   "outputs": [
    {
     "data": {
      "text/plain": [
       "Index(['Returned', 'Order ID', 'Market'], dtype='object')"
      ]
     },
     "execution_count": 5,
     "metadata": {},
     "output_type": "execute_result"
    }
   ],
   "source": [
    "df_returns.columns"
   ]
  },
  {
   "cell_type": "code",
   "execution_count": 6,
   "id": "cf845221",
   "metadata": {},
   "outputs": [
    {
     "data": {
      "text/plain": [
       "Index(['Person', 'Region'], dtype='object')"
      ]
     },
     "execution_count": 6,
     "metadata": {},
     "output_type": "execute_result"
    }
   ],
   "source": [
    "df_people.columns"
   ]
  },
  {
   "cell_type": "code",
   "execution_count": 7,
   "id": "03921fb1",
   "metadata": {},
   "outputs": [
    {
     "data": {
      "text/html": [
       "<div>\n",
       "<style scoped>\n",
       "    .dataframe tbody tr th:only-of-type {\n",
       "        vertical-align: middle;\n",
       "    }\n",
       "\n",
       "    .dataframe tbody tr th {\n",
       "        vertical-align: top;\n",
       "    }\n",
       "\n",
       "    .dataframe thead th {\n",
       "        text-align: right;\n",
       "    }\n",
       "</style>\n",
       "<table border=\"1\" class=\"dataframe\">\n",
       "  <thead>\n",
       "    <tr style=\"text-align: right;\">\n",
       "      <th></th>\n",
       "      <th>Person</th>\n",
       "      <th>Region</th>\n",
       "    </tr>\n",
       "  </thead>\n",
       "  <tbody>\n",
       "    <tr>\n",
       "      <th>0</th>\n",
       "      <td>Anna Andreadi</td>\n",
       "      <td>Central</td>\n",
       "    </tr>\n",
       "    <tr>\n",
       "      <th>1</th>\n",
       "      <td>Chuck Magee</td>\n",
       "      <td>South</td>\n",
       "    </tr>\n",
       "    <tr>\n",
       "      <th>2</th>\n",
       "      <td>Kelly Williams</td>\n",
       "      <td>East</td>\n",
       "    </tr>\n",
       "    <tr>\n",
       "      <th>3</th>\n",
       "      <td>Matt Collister</td>\n",
       "      <td>West</td>\n",
       "    </tr>\n",
       "    <tr>\n",
       "      <th>4</th>\n",
       "      <td>Deborah Brumfield</td>\n",
       "      <td>Africa</td>\n",
       "    </tr>\n",
       "    <tr>\n",
       "      <th>5</th>\n",
       "      <td>Larry Hughes</td>\n",
       "      <td>AMEA</td>\n",
       "    </tr>\n",
       "    <tr>\n",
       "      <th>6</th>\n",
       "      <td>Nicole Hansen</td>\n",
       "      <td>Canada</td>\n",
       "    </tr>\n",
       "    <tr>\n",
       "      <th>7</th>\n",
       "      <td>Giulietta Dortch</td>\n",
       "      <td>Caribbean</td>\n",
       "    </tr>\n",
       "    <tr>\n",
       "      <th>8</th>\n",
       "      <td>Nora Preis</td>\n",
       "      <td>Central Asia</td>\n",
       "    </tr>\n",
       "    <tr>\n",
       "      <th>9</th>\n",
       "      <td>Jack Lebron</td>\n",
       "      <td>North</td>\n",
       "    </tr>\n",
       "    <tr>\n",
       "      <th>10</th>\n",
       "      <td>Shirley Daniels</td>\n",
       "      <td>North Asia</td>\n",
       "    </tr>\n",
       "    <tr>\n",
       "      <th>11</th>\n",
       "      <td>Anthony Jacobs</td>\n",
       "      <td>Oceania</td>\n",
       "    </tr>\n",
       "    <tr>\n",
       "      <th>12</th>\n",
       "      <td>Alejandro Ballentine</td>\n",
       "      <td>Southeast Asia</td>\n",
       "    </tr>\n",
       "  </tbody>\n",
       "</table>\n",
       "</div>"
      ],
      "text/plain": [
       "                  Person          Region\n",
       "0          Anna Andreadi         Central\n",
       "1            Chuck Magee           South\n",
       "2         Kelly Williams            East\n",
       "3         Matt Collister            West\n",
       "4      Deborah Brumfield          Africa\n",
       "5           Larry Hughes            AMEA\n",
       "6          Nicole Hansen          Canada\n",
       "7       Giulietta Dortch       Caribbean\n",
       "8             Nora Preis    Central Asia\n",
       "9            Jack Lebron           North\n",
       "10       Shirley Daniels      North Asia\n",
       "11        Anthony Jacobs         Oceania\n",
       "12  Alejandro Ballentine  Southeast Asia"
      ]
     },
     "execution_count": 7,
     "metadata": {},
     "output_type": "execute_result"
    }
   ],
   "source": [
    "df_people"
   ]
  },
  {
   "cell_type": "code",
   "execution_count": 8,
   "id": "37fb3a0f",
   "metadata": {},
   "outputs": [],
   "source": [
    "# seems to be not relevant at all"
   ]
  },
  {
   "cell_type": "markdown",
   "id": "37218b0d",
   "metadata": {},
   "source": [
    "### Integration"
   ]
  },
  {
   "cell_type": "code",
   "execution_count": 9,
   "id": "6853f39d",
   "metadata": {},
   "outputs": [],
   "source": [
    "raw_df = df_orders.merge(\n",
    "    df_returns[[\"Order ID\", \"Returned\"]],\n",
    "    on=\"Order ID\",\n",
    "    how=\"left\",\n",
    ")"
   ]
  },
  {
   "cell_type": "code",
   "execution_count": 10,
   "id": "e6ea125a",
   "metadata": {},
   "outputs": [
    {
     "data": {
      "text/plain": [
       "Index(['Row ID', 'Order ID', 'Order Date', 'Ship Date', 'Ship Mode',\n",
       "       'Customer ID', 'Customer Name', 'Segment', 'City', 'State', 'Country',\n",
       "       'Postal Code', 'Market', 'Region', 'Product ID', 'Category',\n",
       "       'Sub-Category', 'Product Name', 'Sales', 'Quantity', 'Discount',\n",
       "       'Profit', 'Shipping Cost', 'Order Priority', 'Returned'],\n",
       "      dtype='object')"
      ]
     },
     "execution_count": 10,
     "metadata": {},
     "output_type": "execute_result"
    }
   ],
   "source": [
    "raw_df.columns\n"
   ]
  },
  {
   "cell_type": "code",
   "execution_count": 11,
   "id": "cdbdb251",
   "metadata": {},
   "outputs": [],
   "source": [
    "# replace NaN values in Returned with \"No\"\n",
    "raw_df[\"Returned\"].fillna(\"No\", inplace=True)"
   ]
  },
  {
   "cell_type": "code",
   "execution_count": 12,
   "id": "69857431",
   "metadata": {},
   "outputs": [],
   "source": [
    "# remove obviously useless columns\n",
    "raw_df.drop(columns=\"Row ID\", inplace=True)\n",
    "raw_df.drop(columns=\"Order ID\", inplace=True)"
   ]
  },
  {
   "cell_type": "code",
   "execution_count": 13,
   "id": "d0f4a4f3",
   "metadata": {},
   "outputs": [],
   "source": [
    "# anonymize customer name\n",
    "raw_df[\"Customer Name\"] = raw_df.apply(lambda x: hashlib.md5(x[\"Customer Name\"].encode()).hexdigest(), axis=1)"
   ]
  },
  {
   "cell_type": "markdown",
   "id": "377435b6",
   "metadata": {},
   "source": [
    "# Store"
   ]
  },
  {
   "cell_type": "code",
   "execution_count": 14,
   "id": "71ede14b",
   "metadata": {},
   "outputs": [
    {
     "name": "stderr",
     "output_type": "stream",
     "text": [
      "C:\\Users\\Marc\\AppData\\Local\\Programs\\Python\\Python39\\lib\\site-packages\\pandas\\core\\generic.py:2779: UserWarning: The spaces in these column names will not be changed. In pandas versions < 0.14, spaces were converted to underscores.\n",
      "  sql.to_sql(\n"
     ]
    }
   ],
   "source": [
    "conn = sql.connect(os.path.join(\"..\", DATA_FOLDER, db_name))\n",
    "raw_df.to_sql('superstore', conn, if_exists='replace')"
   ]
  },
  {
   "cell_type": "markdown",
   "id": "78b853a0",
   "metadata": {},
   "source": [
    " \n",
    "**_--------- notebook hier aufsplitten ----------_**\n",
    " \n"
   ]
  },
  {
   "cell_type": "code",
   "execution_count": 15,
   "id": "60b39051",
   "metadata": {},
   "outputs": [],
   "source": [
    "# machine learning modules\n",
    "from sklearn.model_selection import train_test_split\n",
    "\n",
    "from sklearn.pipeline import Pipeline\n",
    "from sklearn.compose import ColumnTransformer\n",
    "from sklearn.preprocessing import StandardScaler\n",
    "from sklearn.impute import SimpleImputer\n",
    "from sklearn.preprocessing import LabelBinarizer\n",
    "\n",
    "import statsmodels.formula.api as smf\n",
    "from sklearn.linear_model import LinearRegression, Ridge, Lasso"
   ]
  },
  {
   "cell_type": "markdown",
   "id": "253d5930",
   "metadata": {},
   "source": [
    "### Train-Test-Split"
   ]
  },
  {
   "cell_type": "code",
   "execution_count": 16,
   "id": "935199e9",
   "metadata": {},
   "outputs": [],
   "source": [
    "df_train, df_test = train_test_split(raw_df, random_state = randon_state)"
   ]
  },
  {
   "cell_type": "code",
   "execution_count": 17,
   "id": "3eff05c6",
   "metadata": {},
   "outputs": [
    {
     "name": "stdout",
     "output_type": "stream",
     "text": [
      "(38471, 23)\n",
      "(12824, 23)\n"
     ]
    }
   ],
   "source": [
    "print(df_train.shape)\n",
    "print(df_test.shape)"
   ]
  },
  {
   "cell_type": "markdown",
   "id": "3652111d",
   "metadata": {},
   "source": [
    "# Inspect"
   ]
  },
  {
   "cell_type": "code",
   "execution_count": 18,
   "id": "5916c8d1",
   "metadata": {
    "scrolled": true
   },
   "outputs": [
    {
     "data": {
      "text/html": [
       "<div>\n",
       "<style scoped>\n",
       "    .dataframe tbody tr th:only-of-type {\n",
       "        vertical-align: middle;\n",
       "    }\n",
       "\n",
       "    .dataframe tbody tr th {\n",
       "        vertical-align: top;\n",
       "    }\n",
       "\n",
       "    .dataframe thead th {\n",
       "        text-align: right;\n",
       "    }\n",
       "</style>\n",
       "<table border=\"1\" class=\"dataframe\">\n",
       "  <thead>\n",
       "    <tr style=\"text-align: right;\">\n",
       "      <th></th>\n",
       "      <th>Order Date</th>\n",
       "      <th>Ship Date</th>\n",
       "      <th>Ship Mode</th>\n",
       "      <th>Customer ID</th>\n",
       "      <th>Customer Name</th>\n",
       "      <th>Segment</th>\n",
       "      <th>City</th>\n",
       "      <th>State</th>\n",
       "      <th>Country</th>\n",
       "      <th>Postal Code</th>\n",
       "      <th>...</th>\n",
       "      <th>Category</th>\n",
       "      <th>Sub-Category</th>\n",
       "      <th>Product Name</th>\n",
       "      <th>Sales</th>\n",
       "      <th>Quantity</th>\n",
       "      <th>Discount</th>\n",
       "      <th>Profit</th>\n",
       "      <th>Shipping Cost</th>\n",
       "      <th>Order Priority</th>\n",
       "      <th>Returned</th>\n",
       "    </tr>\n",
       "  </thead>\n",
       "  <tbody>\n",
       "    <tr>\n",
       "      <th>27507</th>\n",
       "      <td>2012-12-27</td>\n",
       "      <td>2012-12-31</td>\n",
       "      <td>Standard Class</td>\n",
       "      <td>SP-20860</td>\n",
       "      <td>a7d03c30d416fc5f7d695b495884fdd7</td>\n",
       "      <td>Corporate</td>\n",
       "      <td>Murfreesboro</td>\n",
       "      <td>Tennessee</td>\n",
       "      <td>United States</td>\n",
       "      <td>37130.0</td>\n",
       "      <td>...</td>\n",
       "      <td>Technology</td>\n",
       "      <td>Accessories</td>\n",
       "      <td>SanDisk Ultra 16 GB MicroSDHC Class 10 Memory ...</td>\n",
       "      <td>72.744</td>\n",
       "      <td>7</td>\n",
       "      <td>0.2</td>\n",
       "      <td>-12.7302</td>\n",
       "      <td>6.720</td>\n",
       "      <td>Medium</td>\n",
       "      <td>No</td>\n",
       "    </tr>\n",
       "    <tr>\n",
       "      <th>35511</th>\n",
       "      <td>2014-12-25</td>\n",
       "      <td>2015-01-01</td>\n",
       "      <td>Standard Class</td>\n",
       "      <td>JD-15895</td>\n",
       "      <td>1b2850c124acd1bc24237b4b5228b65e</td>\n",
       "      <td>Corporate</td>\n",
       "      <td>Oosterhout</td>\n",
       "      <td>North Brabant</td>\n",
       "      <td>Netherlands</td>\n",
       "      <td>NaN</td>\n",
       "      <td>...</td>\n",
       "      <td>Office Supplies</td>\n",
       "      <td>Labels</td>\n",
       "      <td>Smead File Folder Labels, Adjustable</td>\n",
       "      <td>23.730</td>\n",
       "      <td>7</td>\n",
       "      <td>0.5</td>\n",
       "      <td>-21.0000</td>\n",
       "      <td>3.430</td>\n",
       "      <td>Low</td>\n",
       "      <td>No</td>\n",
       "    </tr>\n",
       "    <tr>\n",
       "      <th>9172</th>\n",
       "      <td>2012-05-08</td>\n",
       "      <td>2012-05-11</td>\n",
       "      <td>Second Class</td>\n",
       "      <td>AB-10600</td>\n",
       "      <td>6acab08bb2b385c8569adfd24730ee01</td>\n",
       "      <td>Corporate</td>\n",
       "      <td>Phnom Penh</td>\n",
       "      <td>Phnom Penh</td>\n",
       "      <td>Cambodia</td>\n",
       "      <td>NaN</td>\n",
       "      <td>...</td>\n",
       "      <td>Furniture</td>\n",
       "      <td>Bookcases</td>\n",
       "      <td>Dania Corner Shelving, Pine</td>\n",
       "      <td>617.100</td>\n",
       "      <td>5</td>\n",
       "      <td>0.0</td>\n",
       "      <td>172.6500</td>\n",
       "      <td>36.380</td>\n",
       "      <td>Medium</td>\n",
       "      <td>No</td>\n",
       "    </tr>\n",
       "    <tr>\n",
       "      <th>31366</th>\n",
       "      <td>2011-06-30</td>\n",
       "      <td>2011-07-02</td>\n",
       "      <td>Second Class</td>\n",
       "      <td>GH-14410</td>\n",
       "      <td>1528a0a296f3ecf500753855ea9a21a5</td>\n",
       "      <td>Home Office</td>\n",
       "      <td>Lima</td>\n",
       "      <td>Lima (city)</td>\n",
       "      <td>Peru</td>\n",
       "      <td>NaN</td>\n",
       "      <td>...</td>\n",
       "      <td>Furniture</td>\n",
       "      <td>Chairs</td>\n",
       "      <td>Hon Bag Chairs, Red</td>\n",
       "      <td>54.180</td>\n",
       "      <td>3</td>\n",
       "      <td>0.4</td>\n",
       "      <td>-32.5200</td>\n",
       "      <td>4.919</td>\n",
       "      <td>Medium</td>\n",
       "      <td>Yes</td>\n",
       "    </tr>\n",
       "    <tr>\n",
       "      <th>24465</th>\n",
       "      <td>2013-06-23</td>\n",
       "      <td>2013-06-26</td>\n",
       "      <td>First Class</td>\n",
       "      <td>KW-16435</td>\n",
       "      <td>648a7c6f93ee0f453ee1378466a84ff8</td>\n",
       "      <td>Consumer</td>\n",
       "      <td>London</td>\n",
       "      <td>England</td>\n",
       "      <td>United Kingdom</td>\n",
       "      <td>NaN</td>\n",
       "      <td>...</td>\n",
       "      <td>Office Supplies</td>\n",
       "      <td>Storage</td>\n",
       "      <td>Fellowes Box, Wire Frame</td>\n",
       "      <td>50.625</td>\n",
       "      <td>3</td>\n",
       "      <td>0.1</td>\n",
       "      <td>20.2050</td>\n",
       "      <td>8.570</td>\n",
       "      <td>Medium</td>\n",
       "      <td>No</td>\n",
       "    </tr>\n",
       "  </tbody>\n",
       "</table>\n",
       "<p>5 rows × 23 columns</p>\n",
       "</div>"
      ],
      "text/plain": [
       "      Order Date  Ship Date       Ship Mode Customer ID  \\\n",
       "27507 2012-12-27 2012-12-31  Standard Class    SP-20860   \n",
       "35511 2014-12-25 2015-01-01  Standard Class    JD-15895   \n",
       "9172  2012-05-08 2012-05-11    Second Class    AB-10600   \n",
       "31366 2011-06-30 2011-07-02    Second Class    GH-14410   \n",
       "24465 2013-06-23 2013-06-26     First Class    KW-16435   \n",
       "\n",
       "                          Customer Name      Segment          City  \\\n",
       "27507  a7d03c30d416fc5f7d695b495884fdd7    Corporate  Murfreesboro   \n",
       "35511  1b2850c124acd1bc24237b4b5228b65e    Corporate    Oosterhout   \n",
       "9172   6acab08bb2b385c8569adfd24730ee01    Corporate    Phnom Penh   \n",
       "31366  1528a0a296f3ecf500753855ea9a21a5  Home Office          Lima   \n",
       "24465  648a7c6f93ee0f453ee1378466a84ff8     Consumer        London   \n",
       "\n",
       "               State         Country  Postal Code  ...         Category  \\\n",
       "27507      Tennessee   United States      37130.0  ...       Technology   \n",
       "35511  North Brabant     Netherlands          NaN  ...  Office Supplies   \n",
       "9172      Phnom Penh        Cambodia          NaN  ...        Furniture   \n",
       "31366    Lima (city)            Peru          NaN  ...        Furniture   \n",
       "24465        England  United Kingdom          NaN  ...  Office Supplies   \n",
       "\n",
       "      Sub-Category                                       Product Name  \\\n",
       "27507  Accessories  SanDisk Ultra 16 GB MicroSDHC Class 10 Memory ...   \n",
       "35511       Labels               Smead File Folder Labels, Adjustable   \n",
       "9172     Bookcases                        Dania Corner Shelving, Pine   \n",
       "31366       Chairs                                Hon Bag Chairs, Red   \n",
       "24465      Storage                           Fellowes Box, Wire Frame   \n",
       "\n",
       "         Sales Quantity Discount    Profit  Shipping Cost  Order Priority  \\\n",
       "27507   72.744        7      0.2  -12.7302          6.720          Medium   \n",
       "35511   23.730        7      0.5  -21.0000          3.430             Low   \n",
       "9172   617.100        5      0.0  172.6500         36.380          Medium   \n",
       "31366   54.180        3      0.4  -32.5200          4.919          Medium   \n",
       "24465   50.625        3      0.1   20.2050          8.570          Medium   \n",
       "\n",
       "       Returned  \n",
       "27507        No  \n",
       "35511        No  \n",
       "9172         No  \n",
       "31366       Yes  \n",
       "24465        No  \n",
       "\n",
       "[5 rows x 23 columns]"
      ]
     },
     "execution_count": 18,
     "metadata": {},
     "output_type": "execute_result"
    }
   ],
   "source": [
    "df_train.head()"
   ]
  },
  {
   "cell_type": "code",
   "execution_count": 19,
   "id": "42239839",
   "metadata": {
    "scrolled": true
   },
   "outputs": [
    {
     "data": {
      "text/plain": [
       "Index(['Order Date', 'Ship Date', 'Ship Mode', 'Customer ID', 'Customer Name',\n",
       "       'Segment', 'City', 'State', 'Country', 'Postal Code', 'Market',\n",
       "       'Region', 'Product ID', 'Category', 'Sub-Category', 'Product Name',\n",
       "       'Sales', 'Quantity', 'Discount', 'Profit', 'Shipping Cost',\n",
       "       'Order Priority', 'Returned'],\n",
       "      dtype='object')"
      ]
     },
     "execution_count": 19,
     "metadata": {},
     "output_type": "execute_result"
    }
   ],
   "source": [
    "df_train.columns"
   ]
  },
  {
   "cell_type": "markdown",
   "id": "5e7831bd",
   "metadata": {},
   "source": [
    "### Target Column"
   ]
  },
  {
   "cell_type": "markdown",
   "id": "704c97e0",
   "metadata": {},
   "source": [
    "Time between order and shipment in days"
   ]
  },
  {
   "cell_type": "code",
   "execution_count": 20,
   "id": "8d85ddb1",
   "metadata": {},
   "outputs": [
    {
     "name": "stderr",
     "output_type": "stream",
     "text": [
      "<ipython-input-20-7ec150f686c2>:1: SettingWithCopyWarning: \n",
      "A value is trying to be set on a copy of a slice from a DataFrame.\n",
      "Try using .loc[row_indexer,col_indexer] = value instead\n",
      "\n",
      "See the caveats in the documentation: https://pandas.pydata.org/pandas-docs/stable/user_guide/indexing.html#returning-a-view-versus-a-copy\n",
      "  df_train['ship_delay'] = df_train.apply(lambda x: (x[\"Ship Date\"]-x['Order Date']).days, axis=1)\n"
     ]
    }
   ],
   "source": [
    "df_train['ship_delay'] = df_train.apply(lambda x: (x[\"Ship Date\"]-x['Order Date']).days, axis=1)"
   ]
  },
  {
   "cell_type": "code",
   "execution_count": 21,
   "id": "6f2ca28b",
   "metadata": {},
   "outputs": [
    {
     "data": {
      "text/html": [
       "<div>\n",
       "<style scoped>\n",
       "    .dataframe tbody tr th:only-of-type {\n",
       "        vertical-align: middle;\n",
       "    }\n",
       "\n",
       "    .dataframe tbody tr th {\n",
       "        vertical-align: top;\n",
       "    }\n",
       "\n",
       "    .dataframe thead th {\n",
       "        text-align: right;\n",
       "    }\n",
       "</style>\n",
       "<table border=\"1\" class=\"dataframe\">\n",
       "  <thead>\n",
       "    <tr style=\"text-align: right;\">\n",
       "      <th></th>\n",
       "      <th>Order Date</th>\n",
       "      <th>Ship Date</th>\n",
       "      <th>ship_delay</th>\n",
       "    </tr>\n",
       "  </thead>\n",
       "  <tbody>\n",
       "    <tr>\n",
       "      <th>27507</th>\n",
       "      <td>2012-12-27</td>\n",
       "      <td>2012-12-31</td>\n",
       "      <td>4</td>\n",
       "    </tr>\n",
       "    <tr>\n",
       "      <th>35511</th>\n",
       "      <td>2014-12-25</td>\n",
       "      <td>2015-01-01</td>\n",
       "      <td>7</td>\n",
       "    </tr>\n",
       "    <tr>\n",
       "      <th>9172</th>\n",
       "      <td>2012-05-08</td>\n",
       "      <td>2012-05-11</td>\n",
       "      <td>3</td>\n",
       "    </tr>\n",
       "    <tr>\n",
       "      <th>31366</th>\n",
       "      <td>2011-06-30</td>\n",
       "      <td>2011-07-02</td>\n",
       "      <td>2</td>\n",
       "    </tr>\n",
       "    <tr>\n",
       "      <th>24465</th>\n",
       "      <td>2013-06-23</td>\n",
       "      <td>2013-06-26</td>\n",
       "      <td>3</td>\n",
       "    </tr>\n",
       "  </tbody>\n",
       "</table>\n",
       "</div>"
      ],
      "text/plain": [
       "      Order Date  Ship Date  ship_delay\n",
       "27507 2012-12-27 2012-12-31           4\n",
       "35511 2014-12-25 2015-01-01           7\n",
       "9172  2012-05-08 2012-05-11           3\n",
       "31366 2011-06-30 2011-07-02           2\n",
       "24465 2013-06-23 2013-06-26           3"
      ]
     },
     "execution_count": 21,
     "metadata": {},
     "output_type": "execute_result"
    }
   ],
   "source": [
    "df_train[[\"Order Date\", \"Ship Date\", \"ship_delay\"]].head()"
   ]
  },
  {
   "cell_type": "code",
   "execution_count": 22,
   "id": "63988826",
   "metadata": {
    "scrolled": false
   },
   "outputs": [
    {
     "data": {
      "text/plain": [
       "<AxesSubplot:>"
      ]
     },
     "execution_count": 22,
     "metadata": {},
     "output_type": "execute_result"
    },
    {
     "data": {
      "image/png": "[encoded data removed]",
      "text/plain": [
       "<Figure size 432x288 with 1 Axes>"
      ]
     },
     "metadata": {
      "needs_background": "light"
     },
     "output_type": "display_data"
    }
   ],
   "source": [
    "df_train[\"ship_delay\"].value_counts().plot.bar()"
   ]
  },
  {
   "cell_type": "code",
   "execution_count": null,
   "id": "9e39fe36",
   "metadata": {},
   "outputs": [],
   "source": []
  },
  {
   "cell_type": "markdown",
   "id": "38d28fad",
   "metadata": {},
   "source": [
    "### Profiling"
   ]
  },
  {
   "cell_type": "code",
   "execution_count": 23,
   "id": "f8e36402",
   "metadata": {},
   "outputs": [],
   "source": [
    "profile = df_train.profile_report(title='Pandas Profiling Report')"
   ]
  },
  {
   "cell_type": "code",
   "execution_count": 24,
   "id": "6e0dd8e2",
   "metadata": {},
   "outputs": [
    {
     "data": {
      "application/vnd.jupyter.widget-view+json": {
       "model_id": "2a929e0da7a748c9b2940e8a03bf59ac",
       "version_major": 2,
       "version_minor": 0
      },
      "text/plain": [
       "Summarize dataset:   0%|          | 0/38 [00:00<?, ?it/s]"
      ]
     },
     "metadata": {},
     "output_type": "display_data"
    },
    {
     "data": {
      "application/vnd.jupyter.widget-view+json": {
       "model_id": "a2d2cdad700e4565a7eabe4736f3a121",
       "version_major": 2,
       "version_minor": 0
      },
      "text/plain": [
       "Generate report structure:   0%|          | 0/1 [00:00<?, ?it/s]"
      ]
     },
     "metadata": {},
     "output_type": "display_data"
    },
    {
     "data": {
      "application/vnd.jupyter.widget-view+json": {
       "model_id": "378f716b2cf34488ad6c3ad0f2ee2308",
       "version_major": 2,
       "version_minor": 0
      },
      "text/plain": [
       "Render HTML:   0%|          | 0/1 [00:00<?, ?it/s]"
      ]
     },
     "metadata": {},
     "output_type": "display_data"
    },
    {
     "data": {
      "application/vnd.jupyter.widget-view+json": {
       "model_id": "0ccf5470c60345c4bda5f96ea81a76ac",
       "version_major": 2,
       "version_minor": 0
      },
      "text/plain": [
       "Export report to file:   0%|          | 0/1 [00:00<?, ?it/s]"
      ]
     },
     "metadata": {},
     "output_type": "display_data"
    }
   ],
   "source": [
    "os.makedirs(os.path.join('..',OUTPUT_FOLDER), exist_ok=True)\n",
    "profile.to_file(output_file=os.path.join(\"..\", OUTPUT_FOLDER, \"data_profile.html\"))"
   ]
  },
  {
   "cell_type": "markdown",
   "id": "1379a939",
   "metadata": {},
   "source": [
    "### Missings"
   ]
  },
  {
   "cell_type": "code",
   "execution_count": 25,
   "id": "f40925fb",
   "metadata": {},
   "outputs": [
    {
     "data": {
      "text/plain": [
       "Order Date            0\n",
       "Ship Date             0\n",
       "Ship Mode             0\n",
       "Customer ID           0\n",
       "Customer Name         0\n",
       "Segment               0\n",
       "City                  0\n",
       "State                 0\n",
       "Country               0\n",
       "Postal Code       30915\n",
       "Market                0\n",
       "Region                0\n",
       "Product ID            0\n",
       "Category              0\n",
       "Sub-Category          0\n",
       "Product Name          0\n",
       "Sales                 0\n",
       "Quantity              0\n",
       "Discount              0\n",
       "Profit                0\n",
       "Shipping Cost         0\n",
       "Order Priority        0\n",
       "Returned              0\n",
       "ship_delay            0\n",
       "dtype: int64"
      ]
     },
     "execution_count": 25,
     "metadata": {},
     "output_type": "execute_result"
    }
   ],
   "source": [
    "df_train.isnull().sum()"
   ]
  },
  {
   "cell_type": "markdown",
   "id": "51a0e1d3",
   "metadata": {},
   "source": [
    "Postal Code ==> useless"
   ]
  },
  {
   "cell_type": "markdown",
   "id": "4aef60aa",
   "metadata": {},
   "source": [
    "### Columnwise Inspection"
   ]
  },
  {
   "cell_type": "markdown",
   "id": "d4f089f8",
   "metadata": {},
   "source": [
    "#### Ship Date, Order Date"
   ]
  },
  {
   "cell_type": "code",
   "execution_count": 26,
   "id": "4c9150cb",
   "metadata": {
    "scrolled": true
   },
   "outputs": [
    {
     "data": {
      "text/plain": [
       "<AxesSubplot:xlabel='Count', ylabel='Order Date'>"
      ]
     },
     "execution_count": 26,
     "metadata": {},
     "output_type": "execute_result"
    },
    {
     "data": {
      "image/png": "[encoded data removed]",
      "text/plain": [
       "<Figure size 1080x288 with 2 Axes>"
      ]
     },
     "metadata": {
      "needs_background": "light"
     },
     "output_type": "display_data"
    }
   ],
   "source": [
    "from matplotlib import pyplot as plt\n",
    "plt.rcParams[\"figure.figsize\"] = [15, 4]\n",
    "f, axes = plt.subplots(1, 2)\n",
    "\n",
    "sns.histplot(data=df_train, y=\"Ship Date\", ax=axes[0])\n",
    "sns.histplot(data=df_train, y=\"Order Date\", ax=axes[1])"
   ]
  },
  {
   "cell_type": "markdown",
   "id": "9618af87",
   "metadata": {},
   "source": [
    "#### Ship Mode"
   ]
  },
  {
   "cell_type": "code",
   "execution_count": 27,
   "id": "a611508b",
   "metadata": {},
   "outputs": [
    {
     "data": {
      "text/plain": [
       "Standard Class    23148\n",
       "Second Class       7670\n",
       "First Class        5588\n",
       "Same Day           2065\n",
       "Name: Ship Mode, dtype: int64"
      ]
     },
     "execution_count": 27,
     "metadata": {},
     "output_type": "execute_result"
    }
   ],
   "source": [
    "df_train[\"Ship Mode\"].value_counts()"
   ]
  },
  {
   "cell_type": "markdown",
   "id": "132fadf4",
   "metadata": {},
   "source": [
    "* Predestined for OneHotEncoder"
   ]
  },
  {
   "cell_type": "markdown",
   "id": "557590ea",
   "metadata": {},
   "source": [
    "#### Customer ID, Customer Name"
   ]
  },
  {
   "cell_type": "code",
   "execution_count": 28,
   "id": "4e59f5ee",
   "metadata": {},
   "outputs": [
    {
     "name": "stdout",
     "output_type": "stream",
     "text": [
      "Unique values: 1587\n",
      "Total values: 38471\n"
     ]
    }
   ],
   "source": [
    "print(\"Unique values:\", len(set(df_train[\"Customer ID\"])))\n",
    "print(\"Total values:\", len(df_train[\"Customer ID\"]))"
   ]
  },
  {
   "cell_type": "code",
   "execution_count": 29,
   "id": "fc78b59e",
   "metadata": {},
   "outputs": [
    {
     "name": "stdout",
     "output_type": "stream",
     "text": [
      "Unique values: 795\n",
      "Total values: 38471\n"
     ]
    }
   ],
   "source": [
    "print(\"Unique values:\", len(set(df_train[\"Customer Name\"])))\n",
    "print(\"Total values:\", len(df_train[\"Customer Name\"]))"
   ]
  },
  {
   "cell_type": "markdown",
   "id": "e1e8d424",
   "metadata": {},
   "source": [
    "* not useless at all... classification?\n",
    "\n",
    "* customer may have nothing to do with the shipment delay (cannot be caused by the customer)"
   ]
  },
  {
   "cell_type": "markdown",
   "id": "712bca37",
   "metadata": {},
   "source": [
    "#### Segment"
   ]
  },
  {
   "cell_type": "code",
   "execution_count": 30,
   "id": "da1a57fe",
   "metadata": {},
   "outputs": [
    {
     "data": {
      "text/plain": [
       "Consumer       20019\n",
       "Corporate      11471\n",
       "Home Office     6981\n",
       "Name: Segment, dtype: int64"
      ]
     },
     "execution_count": 30,
     "metadata": {},
     "output_type": "execute_result"
    }
   ],
   "source": [
    "df_train[\"Segment\"].value_counts()"
   ]
  },
  {
   "cell_type": "markdown",
   "id": "4277c820",
   "metadata": {},
   "source": [
    "=> OneHotEncoder"
   ]
  },
  {
   "cell_type": "markdown",
   "id": "948d40e8",
   "metadata": {},
   "source": [
    "#### City, State, Country"
   ]
  },
  {
   "cell_type": "code",
   "execution_count": 31,
   "id": "da337db3",
   "metadata": {},
   "outputs": [
    {
     "name": "stdout",
     "output_type": "stream",
     "text": [
      "Unique values City: 3475\n",
      "Unique values State: 1072\n",
      "Total values: 38471\n"
     ]
    }
   ],
   "source": [
    "print(\"Unique values City:\", len(set(df_train[\"City\"])))\n",
    "print(\"Unique values State:\", len(set(df_train[\"State\"])))\n",
    "print(\"Total values:\", len(df_train[\"State\"]))"
   ]
  },
  {
   "cell_type": "code",
   "execution_count": 32,
   "id": "0d31401c",
   "metadata": {
    "scrolled": true
   },
   "outputs": [
    {
     "data": {
      "text/plain": [
       "United States        7556\n",
       "Australia            2137\n",
       "France               2114\n",
       "Mexico               2012\n",
       "Germany              1570\n",
       "                     ... \n",
       "Equatorial Guinea       2\n",
       "Chad                    1\n",
       "Tajikistan              1\n",
       "South Sudan             1\n",
       "Burundi                 1\n",
       "Name: Country, Length: 147, dtype: int64"
      ]
     },
     "execution_count": 32,
     "metadata": {},
     "output_type": "execute_result"
    }
   ],
   "source": [
    "df_train[\"Country\"].value_counts()"
   ]
  },
  {
   "cell_type": "markdown",
   "id": "0100364c",
   "metadata": {},
   "source": [
    "=> Too high cardinality"
   ]
  },
  {
   "cell_type": "markdown",
   "id": "cb09cdf3",
   "metadata": {},
   "source": [
    "#### Postal Code"
   ]
  },
  {
   "cell_type": "markdown",
   "id": "ca07598d",
   "metadata": {},
   "source": [
    "useless due to missing values"
   ]
  },
  {
   "cell_type": "markdown",
   "id": "3a8f5401",
   "metadata": {},
   "source": [
    "#### Market"
   ]
  },
  {
   "cell_type": "code",
   "execution_count": 33,
   "id": "034a131a",
   "metadata": {},
   "outputs": [
    {
     "data": {
      "text/plain": [
       "<AxesSubplot:ylabel='Market'>"
      ]
     },
     "execution_count": 33,
     "metadata": {},
     "output_type": "execute_result"
    },
    {
     "data": {
      "image/png": "[encoded data removed]",
      "text/plain": [
       "<Figure size 1080x288 with 1 Axes>"
      ]
     },
     "metadata": {},
     "output_type": "display_data"
    }
   ],
   "source": [
    "df_train[\"Market\"].value_counts().plot.pie()"
   ]
  },
  {
   "cell_type": "markdown",
   "id": "a777b4a1",
   "metadata": {},
   "source": [
    "* looks interesting, OneHotEncoder; there may be differences in the regions"
   ]
  },
  {
   "cell_type": "markdown",
   "id": "99034a60",
   "metadata": {},
   "source": [
    "#### Region"
   ]
  },
  {
   "cell_type": "code",
   "execution_count": 34,
   "id": "b10301ee",
   "metadata": {},
   "outputs": [
    {
     "data": {
      "text/plain": [
       "<AxesSubplot:ylabel='Region'>"
      ]
     },
     "execution_count": 34,
     "metadata": {},
     "output_type": "execute_result"
    },
    {
     "data": {
      "image/png": "[encoded data removed]",
      "text/plain": [
       "<Figure size 1080x288 with 1 Axes>"
      ]
     },
     "metadata": {},
     "output_type": "display_data"
    }
   ],
   "source": [
    "df_train[\"Region\"].value_counts().plot.pie()"
   ]
  },
  {
   "cell_type": "markdown",
   "id": "839064cb",
   "metadata": {},
   "source": [
    "* almost the same as market, but more detailed"
   ]
  },
  {
   "cell_type": "markdown",
   "id": "9a43ee2d",
   "metadata": {},
   "source": [
    "#### Product ID, Product Name"
   ]
  },
  {
   "cell_type": "code",
   "execution_count": 35,
   "id": "7e8ca08d",
   "metadata": {},
   "outputs": [
    {
     "data": {
      "text/plain": [
       "27507    TEC-AC-10004227\n",
       "35511    OFF-LA-10003699\n",
       "9172     FUR-BO-10000112\n",
       "31366    FUR-CH-10004338\n",
       "24465    OFF-ST-10001646\n",
       "              ...       \n",
       "11284    FUR-BO-10001483\n",
       "44732    OFF-LA-10002015\n",
       "38158    OFF-LA-10004894\n",
       "860      TEC-CO-10002009\n",
       "15795    OFF-PA-10002725\n",
       "Name: Product ID, Length: 38471, dtype: object"
      ]
     },
     "execution_count": 35,
     "metadata": {},
     "output_type": "execute_result"
    }
   ],
   "source": [
    "df_train[\"Product ID\"]"
   ]
  },
  {
   "cell_type": "code",
   "execution_count": 36,
   "id": "55f77c49",
   "metadata": {},
   "outputs": [
    {
     "data": {
      "text/plain": [
       "27507    SanDisk Ultra 16 GB MicroSDHC Class 10 Memory ...\n",
       "35511                 Smead File Folder Labels, Adjustable\n",
       "9172                           Dania Corner Shelving, Pine\n",
       "31366                                  Hon Bag Chairs, Red\n",
       "24465                             Fellowes Box, Wire Frame\n",
       "                               ...                        \n",
       "11284                          Bush Corner Shelving, Metal\n",
       "44732                       Hon Round Labels, Alphabetical\n",
       "38158                    Hon Shipping Labels, Alphabetical\n",
       "860                       Brother Wireless Fax, High-Speed\n",
       "15795                     Eaton Cards & Envelopes, Premium\n",
       "Name: Product Name, Length: 38471, dtype: object"
      ]
     },
     "execution_count": 36,
     "metadata": {},
     "output_type": "execute_result"
    }
   ],
   "source": [
    "df_train[\"Product Name\"]"
   ]
  },
  {
   "cell_type": "markdown",
   "id": "1cbdad96",
   "metadata": {},
   "source": [
    "* Obviously too detailed"
   ]
  },
  {
   "cell_type": "markdown",
   "id": "870c599a",
   "metadata": {},
   "source": [
    "#### Category, Sub-Category"
   ]
  },
  {
   "cell_type": "code",
   "execution_count": 37,
   "id": "14bf4969",
   "metadata": {},
   "outputs": [
    {
     "data": {
      "image/png": "[encoded data removed]",
      "text/plain": [
       "<Figure size 1512x360 with 2 Axes>"
      ]
     },
     "metadata": {
      "needs_background": "light"
     },
     "output_type": "display_data"
    }
   ],
   "source": [
    "from matplotlib import pyplot as plt\n",
    "plt.rcParams[\"figure.figsize\"] = [21, 5]\n",
    "\n",
    "f, axes = plt.subplots(1, 2)\n",
    "\n",
    "sns.countplot(data=df_train, y=\"Category\", ax=axes[0])\n",
    "sns.countplot(data=df_train, y=\"Sub-Category\", ax=axes[1])\n",
    "\n",
    "axes[0].tick_params(axis='y', rotation=75, labelsize=12)"
   ]
  },
  {
   "cell_type": "markdown",
   "id": "2ab06923",
   "metadata": {},
   "source": [
    "* OneHotEncoder"
   ]
  },
  {
   "cell_type": "code",
   "execution_count": null,
   "id": "ae1c6f69",
   "metadata": {},
   "outputs": [],
   "source": []
  },
  {
   "cell_type": "code",
   "execution_count": null,
   "id": "36950c19",
   "metadata": {},
   "outputs": [],
   "source": []
  },
  {
   "cell_type": "markdown",
   "id": "9bf1ad5f",
   "metadata": {},
   "source": [
    "#### Sales, Discount, Profit"
   ]
  },
  {
   "cell_type": "code",
   "execution_count": 38,
   "id": "d2544545",
   "metadata": {},
   "outputs": [
    {
     "data": {
      "text/plain": [
       "<AxesSubplot:xlabel='Sales', ylabel='Count'>"
      ]
     },
     "execution_count": 38,
     "metadata": {},
     "output_type": "execute_result"
    },
    {
     "data": {
      "image/png": "[encoded data removed]",
      "text/plain": [
       "<Figure size 1512x360 with 1 Axes>"
      ]
     },
     "metadata": {
      "needs_background": "light"
     },
     "output_type": "display_data"
    }
   ],
   "source": [
    "sns.histplot(data=df_train, x=\"Sales\")"
   ]
  },
  {
   "cell_type": "code",
   "execution_count": 39,
   "id": "f1ce034b",
   "metadata": {},
   "outputs": [
    {
     "data": {
      "text/plain": [
       "<AxesSubplot:xlabel='Sales', ylabel='Count'>"
      ]
     },
     "execution_count": 39,
     "metadata": {},
     "output_type": "execute_result"
    },
    {
     "data": {
      "image/png": "[encoded data removed]",
      "text/plain": [
       "<Figure size 1512x360 with 1 Axes>"
      ]
     },
     "metadata": {
      "needs_background": "light"
     },
     "output_type": "display_data"
    }
   ],
   "source": [
    "sns.histplot(data=df_train, x=\"Sales\", log_scale=True)"
   ]
  },
  {
   "cell_type": "markdown",
   "id": "a4067811",
   "metadata": {},
   "source": [
    "* Log-normal distribution ?"
   ]
  },
  {
   "cell_type": "code",
   "execution_count": 40,
   "id": "fff059f8",
   "metadata": {},
   "outputs": [
    {
     "data": {
      "text/plain": [
       "-4088.3759999999997"
      ]
     },
     "execution_count": 40,
     "metadata": {},
     "output_type": "execute_result"
    }
   ],
   "source": [
    "df_train[\"Profit\"].min()"
   ]
  },
  {
   "cell_type": "code",
   "execution_count": 41,
   "id": "c86393ca",
   "metadata": {},
   "outputs": [
    {
     "data": {
      "text/plain": [
       "8399.975999999999"
      ]
     },
     "execution_count": 41,
     "metadata": {},
     "output_type": "execute_result"
    }
   ],
   "source": [
    "df_train[\"Profit\"].max()"
   ]
  },
  {
   "cell_type": "code",
   "execution_count": 42,
   "id": "c04b719b",
   "metadata": {},
   "outputs": [
    {
     "data": {
      "text/plain": [
       "[None]"
      ]
     },
     "execution_count": 42,
     "metadata": {},
     "output_type": "execute_result"
    },
    {
     "data": {
      "image/png": "[encoded data removed]",
      "text/plain": [
       "<Figure size 1512x360 with 1 Axes>"
      ]
     },
     "metadata": {
      "needs_background": "light"
     },
     "output_type": "display_data"
    }
   ],
   "source": [
    "sns.histplot(df_train[\"Profit\"]).set(yscale=\"log\")"
   ]
  },
  {
   "cell_type": "markdown",
   "id": "deb40a44",
   "metadata": {},
   "source": [
    "#### Quantity"
   ]
  },
  {
   "cell_type": "code",
   "execution_count": 92,
   "id": "4b9d70ef",
   "metadata": {},
   "outputs": [
    {
     "data": {
      "text/plain": [
       "2     9598\n",
       "3     7260\n",
       "1     6706\n",
       "4     4797\n",
       "5     3652\n",
       "6     2243\n",
       "7     1806\n",
       "8     1013\n",
       "9      738\n",
       "10     198\n",
       "14     147\n",
       "12     130\n",
       "11     121\n",
       "13      62\n",
       "Name: Quantity, dtype: int64"
      ]
     },
     "execution_count": 92,
     "metadata": {},
     "output_type": "execute_result"
    }
   ],
   "source": [
    "df_train[\"Quantity\"].value_counts()"
   ]
  },
  {
   "cell_type": "markdown",
   "id": "34240a1b",
   "metadata": {},
   "source": [
    "#### Discount"
   ]
  },
  {
   "cell_type": "code",
   "execution_count": 43,
   "id": "ecec7b80",
   "metadata": {},
   "outputs": [
    {
     "data": {
      "text/plain": [
       "<AxesSubplot:>"
      ]
     },
     "execution_count": 43,
     "metadata": {},
     "output_type": "execute_result"
    },
    {
     "data": {
      "image/png": "[encoded data removed]",
      "text/plain": [
       "<Figure size 1512x360 with 1 Axes>"
      ]
     },
     "metadata": {
      "needs_background": "light"
     },
     "output_type": "display_data"
    }
   ],
   "source": [
    "df_train[\"Discount\"].value_counts().plot.bar()"
   ]
  },
  {
   "cell_type": "markdown",
   "id": "6ecb7736",
   "metadata": {},
   "source": [
    "* Percentage, already normalized\n",
    "* Higher Discount = lower order priority?"
   ]
  },
  {
   "cell_type": "markdown",
   "id": "28c5e144",
   "metadata": {},
   "source": [
    "#### Shipping Cost"
   ]
  },
  {
   "cell_type": "code",
   "execution_count": 44,
   "id": "c9dc8118",
   "metadata": {},
   "outputs": [
    {
     "data": {
      "text/plain": [
       "<AxesSubplot:xlabel='Shipping Cost', ylabel='Count'>"
      ]
     },
     "execution_count": 44,
     "metadata": {},
     "output_type": "execute_result"
    },
    {
     "data": {
      "image/png": "[encoded data removed]",
      "text/plain": [
       "<Figure size 1512x360 with 1 Axes>"
      ]
     },
     "metadata": {
      "needs_background": "light"
     },
     "output_type": "display_data"
    }
   ],
   "source": [
    "sns.histplot(data=df_train, x=\"Shipping Cost\", log_scale=True)"
   ]
  },
  {
   "cell_type": "markdown",
   "id": "2980afd5",
   "metadata": {},
   "source": [
    "#### Order Priority"
   ]
  },
  {
   "cell_type": "code",
   "execution_count": 45,
   "id": "19c8d3a9",
   "metadata": {},
   "outputs": [
    {
     "data": {
      "text/plain": [
       "Medium      22087\n",
       "High        11617\n",
       "Critical     2927\n",
       "Low          1840\n",
       "Name: Order Priority, dtype: int64"
      ]
     },
     "execution_count": 45,
     "metadata": {},
     "output_type": "execute_result"
    }
   ],
   "source": [
    "df_train[\"Order Priority\"].value_counts()"
   ]
  },
  {
   "cell_type": "markdown",
   "id": "68744860",
   "metadata": {},
   "source": [
    "* OneHotEncoder or OrdinalEncoder\n",
    "* Order Prio may have impact on shipment delay"
   ]
  },
  {
   "cell_type": "markdown",
   "id": "0d6b6dfd",
   "metadata": {},
   "source": [
    "#### Returned"
   ]
  },
  {
   "cell_type": "code",
   "execution_count": 46,
   "id": "9064f6ba",
   "metadata": {},
   "outputs": [
    {
     "data": {
      "text/plain": [
       "No     36159\n",
       "Yes     2312\n",
       "Name: Returned, dtype: int64"
      ]
     },
     "execution_count": 46,
     "metadata": {},
     "output_type": "execute_result"
    }
   ],
   "source": [
    "df_train[\"Returned\"].value_counts()"
   ]
  },
  {
   "cell_type": "markdown",
   "id": "ff2afb2f",
   "metadata": {},
   "source": [
    "* 0/1, LabelBinarizer\n",
    "* questionable if it makes sense"
   ]
  },
  {
   "cell_type": "markdown",
   "id": "4cb2f2d4",
   "metadata": {},
   "source": [
    "### Potential relationships"
   ]
  },
  {
   "cell_type": "code",
   "execution_count": 83,
   "id": "0a79df99",
   "metadata": {},
   "outputs": [
    {
     "data": {
      "text/plain": [
       "<AxesSubplot:>"
      ]
     },
     "execution_count": 83,
     "metadata": {},
     "output_type": "execute_result"
    },
    {
     "data": {
      "image/png": "[encoded data removed]",
      "text/plain": [
       "<Figure size 720x576 with 2 Axes>"
      ]
     },
     "metadata": {
      "needs_background": "light"
     },
     "output_type": "display_data"
    }
   ],
   "source": [
    "plt.rcParams[\"figure.figsize\"] = [10,8]\n",
    "sns.heatmap(df_train.corr(), vmin=-1, vmax=1, cmap=\"RdBu\", annot=True)"
   ]
  },
  {
   "cell_type": "markdown",
   "id": "e606da44",
   "metadata": {},
   "source": [
    "#### Impact of order priority on ship_delay"
   ]
  },
  {
   "cell_type": "code",
   "execution_count": 73,
   "id": "83f92f22",
   "metadata": {},
   "outputs": [
    {
     "data": {
      "text/html": [
       "<div>\n",
       "<style scoped>\n",
       "    .dataframe tbody tr th:only-of-type {\n",
       "        vertical-align: middle;\n",
       "    }\n",
       "\n",
       "    .dataframe tbody tr th {\n",
       "        vertical-align: top;\n",
       "    }\n",
       "\n",
       "    .dataframe thead th {\n",
       "        text-align: right;\n",
       "    }\n",
       "</style>\n",
       "<table border=\"1\" class=\"dataframe\">\n",
       "  <thead>\n",
       "    <tr style=\"text-align: right;\">\n",
       "      <th>Order Priority</th>\n",
       "      <th>Critical</th>\n",
       "      <th>High</th>\n",
       "      <th>Low</th>\n",
       "      <th>Medium</th>\n",
       "    </tr>\n",
       "    <tr>\n",
       "      <th>ship_delay</th>\n",
       "      <th></th>\n",
       "      <th></th>\n",
       "      <th></th>\n",
       "      <th></th>\n",
       "    </tr>\n",
       "  </thead>\n",
       "  <tbody>\n",
       "    <tr>\n",
       "      <th>0</th>\n",
       "      <td>563</td>\n",
       "      <td>927</td>\n",
       "      <td>0</td>\n",
       "      <td>497</td>\n",
       "    </tr>\n",
       "    <tr>\n",
       "      <th>1</th>\n",
       "      <td>276</td>\n",
       "      <td>640</td>\n",
       "      <td>0</td>\n",
       "      <td>328</td>\n",
       "    </tr>\n",
       "    <tr>\n",
       "      <th>2</th>\n",
       "      <td>1316</td>\n",
       "      <td>2605</td>\n",
       "      <td>0</td>\n",
       "      <td>1320</td>\n",
       "    </tr>\n",
       "    <tr>\n",
       "      <th>3</th>\n",
       "      <td>772</td>\n",
       "      <td>1436</td>\n",
       "      <td>0</td>\n",
       "      <td>1535</td>\n",
       "    </tr>\n",
       "    <tr>\n",
       "      <th>4</th>\n",
       "      <td>0</td>\n",
       "      <td>4376</td>\n",
       "      <td>0</td>\n",
       "      <td>6406</td>\n",
       "    </tr>\n",
       "    <tr>\n",
       "      <th>5</th>\n",
       "      <td>0</td>\n",
       "      <td>1633</td>\n",
       "      <td>0</td>\n",
       "      <td>6747</td>\n",
       "    </tr>\n",
       "    <tr>\n",
       "      <th>6</th>\n",
       "      <td>0</td>\n",
       "      <td>0</td>\n",
       "      <td>960</td>\n",
       "      <td>3794</td>\n",
       "    </tr>\n",
       "    <tr>\n",
       "      <th>7</th>\n",
       "      <td>0</td>\n",
       "      <td>0</td>\n",
       "      <td>880</td>\n",
       "      <td>1460</td>\n",
       "    </tr>\n",
       "  </tbody>\n",
       "</table>\n",
       "</div>"
      ],
      "text/plain": [
       "Order Priority  Critical  High  Low  Medium\n",
       "ship_delay                                 \n",
       "0                    563   927    0     497\n",
       "1                    276   640    0     328\n",
       "2                   1316  2605    0    1320\n",
       "3                    772  1436    0    1535\n",
       "4                      0  4376    0    6406\n",
       "5                      0  1633    0    6747\n",
       "6                      0     0  960    3794\n",
       "7                      0     0  880    1460"
      ]
     },
     "execution_count": 73,
     "metadata": {},
     "output_type": "execute_result"
    }
   ],
   "source": [
    "pd.crosstab(df_train[\"ship_delay\"], df_train[\"Order Priority\"])"
   ]
  },
  {
   "cell_type": "code",
   "execution_count": 82,
   "id": "b9da989a",
   "metadata": {},
   "outputs": [
    {
     "data": {
      "text/plain": [
       "<AxesSubplot:xlabel='Order Priority', ylabel='ship_delay'>"
      ]
     },
     "execution_count": 82,
     "metadata": {},
     "output_type": "execute_result"
    },
    {
     "data": {
      "image/png": "[encoded data removed]",
      "text/plain": [
       "<Figure size 720x576 with 1 Axes>"
      ]
     },
     "metadata": {
      "needs_background": "light"
     },
     "output_type": "display_data"
    }
   ],
   "source": [
    "sns.boxplot(x=\"Order Priority\", y=\"ship_delay\", data=df_train)"
   ]
  },
  {
   "cell_type": "markdown",
   "id": "a0e2eb43",
   "metadata": {},
   "source": [
    "* Order Priority has a signifcant impact on the shipment delay"
   ]
  },
  {
   "cell_type": "markdown",
   "id": "b32f7b2e",
   "metadata": {},
   "source": [
    "#### Impact of Ship Mode on ship_delay"
   ]
  },
  {
   "cell_type": "code",
   "execution_count": 84,
   "id": "674c461b",
   "metadata": {},
   "outputs": [
    {
     "data": {
      "text/plain": [
       "<AxesSubplot:xlabel='Ship Mode', ylabel='ship_delay'>"
      ]
     },
     "execution_count": 84,
     "metadata": {},
     "output_type": "execute_result"
    },
    {
     "data": {
      "image/png": "[encoded data removed]",
      "text/plain": [
       "<Figure size 720x576 with 1 Axes>"
      ]
     },
     "metadata": {
      "needs_background": "light"
     },
     "output_type": "display_data"
    }
   ],
   "source": [
    "sns.boxplot(x=\"Ship Mode\", y=\"ship_delay\", data=df_train)"
   ]
  },
  {
   "cell_type": "markdown",
   "id": "f07b1fce",
   "metadata": {},
   "source": [
    "#### Impact of quantity / sales on ship_delay"
   ]
  },
  {
   "cell_type": "code",
   "execution_count": 113,
   "id": "47c55fda",
   "metadata": {},
   "outputs": [],
   "source": [
    "qty_delay = pd.crosstab(df_train[\"Quantity\"], df_train[\"ship_delay\"], normalize='index', margins=True)"
   ]
  },
  {
   "cell_type": "code",
   "execution_count": 116,
   "id": "e1e54721",
   "metadata": {},
   "outputs": [
    {
     "data": {
      "text/plain": [
       "<AxesSubplot:xlabel='ship_delay', ylabel='Quantity'>"
      ]
     },
     "execution_count": 116,
     "metadata": {},
     "output_type": "execute_result"
    },
    {
     "data": {
      "image/png": "[encoded data removed]",
      "text/plain": [
       "<Figure size 720x576 with 2 Axes>"
      ]
     },
     "metadata": {
      "needs_background": "light"
     },
     "output_type": "display_data"
    }
   ],
   "source": [
    "sns.heatmap(qty_delay, cmap=\"OrRd\", annot=True)"
   ]
  },
  {
   "cell_type": "code",
   "execution_count": 118,
   "id": "57a2eec7",
   "metadata": {},
   "outputs": [],
   "source": [
    "#qty_delay"
   ]
  },
  {
   "cell_type": "markdown",
   "id": "306fffc0",
   "metadata": {},
   "source": [
    "* insignificant"
   ]
  },
  {
   "cell_type": "code",
   "execution_count": 133,
   "id": "b055a32a",
   "metadata": {
    "scrolled": true
   },
   "outputs": [
    {
     "name": "stderr",
     "output_type": "stream",
     "text": [
      "<ipython-input-133-4386a74b0a8f>:2: SettingWithCopyWarning: \n",
      "A value is trying to be set on a copy of a slice from a DataFrame.\n",
      "Try using .loc[row_indexer,col_indexer] = value instead\n",
      "\n",
      "See the caveats in the documentation: https://pandas.pydata.org/pandas-docs/stable/user_guide/indexing.html#returning-a-view-versus-a-copy\n",
      "  df_train['sales_quantiles'] = pd.qcut(df_train['Sales'],\n"
     ]
    }
   ],
   "source": [
    "bin_labels = [1,2,3,4,5]\n",
    "df_train['sales_quantiles'] = pd.qcut(df_train['Sales'],\n",
    "                              q=5,\n",
    "                              labels=bin_labels)"
   ]
  },
  {
   "cell_type": "code",
   "execution_count": 136,
   "id": "49b2b477",
   "metadata": {},
   "outputs": [],
   "source": [
    "sls_delay = pd.crosstab(df_train[\"sales_quantiles\"], df_train[\"ship_delay\"], normalize='index', margins=True)"
   ]
  },
  {
   "cell_type": "code",
   "execution_count": 137,
   "id": "abb9ea16",
   "metadata": {},
   "outputs": [
    {
     "data": {
      "text/plain": [
       "<AxesSubplot:xlabel='ship_delay', ylabel='sales_quantiles'>"
      ]
     },
     "execution_count": 137,
     "metadata": {},
     "output_type": "execute_result"
    },
    {
     "data": {
      "image/png": "[encoded data removed]",
      "text/plain": [
       "<Figure size 720x576 with 2 Axes>"
      ]
     },
     "metadata": {
      "needs_background": "light"
     },
     "output_type": "display_data"
    }
   ],
   "source": [
    "sns.heatmap(sls_delay, cmap=\"OrRd\", annot=True)"
   ]
  },
  {
   "cell_type": "markdown",
   "id": "b8e491d4",
   "metadata": {},
   "source": [
    "* insignificant"
   ]
  },
  {
   "cell_type": "code",
   "execution_count": null,
   "id": "ec7172be",
   "metadata": {},
   "outputs": [],
   "source": []
  },
  {
   "cell_type": "code",
   "execution_count": null,
   "id": "91f7d0ad",
   "metadata": {},
   "outputs": [],
   "source": []
  },
  {
   "cell_type": "code",
   "execution_count": null,
   "id": "b17626e5",
   "metadata": {},
   "outputs": [],
   "source": []
  },
  {
   "cell_type": "code",
   "execution_count": null,
   "id": "6378ec23",
   "metadata": {},
   "outputs": [],
   "source": []
  },
  {
   "cell_type": "code",
   "execution_count": null,
   "id": "820b43d4",
   "metadata": {},
   "outputs": [],
   "source": [
    "# -----------------------------------------------------------------"
   ]
  },
  {
   "cell_type": "code",
   "execution_count": 48,
   "id": "6a8e247b",
   "metadata": {},
   "outputs": [],
   "source": [
    "# select potentially useful columns\n",
    "#useful_columns = [\"\"]\n",
    "#df_inspect = df_train[useful_columns]"
   ]
  },
  {
   "cell_type": "code",
   "execution_count": null,
   "id": "140befed",
   "metadata": {},
   "outputs": [],
   "source": [
    "#df_inspect.reset_index(drop=True, inplace=True)\n"
   ]
  },
  {
   "cell_type": "code",
   "execution_count": 49,
   "id": "14594335",
   "metadata": {},
   "outputs": [],
   "source": [
    "#df_inspect.loc[:,\"\"] = LabelBinarizer().fit_transform(df_inspect[\"...\"])"
   ]
  },
  {
   "cell_type": "code",
   "execution_count": null,
   "id": "56ababa4",
   "metadata": {
    "scrolled": true
   },
   "outputs": [],
   "source": [
    "#sns.pairplot(data=df_inspect)"
   ]
  },
  {
   "cell_type": "code",
   "execution_count": null,
   "id": "1b24e735",
   "metadata": {},
   "outputs": [],
   "source": [
    "#sns.heatmap(df_inspect.corr())"
   ]
  },
  {
   "cell_type": "code",
   "execution_count": null,
   "id": "0dff4d5c",
   "metadata": {},
   "outputs": [],
   "source": [
    "#model = smf.ols(formula=\"target ~ a + b + c\", data=df_inspect)\n",
    "#results = model.fit()\n",
    "#print(results.summary())"
   ]
  },
  {
   "cell_type": "code",
   "execution_count": null,
   "id": "3d7f63f6",
   "metadata": {},
   "outputs": [],
   "source": []
  }
 ],
 "metadata": {
  "kernelspec": {
   "display_name": "Python 3.9.4 64-bit",
   "language": "python",
   "name": "python394jvsc74a57bd0f228753f02b6bcec550021ad01f9964bb2298ebd1b1709942fc8265c3e080479"
  },
  "language_info": {
   "codemirror_mode": {
    "name": "ipython",
    "version": 3
   },
   "file_extension": ".py",
   "mimetype": "text/x-python",
   "name": "python",
   "nbconvert_exporter": "python",
   "pygments_lexer": "ipython3",
   "version": "3.9.4"
  },
  "widgets": {
   "application/vnd.jupyter.widget-state+json": {
    "state": {
     "0d75513cb0f84fb9bdc9cd94c8b775ff": {
      "model_module": "@jupyter-widgets/base",
      "model_module_version": "1.2.0",
      "model_name": "LayoutModel",
      "state": {}
     },
     "0e5d66a9fd754eb3b79ad8b42d91a24b": {
      "model_module": "@jupyter-widgets/controls",
      "model_module_version": "1.5.0",
      "model_name": "HTMLModel",
      "state": {
       "layout": "IPY_MODEL_1cdca762513f42e1bbdfe2fdb1f9e448",
       "style": "IPY_MODEL_95d4b801108d4beea508904655fd8b98",
       "value": "Summarize dataset: 100%"
      }
     },
     "0e5e5a846b364fd696e4cef5886a99dc": {
      "model_module": "@jupyter-widgets/controls",
      "model_module_version": "1.5.0",
      "model_name": "HBoxModel",
      "state": {
       "children": [
        "IPY_MODEL_424adc75b8ce472ea6df66eb4bb852ef",
        "IPY_MODEL_449fbb77d0f3405fa9aa16214d62a6e1",
        "IPY_MODEL_42e860787ba24c46a62c7d2b1572f68b"
       ],
       "layout": "IPY_MODEL_db1260daa43848d3861989a1e9b6c9a8"
      }
     },
     "1049994662e2426c8240ba9ab206277c": {
      "model_module": "@jupyter-widgets/controls",
      "model_module_version": "1.5.0",
      "model_name": "ProgressStyleModel",
      "state": {
       "description_width": ""
      }
     },
     "1b099a5b1149461a84854eddc9784188": {
      "model_module": "@jupyter-widgets/controls",
      "model_module_version": "1.5.0",
      "model_name": "DescriptionStyleModel",
      "state": {
       "description_width": ""
      }
     },
     "1cdca762513f42e1bbdfe2fdb1f9e448": {
      "model_module": "@jupyter-widgets/base",
      "model_module_version": "1.2.0",
      "model_name": "LayoutModel",
      "state": {}
     },
     "21453d6ca030469c953616077619daa0": {
      "model_module": "@jupyter-widgets/controls",
      "model_module_version": "1.5.0",
      "model_name": "HBoxModel",
      "state": {
       "children": [
        "IPY_MODEL_e95ef5f850ee4bf8b99d8cb35a440b06",
        "IPY_MODEL_8a214fe6cec54458a04be4bac96a1d9d",
        "IPY_MODEL_b5ed8ddd4e8141de8f03b9153cd29559"
       ],
       "layout": "IPY_MODEL_a2bfa269b2dc4ed383bf4159b7ce01a7"
      }
     },
     "21c65e67c1e3442cbedecd60aeb507d7": {
      "model_module": "@jupyter-widgets/controls",
      "model_module_version": "1.5.0",
      "model_name": "FloatProgressModel",
      "state": {
       "bar_style": "success",
       "layout": "IPY_MODEL_e729a77a4e204e67ac2236fa10177d6c",
       "max": 1,
       "style": "IPY_MODEL_fdfb3146c87c48208f8fd01b9711a0fe",
       "value": 1
      }
     },
     "22c1ad61b5fc41098674a46a22c5adf5": {
      "model_module": "@jupyter-widgets/controls",
      "model_module_version": "1.5.0",
      "model_name": "ProgressStyleModel",
      "state": {
       "description_width": ""
      }
     },
     "233b6e0a031349b9a17f8c31679339b8": {
      "model_module": "@jupyter-widgets/base",
      "model_module_version": "1.2.0",
      "model_name": "LayoutModel",
      "state": {}
     },
     "2364405e27a345c581da94fb721c8d3f": {
      "model_module": "@jupyter-widgets/base",
      "model_module_version": "1.2.0",
      "model_name": "LayoutModel",
      "state": {}
     },
     "2643ea048af54a0792bf3354257de13b": {
      "model_module": "@jupyter-widgets/base",
      "model_module_version": "1.2.0",
      "model_name": "LayoutModel",
      "state": {}
     },
     "26fb01a2d30d429385e6f136e1c9c79f": {
      "model_module": "@jupyter-widgets/controls",
      "model_module_version": "1.5.0",
      "model_name": "DescriptionStyleModel",
      "state": {
       "description_width": ""
      }
     },
     "27359bd8f9e840038bf71a21ec6a40f1": {
      "model_module": "@jupyter-widgets/base",
      "model_module_version": "1.2.0",
      "model_name": "LayoutModel",
      "state": {}
     },
     "280420305f93451299972d61a9625b64": {
      "model_module": "@jupyter-widgets/controls",
      "model_module_version": "1.5.0",
      "model_name": "DescriptionStyleModel",
      "state": {
       "description_width": ""
      }
     },
     "2a84a026a9ac414bb7598a3b81cb2071": {
      "model_module": "@jupyter-widgets/controls",
      "model_module_version": "1.5.0",
      "model_name": "ProgressStyleModel",
      "state": {
       "description_width": ""
      }
     },
     "2c9fafab1d0b4e1abbed45b77cfb3d35": {
      "model_module": "@jupyter-widgets/base",
      "model_module_version": "1.2.0",
      "model_name": "LayoutModel",
      "state": {}
     },
     "34f8757fb12149909c4ce8b43157d695": {
      "model_module": "@jupyter-widgets/controls",
      "model_module_version": "1.5.0",
      "model_name": "FloatProgressModel",
      "state": {
       "bar_style": "success",
       "layout": "IPY_MODEL_8e356509cd4f410793526b6ae8efb120",
       "max": 37,
       "style": "IPY_MODEL_22c1ad61b5fc41098674a46a22c5adf5",
       "value": 37
      }
     },
     "35f056535dce41899dc2c624db8cae32": {
      "model_module": "@jupyter-widgets/controls",
      "model_module_version": "1.5.0",
      "model_name": "HTMLModel",
      "state": {
       "layout": "IPY_MODEL_2643ea048af54a0792bf3354257de13b",
       "style": "IPY_MODEL_5c559a07f9b346bfaec5a4809eda479b",
       "value": " 38/38 [00:11&lt;00:00,  1.93it/s, Completed]"
      }
     },
     "39b12bb168af480bb5c5c651ea1554ba": {
      "model_module": "@jupyter-widgets/base",
      "model_module_version": "1.2.0",
      "model_name": "LayoutModel",
      "state": {}
     },
     "3ac9d3b14c7244198747beed066589d6": {
      "model_module": "@jupyter-widgets/controls",
      "model_module_version": "1.5.0",
      "model_name": "HBoxModel",
      "state": {
       "children": [
        "IPY_MODEL_f1812f99ef0342d1ba9958bef534a248",
        "IPY_MODEL_6e430a1109e948f798d0fcb9a4803e9e",
        "IPY_MODEL_bee83ab3917f4713b56cbe7108ec8cbf"
       ],
       "layout": "IPY_MODEL_587319cdab9d40ef99ccfab8a79624bb"
      }
     },
     "41c3cf36df404c6f904c7912a1b05313": {
      "model_module": "@jupyter-widgets/base",
      "model_module_version": "1.2.0",
      "model_name": "LayoutModel",
      "state": {}
     },
     "41c6f3286f0d4baa971fad9fa40f8c70": {
      "model_module": "@jupyter-widgets/base",
      "model_module_version": "1.2.0",
      "model_name": "LayoutModel",
      "state": {}
     },
     "424adc75b8ce472ea6df66eb4bb852ef": {
      "model_module": "@jupyter-widgets/controls",
      "model_module_version": "1.5.0",
      "model_name": "HTMLModel",
      "state": {
       "layout": "IPY_MODEL_41c6f3286f0d4baa971fad9fa40f8c70",
       "style": "IPY_MODEL_5d24e0dfdfd34cce96dcaec1271d30ff",
       "value": "Export report to file: 100%"
      }
     },
     "42e860787ba24c46a62c7d2b1572f68b": {
      "model_module": "@jupyter-widgets/controls",
      "model_module_version": "1.5.0",
      "model_name": "HTMLModel",
      "state": {
       "layout": "IPY_MODEL_4396d9429dc946b5a3cc5844af168af2",
       "style": "IPY_MODEL_bbb6c984d5b04c2985cea341e1a21123",
       "value": " 1/1 [00:00&lt;00:00, 29.03it/s]"
      }
     },
     "4396d9429dc946b5a3cc5844af168af2": {
      "model_module": "@jupyter-widgets/base",
      "model_module_version": "1.2.0",
      "model_name": "LayoutModel",
      "state": {}
     },
     "449fbb77d0f3405fa9aa16214d62a6e1": {
      "model_module": "@jupyter-widgets/controls",
      "model_module_version": "1.5.0",
      "model_name": "FloatProgressModel",
      "state": {
       "bar_style": "success",
       "layout": "IPY_MODEL_27359bd8f9e840038bf71a21ec6a40f1",
       "max": 1,
       "style": "IPY_MODEL_1049994662e2426c8240ba9ab206277c",
       "value": 1
      }
     },
     "4fcaaeaa543f49f2bdb185748e302b2d": {
      "model_module": "@jupyter-widgets/controls",
      "model_module_version": "1.5.0",
      "model_name": "DescriptionStyleModel",
      "state": {
       "description_width": ""
      }
     },
     "57bccfb914854e4ba4caa87baf236e55": {
      "model_module": "@jupyter-widgets/controls",
      "model_module_version": "1.5.0",
      "model_name": "ProgressStyleModel",
      "state": {
       "description_width": ""
      }
     },
     "57d790f6f7914fe4be4d6d70c749eea2": {
      "model_module": "@jupyter-widgets/controls",
      "model_module_version": "1.5.0",
      "model_name": "DescriptionStyleModel",
      "state": {
       "description_width": ""
      }
     },
     "587319cdab9d40ef99ccfab8a79624bb": {
      "model_module": "@jupyter-widgets/base",
      "model_module_version": "1.2.0",
      "model_name": "LayoutModel",
      "state": {}
     },
     "5c559a07f9b346bfaec5a4809eda479b": {
      "model_module": "@jupyter-widgets/controls",
      "model_module_version": "1.5.0",
      "model_name": "DescriptionStyleModel",
      "state": {
       "description_width": ""
      }
     },
     "5d24e0dfdfd34cce96dcaec1271d30ff": {
      "model_module": "@jupyter-widgets/controls",
      "model_module_version": "1.5.0",
      "model_name": "DescriptionStyleModel",
      "state": {
       "description_width": ""
      }
     },
     "5f42b447b461433c9e04e1886f9a5ebe": {
      "model_module": "@jupyter-widgets/base",
      "model_module_version": "1.2.0",
      "model_name": "LayoutModel",
      "state": {}
     },
     "6dc97831cf104843acf5021f8044cdb3": {
      "model_module": "@jupyter-widgets/base",
      "model_module_version": "1.2.0",
      "model_name": "LayoutModel",
      "state": {}
     },
     "6e430a1109e948f798d0fcb9a4803e9e": {
      "model_module": "@jupyter-widgets/controls",
      "model_module_version": "1.5.0",
      "model_name": "FloatProgressModel",
      "state": {
       "bar_style": "success",
       "layout": "IPY_MODEL_d220925161fc4573a0336df85c93d4c3",
       "max": 1,
       "style": "IPY_MODEL_f114f7f47ec9456cb89521fb31492e29",
       "value": 1
      }
     },
     "7762565340c64d58bddf1403bb5a1f4c": {
      "model_module": "@jupyter-widgets/controls",
      "model_module_version": "1.5.0",
      "model_name": "FloatProgressModel",
      "state": {
       "bar_style": "success",
       "layout": "IPY_MODEL_a07a0849ba8e4b50afab935c41eebd8d",
       "max": 1,
       "style": "IPY_MODEL_e01be78222004bfeac63af73ec354166",
       "value": 1
      }
     },
     "7de2c41501564e7b81f3a65f5bba34ac": {
      "model_module": "@jupyter-widgets/controls",
      "model_module_version": "1.5.0",
      "model_name": "HBoxModel",
      "state": {
       "children": [
        "IPY_MODEL_0e5d66a9fd754eb3b79ad8b42d91a24b",
        "IPY_MODEL_34f8757fb12149909c4ce8b43157d695",
        "IPY_MODEL_ad78261e4305479dad202a9065b8b769"
       ],
       "layout": "IPY_MODEL_39b12bb168af480bb5c5c651ea1554ba"
      }
     },
     "7f0b79dccef640e8827bac530f76c911": {
      "model_module": "@jupyter-widgets/controls",
      "model_module_version": "1.5.0",
      "model_name": "DescriptionStyleModel",
      "state": {
       "description_width": ""
      }
     },
     "810cb80d2bfe4062a989007932f0a24b": {
      "model_module": "@jupyter-widgets/controls",
      "model_module_version": "1.5.0",
      "model_name": "HBoxModel",
      "state": {
       "children": [
        "IPY_MODEL_b46cabe80855425189cbdf1df5676ff5",
        "IPY_MODEL_ac91c7e6b6284621a29f76cecab1db41",
        "IPY_MODEL_f2f0a96ab84f4cb79cefd56cf9d6c77c"
       ],
       "layout": "IPY_MODEL_5f42b447b461433c9e04e1886f9a5ebe"
      }
     },
     "844b80df7ae34504b2080ca2752706e9": {
      "model_module": "@jupyter-widgets/base",
      "model_module_version": "1.2.0",
      "model_name": "LayoutModel",
      "state": {}
     },
     "84fb89e569504f13b5bc9c85f89766ef": {
      "model_module": "@jupyter-widgets/controls",
      "model_module_version": "1.5.0",
      "model_name": "DescriptionStyleModel",
      "state": {
       "description_width": ""
      }
     },
     "8a214fe6cec54458a04be4bac96a1d9d": {
      "model_module": "@jupyter-widgets/controls",
      "model_module_version": "1.5.0",
      "model_name": "FloatProgressModel",
      "state": {
       "bar_style": "success",
       "layout": "IPY_MODEL_8cd74ce82fc74b4896f16eac8117940c",
       "max": 1,
       "style": "IPY_MODEL_57bccfb914854e4ba4caa87baf236e55",
       "value": 1
      }
     },
     "8a8c67653d14472db07ee485c25ae125": {
      "model_module": "@jupyter-widgets/base",
      "model_module_version": "1.2.0",
      "model_name": "LayoutModel",
      "state": {}
     },
     "8cd74ce82fc74b4896f16eac8117940c": {
      "model_module": "@jupyter-widgets/base",
      "model_module_version": "1.2.0",
      "model_name": "LayoutModel",
      "state": {}
     },
     "8e356509cd4f410793526b6ae8efb120": {
      "model_module": "@jupyter-widgets/base",
      "model_module_version": "1.2.0",
      "model_name": "LayoutModel",
      "state": {}
     },
     "95d4b801108d4beea508904655fd8b98": {
      "model_module": "@jupyter-widgets/controls",
      "model_module_version": "1.5.0",
      "model_name": "DescriptionStyleModel",
      "state": {
       "description_width": ""
      }
     },
     "9f2db0da3a774fde9d65a253a526ef89": {
      "model_module": "@jupyter-widgets/controls",
      "model_module_version": "1.5.0",
      "model_name": "FloatProgressModel",
      "state": {
       "bar_style": "success",
       "layout": "IPY_MODEL_844b80df7ae34504b2080ca2752706e9",
       "max": 38,
       "style": "IPY_MODEL_2a84a026a9ac414bb7598a3b81cb2071",
       "value": 38
      }
     },
     "a07a0849ba8e4b50afab935c41eebd8d": {
      "model_module": "@jupyter-widgets/base",
      "model_module_version": "1.2.0",
      "model_name": "LayoutModel",
      "state": {}
     },
     "a13d850b21b54194957364b0b6972d37": {
      "model_module": "@jupyter-widgets/base",
      "model_module_version": "1.2.0",
      "model_name": "LayoutModel",
      "state": {}
     },
     "a2bfa269b2dc4ed383bf4159b7ce01a7": {
      "model_module": "@jupyter-widgets/base",
      "model_module_version": "1.2.0",
      "model_name": "LayoutModel",
      "state": {}
     },
     "a4861c8179e244cca78caa0adbd2b7fc": {
      "model_module": "@jupyter-widgets/controls",
      "model_module_version": "1.5.0",
      "model_name": "HTMLModel",
      "state": {
       "layout": "IPY_MODEL_233b6e0a031349b9a17f8c31679339b8",
       "style": "IPY_MODEL_a8a9149e64e14716af0beafbfb36a5db",
       "value": "Generate report structure: 100%"
      }
     },
     "a66dbfdb75994ddfba753a9236cb37c0": {
      "model_module": "@jupyter-widgets/base",
      "model_module_version": "1.2.0",
      "model_name": "LayoutModel",
      "state": {}
     },
     "a8280b9a7cf949dab30c759f30ab2133": {
      "model_module": "@jupyter-widgets/base",
      "model_module_version": "1.2.0",
      "model_name": "LayoutModel",
      "state": {}
     },
     "a8a9149e64e14716af0beafbfb36a5db": {
      "model_module": "@jupyter-widgets/controls",
      "model_module_version": "1.5.0",
      "model_name": "DescriptionStyleModel",
      "state": {
       "description_width": ""
      }
     },
     "ac91c7e6b6284621a29f76cecab1db41": {
      "model_module": "@jupyter-widgets/controls",
      "model_module_version": "1.5.0",
      "model_name": "FloatProgressModel",
      "state": {
       "bar_style": "success",
       "layout": "IPY_MODEL_d88340ad26bb46a3802f41ff408ef05b",
       "max": 1,
       "style": "IPY_MODEL_d7ff6b19f6e24ceb91b4f5ff743731d1",
       "value": 1
      }
     },
     "ad78261e4305479dad202a9065b8b769": {
      "model_module": "@jupyter-widgets/controls",
      "model_module_version": "1.5.0",
      "model_name": "HTMLModel",
      "state": {
       "layout": "IPY_MODEL_ee4ecd7ff2074c6682cb1fb90a3d4834",
       "style": "IPY_MODEL_c9eda6dfc83f442ab624f61fb5571834",
       "value": " 37/37 [00:11&lt;00:00,  1.45it/s, Completed]"
      }
     },
     "b35ed7c8c1f04a1c89026b4d36c8195b": {
      "model_module": "@jupyter-widgets/controls",
      "model_module_version": "1.5.0",
      "model_name": "DescriptionStyleModel",
      "state": {
       "description_width": ""
      }
     },
     "b46cabe80855425189cbdf1df5676ff5": {
      "model_module": "@jupyter-widgets/controls",
      "model_module_version": "1.5.0",
      "model_name": "HTMLModel",
      "state": {
       "layout": "IPY_MODEL_a8280b9a7cf949dab30c759f30ab2133",
       "style": "IPY_MODEL_f56c2eb755924dad9b51787e3f3ee317",
       "value": "Export report to file: 100%"
      }
     },
     "b5ed8ddd4e8141de8f03b9153cd29559": {
      "model_module": "@jupyter-widgets/controls",
      "model_module_version": "1.5.0",
      "model_name": "HTMLModel",
      "state": {
       "layout": "IPY_MODEL_c858316ca95942c5b47c1df0c3597394",
       "style": "IPY_MODEL_26fb01a2d30d429385e6f136e1c9c79f",
       "value": " 1/1 [00:01&lt;00:00,  1.70s/it]"
      }
     },
     "b69e44fdd72c48648e78a7f8fc3d3413": {
      "model_module": "@jupyter-widgets/base",
      "model_module_version": "1.2.0",
      "model_name": "LayoutModel",
      "state": {}
     },
     "bbb6c984d5b04c2985cea341e1a21123": {
      "model_module": "@jupyter-widgets/controls",
      "model_module_version": "1.5.0",
      "model_name": "DescriptionStyleModel",
      "state": {
       "description_width": ""
      }
     },
     "bee83ab3917f4713b56cbe7108ec8cbf": {
      "model_module": "@jupyter-widgets/controls",
      "model_module_version": "1.5.0",
      "model_name": "HTMLModel",
      "state": {
       "layout": "IPY_MODEL_c9e76d83c9214ee8a4c1496f0729e37f",
       "style": "IPY_MODEL_b35ed7c8c1f04a1c89026b4d36c8195b",
       "value": " 1/1 [00:01&lt;00:00,  1.86s/it]"
      }
     },
     "c1e3c550fdd14a95963f99f8215c2280": {
      "model_module": "@jupyter-widgets/controls",
      "model_module_version": "1.5.0",
      "model_name": "HBoxModel",
      "state": {
       "children": [
        "IPY_MODEL_a4861c8179e244cca78caa0adbd2b7fc",
        "IPY_MODEL_21c65e67c1e3442cbedecd60aeb507d7",
        "IPY_MODEL_dfc77ebfd53d472ba75fbeeac294c6ae"
       ],
       "layout": "IPY_MODEL_8a8c67653d14472db07ee485c25ae125"
      }
     },
     "c6d15a1dc9ed47a29652acded53cf160": {
      "model_module": "@jupyter-widgets/controls",
      "model_module_version": "1.5.0",
      "model_name": "HBoxModel",
      "state": {
       "children": [
        "IPY_MODEL_e26d909d55214cdf9186a542d51de167",
        "IPY_MODEL_9f2db0da3a774fde9d65a253a526ef89",
        "IPY_MODEL_35f056535dce41899dc2c624db8cae32"
       ],
       "layout": "IPY_MODEL_f8f6f46f0a1344629ba7262cf766f229"
      }
     },
     "c8016e084a5e4aa294f77165ec90db17": {
      "model_module": "@jupyter-widgets/controls",
      "model_module_version": "1.5.0",
      "model_name": "HTMLModel",
      "state": {
       "layout": "IPY_MODEL_2c9fafab1d0b4e1abbed45b77cfb3d35",
       "style": "IPY_MODEL_7f0b79dccef640e8827bac530f76c911",
       "value": " 1/1 [00:06&lt;00:00,  6.25s/it]"
      }
     },
     "c858316ca95942c5b47c1df0c3597394": {
      "model_module": "@jupyter-widgets/base",
      "model_module_version": "1.2.0",
      "model_name": "LayoutModel",
      "state": {}
     },
     "c9e76d83c9214ee8a4c1496f0729e37f": {
      "model_module": "@jupyter-widgets/base",
      "model_module_version": "1.2.0",
      "model_name": "LayoutModel",
      "state": {}
     },
     "c9eda6dfc83f442ab624f61fb5571834": {
      "model_module": "@jupyter-widgets/controls",
      "model_module_version": "1.5.0",
      "model_name": "DescriptionStyleModel",
      "state": {
       "description_width": ""
      }
     },
     "d220925161fc4573a0336df85c93d4c3": {
      "model_module": "@jupyter-widgets/base",
      "model_module_version": "1.2.0",
      "model_name": "LayoutModel",
      "state": {}
     },
     "d7ff6b19f6e24ceb91b4f5ff743731d1": {
      "model_module": "@jupyter-widgets/controls",
      "model_module_version": "1.5.0",
      "model_name": "ProgressStyleModel",
      "state": {
       "description_width": ""
      }
     },
     "d88340ad26bb46a3802f41ff408ef05b": {
      "model_module": "@jupyter-widgets/base",
      "model_module_version": "1.2.0",
      "model_name": "LayoutModel",
      "state": {}
     },
     "db1260daa43848d3861989a1e9b6c9a8": {
      "model_module": "@jupyter-widgets/base",
      "model_module_version": "1.2.0",
      "model_name": "LayoutModel",
      "state": {}
     },
     "dcc26c932cab4b45905bb776f74918b9": {
      "model_module": "@jupyter-widgets/controls",
      "model_module_version": "1.5.0",
      "model_name": "HTMLModel",
      "state": {
       "layout": "IPY_MODEL_a66dbfdb75994ddfba753a9236cb37c0",
       "style": "IPY_MODEL_4fcaaeaa543f49f2bdb185748e302b2d",
       "value": "Generate report structure: 100%"
      }
     },
     "dfc77ebfd53d472ba75fbeeac294c6ae": {
      "model_module": "@jupyter-widgets/controls",
      "model_module_version": "1.5.0",
      "model_name": "HTMLModel",
      "state": {
       "layout": "IPY_MODEL_41c3cf36df404c6f904c7912a1b05313",
       "style": "IPY_MODEL_280420305f93451299972d61a9625b64",
       "value": " 1/1 [00:05&lt;00:00,  5.48s/it]"
      }
     },
     "e01be78222004bfeac63af73ec354166": {
      "model_module": "@jupyter-widgets/controls",
      "model_module_version": "1.5.0",
      "model_name": "ProgressStyleModel",
      "state": {
       "description_width": ""
      }
     },
     "e26d909d55214cdf9186a542d51de167": {
      "model_module": "@jupyter-widgets/controls",
      "model_module_version": "1.5.0",
      "model_name": "HTMLModel",
      "state": {
       "layout": "IPY_MODEL_a13d850b21b54194957364b0b6972d37",
       "style": "IPY_MODEL_57d790f6f7914fe4be4d6d70c749eea2",
       "value": "Summarize dataset: 100%"
      }
     },
     "e729a77a4e204e67ac2236fa10177d6c": {
      "model_module": "@jupyter-widgets/base",
      "model_module_version": "1.2.0",
      "model_name": "LayoutModel",
      "state": {}
     },
     "e95ef5f850ee4bf8b99d8cb35a440b06": {
      "model_module": "@jupyter-widgets/controls",
      "model_module_version": "1.5.0",
      "model_name": "HTMLModel",
      "state": {
       "layout": "IPY_MODEL_b69e44fdd72c48648e78a7f8fc3d3413",
       "style": "IPY_MODEL_fd62af980475407ca63d2ccd7371c6b6",
       "value": "Render HTML: 100%"
      }
     },
     "ee4ecd7ff2074c6682cb1fb90a3d4834": {
      "model_module": "@jupyter-widgets/base",
      "model_module_version": "1.2.0",
      "model_name": "LayoutModel",
      "state": {}
     },
     "f114f7f47ec9456cb89521fb31492e29": {
      "model_module": "@jupyter-widgets/controls",
      "model_module_version": "1.5.0",
      "model_name": "ProgressStyleModel",
      "state": {
       "description_width": ""
      }
     },
     "f1812f99ef0342d1ba9958bef534a248": {
      "model_module": "@jupyter-widgets/controls",
      "model_module_version": "1.5.0",
      "model_name": "HTMLModel",
      "state": {
       "layout": "IPY_MODEL_0d75513cb0f84fb9bdc9cd94c8b775ff",
       "style": "IPY_MODEL_84fb89e569504f13b5bc9c85f89766ef",
       "value": "Render HTML: 100%"
      }
     },
     "f2f0a96ab84f4cb79cefd56cf9d6c77c": {
      "model_module": "@jupyter-widgets/controls",
      "model_module_version": "1.5.0",
      "model_name": "HTMLModel",
      "state": {
       "layout": "IPY_MODEL_2364405e27a345c581da94fb721c8d3f",
       "style": "IPY_MODEL_1b099a5b1149461a84854eddc9784188",
       "value": " 1/1 [00:00&lt;00:00, 24.65it/s]"
      }
     },
     "f481c935d1c94f76b176b71581142b59": {
      "model_module": "@jupyter-widgets/controls",
      "model_module_version": "1.5.0",
      "model_name": "HBoxModel",
      "state": {
       "children": [
        "IPY_MODEL_dcc26c932cab4b45905bb776f74918b9",
        "IPY_MODEL_7762565340c64d58bddf1403bb5a1f4c",
        "IPY_MODEL_c8016e084a5e4aa294f77165ec90db17"
       ],
       "layout": "IPY_MODEL_6dc97831cf104843acf5021f8044cdb3"
      }
     },
     "f56c2eb755924dad9b51787e3f3ee317": {
      "model_module": "@jupyter-widgets/controls",
      "model_module_version": "1.5.0",
      "model_name": "DescriptionStyleModel",
      "state": {
       "description_width": ""
      }
     },
     "f8f6f46f0a1344629ba7262cf766f229": {
      "model_module": "@jupyter-widgets/base",
      "model_module_version": "1.2.0",
      "model_name": "LayoutModel",
      "state": {}
     },
     "fd62af980475407ca63d2ccd7371c6b6": {
      "model_module": "@jupyter-widgets/controls",
      "model_module_version": "1.5.0",
      "model_name": "DescriptionStyleModel",
      "state": {
       "description_width": ""
      }
     },
     "fdfb3146c87c48208f8fd01b9711a0fe": {
      "model_module": "@jupyter-widgets/controls",
      "model_module_version": "1.5.0",
      "model_name": "ProgressStyleModel",
      "state": {
       "description_width": ""
      }
     }
    },
    "version_major": 2,
    "version_minor": 0
   }
  }
 },
 "nbformat": 4,
 "nbformat_minor": 5
}
