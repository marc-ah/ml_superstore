{
 "cells": [
  {
   "cell_type": "markdown",
   "id": "c1df34c1",
   "metadata": {},
   "source": [
    "# Prepare"
   ]
  },
  {
   "cell_type": "code",
   "execution_count": 113,
   "id": "71b37a0c",
   "metadata": {},
   "outputs": [],
   "source": [
    "# general modules\n",
    "import pandas as pd\n",
    "import sqlite3 \n",
    "import os\n",
    "import pandas_profiling\n",
    "import seaborn as sns\n",
    "import sqlite3 as sql\n",
    "import hashlib"
   ]
  },
  {
   "cell_type": "code",
   "execution_count": 114,
   "id": "6b7d9604",
   "metadata": {},
   "outputs": [],
   "source": [
    "# variables\n",
    "INPUT_FOLDER = \"input\"\n",
    "OUTPUT_FOLDER = \"output\"\n",
    "DATA_FOLDER = \"data\"\n",
    "\n",
    "xl_name = \"global-superstore.xls\" \n",
    "db_name = \"superstore.db\"\n",
    "\n",
    "randon_state = 42"
   ]
  },
  {
   "cell_type": "markdown",
   "id": "2dfc0c21",
   "metadata": {},
   "source": [
    "# Import"
   ]
  },
  {
   "cell_type": "code",
   "execution_count": 4,
   "id": "e2aab164",
   "metadata": {},
   "outputs": [],
   "source": [
    "df_orders = pd.read_excel(os.path.join(\"..\", DATA_FOLDER, xl_name), sheet_name=\"Orders\")\n",
    "df_returns = pd.read_excel(os.path.join(\"..\", DATA_FOLDER, xl_name), sheet_name=\"Returns\")\n",
    "df_people = pd.read_excel(os.path.join(\"..\", DATA_FOLDER, xl_name), sheet_name=\"People\")"
   ]
  },
  {
   "cell_type": "markdown",
   "id": "94276015",
   "metadata": {},
   "source": [
    "### Column Inspection"
   ]
  },
  {
   "cell_type": "code",
   "execution_count": 5,
   "id": "faebd124",
   "metadata": {
    "scrolled": true
   },
   "outputs": [
    {
     "data": {
      "text/plain": [
       "Index(['Row ID', 'Order ID', 'Order Date', 'Ship Date', 'Ship Mode',\n",
       "       'Customer ID', 'Customer Name', 'Segment', 'City', 'State', 'Country',\n",
       "       'Postal Code', 'Market', 'Region', 'Product ID', 'Category',\n",
       "       'Sub-Category', 'Product Name', 'Sales', 'Quantity', 'Discount',\n",
       "       'Profit', 'Shipping Cost', 'Order Priority'],\n",
       "      dtype='object')"
      ]
     },
     "execution_count": 5,
     "metadata": {},
     "output_type": "execute_result"
    }
   ],
   "source": [
    "df_orders.columns"
   ]
  },
  {
   "cell_type": "code",
   "execution_count": 6,
   "id": "ae98ef49",
   "metadata": {},
   "outputs": [
    {
     "data": {
      "text/plain": [
       "Index(['Returned', 'Order ID', 'Market'], dtype='object')"
      ]
     },
     "execution_count": 6,
     "metadata": {},
     "output_type": "execute_result"
    }
   ],
   "source": [
    "df_returns.columns"
   ]
  },
  {
   "cell_type": "code",
   "execution_count": 7,
   "id": "cf845221",
   "metadata": {},
   "outputs": [
    {
     "data": {
      "text/plain": [
       "Index(['Person', 'Region'], dtype='object')"
      ]
     },
     "execution_count": 7,
     "metadata": {},
     "output_type": "execute_result"
    }
   ],
   "source": [
    "df_people.columns"
   ]
  },
  {
   "cell_type": "code",
   "execution_count": 8,
   "id": "03921fb1",
   "metadata": {},
   "outputs": [
    {
     "data": {
      "text/html": [
       "<div>\n",
       "<style scoped>\n",
       "    .dataframe tbody tr th:only-of-type {\n",
       "        vertical-align: middle;\n",
       "    }\n",
       "\n",
       "    .dataframe tbody tr th {\n",
       "        vertical-align: top;\n",
       "    }\n",
       "\n",
       "    .dataframe thead th {\n",
       "        text-align: right;\n",
       "    }\n",
       "</style>\n",
       "<table border=\"1\" class=\"dataframe\">\n",
       "  <thead>\n",
       "    <tr style=\"text-align: right;\">\n",
       "      <th></th>\n",
       "      <th>Person</th>\n",
       "      <th>Region</th>\n",
       "    </tr>\n",
       "  </thead>\n",
       "  <tbody>\n",
       "    <tr>\n",
       "      <th>0</th>\n",
       "      <td>Anna Andreadi</td>\n",
       "      <td>Central</td>\n",
       "    </tr>\n",
       "    <tr>\n",
       "      <th>1</th>\n",
       "      <td>Chuck Magee</td>\n",
       "      <td>South</td>\n",
       "    </tr>\n",
       "    <tr>\n",
       "      <th>2</th>\n",
       "      <td>Kelly Williams</td>\n",
       "      <td>East</td>\n",
       "    </tr>\n",
       "    <tr>\n",
       "      <th>3</th>\n",
       "      <td>Matt Collister</td>\n",
       "      <td>West</td>\n",
       "    </tr>\n",
       "    <tr>\n",
       "      <th>4</th>\n",
       "      <td>Deborah Brumfield</td>\n",
       "      <td>Africa</td>\n",
       "    </tr>\n",
       "    <tr>\n",
       "      <th>5</th>\n",
       "      <td>Larry Hughes</td>\n",
       "      <td>AMEA</td>\n",
       "    </tr>\n",
       "    <tr>\n",
       "      <th>6</th>\n",
       "      <td>Nicole Hansen</td>\n",
       "      <td>Canada</td>\n",
       "    </tr>\n",
       "    <tr>\n",
       "      <th>7</th>\n",
       "      <td>Giulietta Dortch</td>\n",
       "      <td>Caribbean</td>\n",
       "    </tr>\n",
       "    <tr>\n",
       "      <th>8</th>\n",
       "      <td>Nora Preis</td>\n",
       "      <td>Central Asia</td>\n",
       "    </tr>\n",
       "    <tr>\n",
       "      <th>9</th>\n",
       "      <td>Jack Lebron</td>\n",
       "      <td>North</td>\n",
       "    </tr>\n",
       "    <tr>\n",
       "      <th>10</th>\n",
       "      <td>Shirley Daniels</td>\n",
       "      <td>North Asia</td>\n",
       "    </tr>\n",
       "    <tr>\n",
       "      <th>11</th>\n",
       "      <td>Anthony Jacobs</td>\n",
       "      <td>Oceania</td>\n",
       "    </tr>\n",
       "    <tr>\n",
       "      <th>12</th>\n",
       "      <td>Alejandro Ballentine</td>\n",
       "      <td>Southeast Asia</td>\n",
       "    </tr>\n",
       "  </tbody>\n",
       "</table>\n",
       "</div>"
      ],
      "text/plain": [
       "                  Person          Region\n",
       "0          Anna Andreadi         Central\n",
       "1            Chuck Magee           South\n",
       "2         Kelly Williams            East\n",
       "3         Matt Collister            West\n",
       "4      Deborah Brumfield          Africa\n",
       "5           Larry Hughes            AMEA\n",
       "6          Nicole Hansen          Canada\n",
       "7       Giulietta Dortch       Caribbean\n",
       "8             Nora Preis    Central Asia\n",
       "9            Jack Lebron           North\n",
       "10       Shirley Daniels      North Asia\n",
       "11        Anthony Jacobs         Oceania\n",
       "12  Alejandro Ballentine  Southeast Asia"
      ]
     },
     "execution_count": 8,
     "metadata": {},
     "output_type": "execute_result"
    }
   ],
   "source": [
    "df_people"
   ]
  },
  {
   "cell_type": "code",
   "execution_count": 9,
   "id": "37fb3a0f",
   "metadata": {},
   "outputs": [],
   "source": [
    "# seems to be not relevant at all"
   ]
  },
  {
   "cell_type": "markdown",
   "id": "37218b0d",
   "metadata": {},
   "source": [
    "### Integration"
   ]
  },
  {
   "cell_type": "code",
   "execution_count": 81,
   "id": "6853f39d",
   "metadata": {},
   "outputs": [],
   "source": [
    "raw_df = df_orders.merge(\n",
    "    df_returns[[\"Order ID\", \"Returned\"]],\n",
    "    on=\"Order ID\",\n",
    "    how=\"left\",\n",
    ")"
   ]
  },
  {
   "cell_type": "code",
   "execution_count": 82,
   "id": "e6ea125a",
   "metadata": {},
   "outputs": [
    {
     "data": {
      "text/plain": [
       "Index(['Row ID', 'Order ID', 'Order Date', 'Ship Date', 'Ship Mode',\n",
       "       'Customer ID', 'Customer Name', 'Segment', 'City', 'State', 'Country',\n",
       "       'Postal Code', 'Market', 'Region', 'Product ID', 'Category',\n",
       "       'Sub-Category', 'Product Name', 'Sales', 'Quantity', 'Discount',\n",
       "       'Profit', 'Shipping Cost', 'Order Priority', 'Returned'],\n",
       "      dtype='object')"
      ]
     },
     "execution_count": 82,
     "metadata": {},
     "output_type": "execute_result"
    }
   ],
   "source": [
    "raw_df.columns\n"
   ]
  },
  {
   "cell_type": "code",
   "execution_count": 83,
   "id": "69857431",
   "metadata": {},
   "outputs": [],
   "source": [
    "# remove obviously useless columns\n",
    "raw_df.drop(columns=\"Row ID\", inplace=True)\n",
    "raw_df.drop(columns=\"Order ID\", inplace=True)"
   ]
  },
  {
   "cell_type": "code",
   "execution_count": 112,
   "id": "d0f4a4f3",
   "metadata": {},
   "outputs": [],
   "source": [
    "# anonymize customer name\n",
    "raw_df[\"Customer Name\"] = raw_df.apply(lambda x: hashlib.md5(x[\"Customer Name\"].encode()).hexdigest(), axis=1)"
   ]
  },
  {
   "cell_type": "markdown",
   "id": "377435b6",
   "metadata": {},
   "source": [
    "# Store"
   ]
  },
  {
   "cell_type": "code",
   "execution_count": 115,
   "id": "71ede14b",
   "metadata": {},
   "outputs": [
    {
     "name": "stderr",
     "output_type": "stream",
     "text": [
      "C:\\Users\\Marc\\AppData\\Local\\Programs\\Python\\Python39\\lib\\site-packages\\pandas\\core\\generic.py:2779: UserWarning: The spaces in these column names will not be changed. In pandas versions < 0.14, spaces were converted to underscores.\n",
      "  sql.to_sql(\n"
     ]
    }
   ],
   "source": [
    "conn = sql.connect(os.path.join(\"..\", DATA_FOLDER, db_name))\n",
    "raw_df.to_sql('superstore', conn)"
   ]
  },
  {
   "cell_type": "markdown",
   "id": "78b853a0",
   "metadata": {},
   "source": [
    " \n",
    "**_--------- notebook hier aufsplitten ----------_**\n",
    " \n"
   ]
  },
  {
   "cell_type": "code",
   "execution_count": 2,
   "id": "60b39051",
   "metadata": {},
   "outputs": [],
   "source": [
    "# machine learning modules\n",
    "from sklearn.model_selection import train_test_split\n",
    "\n",
    "from sklearn.pipeline import Pipeline\n",
    "from sklearn.compose import ColumnTransformer\n",
    "from sklearn.preprocessing import StandardScaler\n",
    "from sklearn.impute import SimpleImputer\n",
    "from sklearn.preprocessing import LabelBinarizer\n",
    "\n",
    "import statsmodels.formula.api as smf\n",
    "from sklearn.linear_model import LinearRegression, Ridge, Lasso"
   ]
  },
  {
   "cell_type": "markdown",
   "id": "253d5930",
   "metadata": {},
   "source": [
    "### Train-Test-Split"
   ]
  },
  {
   "cell_type": "code",
   "execution_count": 88,
   "id": "935199e9",
   "metadata": {},
   "outputs": [],
   "source": [
    "df_train, df_test = train_test_split(raw_df, random_state = randon_state)"
   ]
  },
  {
   "cell_type": "code",
   "execution_count": 89,
   "id": "3eff05c6",
   "metadata": {},
   "outputs": [
    {
     "name": "stdout",
     "output_type": "stream",
     "text": [
      "(38471, 23)\n",
      "(12824, 23)\n"
     ]
    }
   ],
   "source": [
    "print(df_train.shape)\n",
    "print(df_test.shape)"
   ]
  },
  {
   "cell_type": "markdown",
   "id": "3652111d",
   "metadata": {},
   "source": [
    "# Inspect"
   ]
  },
  {
   "cell_type": "code",
   "execution_count": 100,
   "id": "5916c8d1",
   "metadata": {
    "scrolled": true
   },
   "outputs": [
    {
     "data": {
      "text/html": [
       "<div>\n",
       "<style scoped>\n",
       "    .dataframe tbody tr th:only-of-type {\n",
       "        vertical-align: middle;\n",
       "    }\n",
       "\n",
       "    .dataframe tbody tr th {\n",
       "        vertical-align: top;\n",
       "    }\n",
       "\n",
       "    .dataframe thead th {\n",
       "        text-align: right;\n",
       "    }\n",
       "</style>\n",
       "<table border=\"1\" class=\"dataframe\">\n",
       "  <thead>\n",
       "    <tr style=\"text-align: right;\">\n",
       "      <th></th>\n",
       "      <th>Order Date</th>\n",
       "      <th>Ship Date</th>\n",
       "      <th>Ship Mode</th>\n",
       "      <th>Customer ID</th>\n",
       "      <th>Customer Name</th>\n",
       "      <th>Segment</th>\n",
       "      <th>City</th>\n",
       "      <th>State</th>\n",
       "      <th>Country</th>\n",
       "      <th>Postal Code</th>\n",
       "      <th>...</th>\n",
       "      <th>Category</th>\n",
       "      <th>Sub-Category</th>\n",
       "      <th>Product Name</th>\n",
       "      <th>Sales</th>\n",
       "      <th>Quantity</th>\n",
       "      <th>Discount</th>\n",
       "      <th>Profit</th>\n",
       "      <th>Shipping Cost</th>\n",
       "      <th>Order Priority</th>\n",
       "      <th>Returned</th>\n",
       "    </tr>\n",
       "  </thead>\n",
       "  <tbody>\n",
       "    <tr>\n",
       "      <th>27507</th>\n",
       "      <td>2012-12-27</td>\n",
       "      <td>2012-12-31</td>\n",
       "      <td>Standard Class</td>\n",
       "      <td>SP-20860</td>\n",
       "      <td>a7d03c30d416fc5f7d695b495884fdd7</td>\n",
       "      <td>Corporate</td>\n",
       "      <td>Murfreesboro</td>\n",
       "      <td>Tennessee</td>\n",
       "      <td>United States</td>\n",
       "      <td>37130.0</td>\n",
       "      <td>...</td>\n",
       "      <td>Technology</td>\n",
       "      <td>Accessories</td>\n",
       "      <td>SanDisk Ultra 16 GB MicroSDHC Class 10 Memory ...</td>\n",
       "      <td>72.744</td>\n",
       "      <td>7</td>\n",
       "      <td>0.2</td>\n",
       "      <td>-12.7302</td>\n",
       "      <td>6.720</td>\n",
       "      <td>Medium</td>\n",
       "      <td>NaN</td>\n",
       "    </tr>\n",
       "    <tr>\n",
       "      <th>35511</th>\n",
       "      <td>2014-12-25</td>\n",
       "      <td>2015-01-01</td>\n",
       "      <td>Standard Class</td>\n",
       "      <td>JD-15895</td>\n",
       "      <td>1b2850c124acd1bc24237b4b5228b65e</td>\n",
       "      <td>Corporate</td>\n",
       "      <td>Oosterhout</td>\n",
       "      <td>North Brabant</td>\n",
       "      <td>Netherlands</td>\n",
       "      <td>NaN</td>\n",
       "      <td>...</td>\n",
       "      <td>Office Supplies</td>\n",
       "      <td>Labels</td>\n",
       "      <td>Smead File Folder Labels, Adjustable</td>\n",
       "      <td>23.730</td>\n",
       "      <td>7</td>\n",
       "      <td>0.5</td>\n",
       "      <td>-21.0000</td>\n",
       "      <td>3.430</td>\n",
       "      <td>Low</td>\n",
       "      <td>NaN</td>\n",
       "    </tr>\n",
       "    <tr>\n",
       "      <th>9172</th>\n",
       "      <td>2012-05-08</td>\n",
       "      <td>2012-05-11</td>\n",
       "      <td>Second Class</td>\n",
       "      <td>AB-10600</td>\n",
       "      <td>6acab08bb2b385c8569adfd24730ee01</td>\n",
       "      <td>Corporate</td>\n",
       "      <td>Phnom Penh</td>\n",
       "      <td>Phnom Penh</td>\n",
       "      <td>Cambodia</td>\n",
       "      <td>NaN</td>\n",
       "      <td>...</td>\n",
       "      <td>Furniture</td>\n",
       "      <td>Bookcases</td>\n",
       "      <td>Dania Corner Shelving, Pine</td>\n",
       "      <td>617.100</td>\n",
       "      <td>5</td>\n",
       "      <td>0.0</td>\n",
       "      <td>172.6500</td>\n",
       "      <td>36.380</td>\n",
       "      <td>Medium</td>\n",
       "      <td>NaN</td>\n",
       "    </tr>\n",
       "    <tr>\n",
       "      <th>31366</th>\n",
       "      <td>2011-06-30</td>\n",
       "      <td>2011-07-02</td>\n",
       "      <td>Second Class</td>\n",
       "      <td>GH-14410</td>\n",
       "      <td>1528a0a296f3ecf500753855ea9a21a5</td>\n",
       "      <td>Home Office</td>\n",
       "      <td>Lima</td>\n",
       "      <td>Lima (city)</td>\n",
       "      <td>Peru</td>\n",
       "      <td>NaN</td>\n",
       "      <td>...</td>\n",
       "      <td>Furniture</td>\n",
       "      <td>Chairs</td>\n",
       "      <td>Hon Bag Chairs, Red</td>\n",
       "      <td>54.180</td>\n",
       "      <td>3</td>\n",
       "      <td>0.4</td>\n",
       "      <td>-32.5200</td>\n",
       "      <td>4.919</td>\n",
       "      <td>Medium</td>\n",
       "      <td>Yes</td>\n",
       "    </tr>\n",
       "    <tr>\n",
       "      <th>24465</th>\n",
       "      <td>2013-06-23</td>\n",
       "      <td>2013-06-26</td>\n",
       "      <td>First Class</td>\n",
       "      <td>KW-16435</td>\n",
       "      <td>648a7c6f93ee0f453ee1378466a84ff8</td>\n",
       "      <td>Consumer</td>\n",
       "      <td>London</td>\n",
       "      <td>England</td>\n",
       "      <td>United Kingdom</td>\n",
       "      <td>NaN</td>\n",
       "      <td>...</td>\n",
       "      <td>Office Supplies</td>\n",
       "      <td>Storage</td>\n",
       "      <td>Fellowes Box, Wire Frame</td>\n",
       "      <td>50.625</td>\n",
       "      <td>3</td>\n",
       "      <td>0.1</td>\n",
       "      <td>20.2050</td>\n",
       "      <td>8.570</td>\n",
       "      <td>Medium</td>\n",
       "      <td>NaN</td>\n",
       "    </tr>\n",
       "  </tbody>\n",
       "</table>\n",
       "<p>5 rows × 23 columns</p>\n",
       "</div>"
      ],
      "text/plain": [
       "      Order Date  Ship Date       Ship Mode Customer ID  \\\n",
       "27507 2012-12-27 2012-12-31  Standard Class    SP-20860   \n",
       "35511 2014-12-25 2015-01-01  Standard Class    JD-15895   \n",
       "9172  2012-05-08 2012-05-11    Second Class    AB-10600   \n",
       "31366 2011-06-30 2011-07-02    Second Class    GH-14410   \n",
       "24465 2013-06-23 2013-06-26     First Class    KW-16435   \n",
       "\n",
       "                          Customer Name      Segment          City  \\\n",
       "27507  a7d03c30d416fc5f7d695b495884fdd7    Corporate  Murfreesboro   \n",
       "35511  1b2850c124acd1bc24237b4b5228b65e    Corporate    Oosterhout   \n",
       "9172   6acab08bb2b385c8569adfd24730ee01    Corporate    Phnom Penh   \n",
       "31366  1528a0a296f3ecf500753855ea9a21a5  Home Office          Lima   \n",
       "24465  648a7c6f93ee0f453ee1378466a84ff8     Consumer        London   \n",
       "\n",
       "               State         Country  Postal Code  ...         Category  \\\n",
       "27507      Tennessee   United States      37130.0  ...       Technology   \n",
       "35511  North Brabant     Netherlands          NaN  ...  Office Supplies   \n",
       "9172      Phnom Penh        Cambodia          NaN  ...        Furniture   \n",
       "31366    Lima (city)            Peru          NaN  ...        Furniture   \n",
       "24465        England  United Kingdom          NaN  ...  Office Supplies   \n",
       "\n",
       "      Sub-Category                                       Product Name  \\\n",
       "27507  Accessories  SanDisk Ultra 16 GB MicroSDHC Class 10 Memory ...   \n",
       "35511       Labels               Smead File Folder Labels, Adjustable   \n",
       "9172     Bookcases                        Dania Corner Shelving, Pine   \n",
       "31366       Chairs                                Hon Bag Chairs, Red   \n",
       "24465      Storage                           Fellowes Box, Wire Frame   \n",
       "\n",
       "         Sales Quantity Discount    Profit  Shipping Cost  Order Priority  \\\n",
       "27507   72.744        7      0.2  -12.7302          6.720          Medium   \n",
       "35511   23.730        7      0.5  -21.0000          3.430             Low   \n",
       "9172   617.100        5      0.0  172.6500         36.380          Medium   \n",
       "31366   54.180        3      0.4  -32.5200          4.919          Medium   \n",
       "24465   50.625        3      0.1   20.2050          8.570          Medium   \n",
       "\n",
       "       Returned  \n",
       "27507       NaN  \n",
       "35511       NaN  \n",
       "9172        NaN  \n",
       "31366       Yes  \n",
       "24465       NaN  \n",
       "\n",
       "[5 rows x 23 columns]"
      ]
     },
     "execution_count": 100,
     "metadata": {},
     "output_type": "execute_result"
    }
   ],
   "source": [
    "df_train.head()"
   ]
  },
  {
   "cell_type": "code",
   "execution_count": 101,
   "id": "42239839",
   "metadata": {},
   "outputs": [
    {
     "data": {
      "text/plain": [
       "Index(['Order Date', 'Ship Date', 'Ship Mode', 'Customer ID', 'Customer Name',\n",
       "       'Segment', 'City', 'State', 'Country', 'Postal Code', 'Market',\n",
       "       'Region', 'Product ID', 'Category', 'Sub-Category', 'Product Name',\n",
       "       'Sales', 'Quantity', 'Discount', 'Profit', 'Shipping Cost',\n",
       "       'Order Priority', 'Returned'],\n",
       "      dtype='object')"
      ]
     },
     "execution_count": 101,
     "metadata": {},
     "output_type": "execute_result"
    }
   ],
   "source": [
    "df_train.columns"
   ]
  },
  {
   "cell_type": "markdown",
   "id": "38d28fad",
   "metadata": {},
   "source": [
    "### Profiling"
   ]
  },
  {
   "cell_type": "code",
   "execution_count": 91,
   "id": "f8e36402",
   "metadata": {},
   "outputs": [],
   "source": [
    "profile = df_train.profile_report(title='Pandas Profiling Report')"
   ]
  },
  {
   "cell_type": "code",
   "execution_count": 106,
   "id": "6e0dd8e2",
   "metadata": {},
   "outputs": [
    {
     "data": {
      "application/vnd.jupyter.widget-view+json": {
       "model_id": "2f46ce4d1d034275befa0fa3d7403721",
       "version_major": 2,
       "version_minor": 0
      },
      "text/plain": [
       "Export report to file:   0%|          | 0/1 [00:00<?, ?it/s]"
      ]
     },
     "metadata": {},
     "output_type": "display_data"
    }
   ],
   "source": [
    "profile.to_file(output_file=os.path.join(\"..\", OUTPUT_FOLDER, \"data_profile.html\"))"
   ]
  },
  {
   "cell_type": "markdown",
   "id": "1379a939",
   "metadata": {},
   "source": [
    "### Missings"
   ]
  },
  {
   "cell_type": "code",
   "execution_count": 109,
   "id": "f40925fb",
   "metadata": {},
   "outputs": [
    {
     "data": {
      "text/plain": [
       "Order Date            0\n",
       "Ship Date             0\n",
       "Ship Mode             0\n",
       "Customer ID           0\n",
       "Customer Name         0\n",
       "Segment               0\n",
       "City                  0\n",
       "State                 0\n",
       "Country               0\n",
       "Postal Code       30915\n",
       "Market                0\n",
       "Region                0\n",
       "Product ID            0\n",
       "Category              0\n",
       "Sub-Category          0\n",
       "Product Name          0\n",
       "Sales                 0\n",
       "Quantity              0\n",
       "Discount              0\n",
       "Profit                0\n",
       "Shipping Cost         0\n",
       "Order Priority        0\n",
       "Returned          36159\n",
       "dtype: int64"
      ]
     },
     "execution_count": 109,
     "metadata": {},
     "output_type": "execute_result"
    }
   ],
   "source": [
    "df_train.isnull().sum()"
   ]
  },
  {
   "cell_type": "markdown",
   "id": "51a0e1d3",
   "metadata": {},
   "source": [
    "Postal Code ==> useless"
   ]
  },
  {
   "cell_type": "markdown",
   "id": "4aef60aa",
   "metadata": {},
   "source": [
    "### Columnwise Inspection"
   ]
  },
  {
   "cell_type": "markdown",
   "id": "d4f089f8",
   "metadata": {},
   "source": [
    "#### Ship Date, Order Date"
   ]
  },
  {
   "cell_type": "code",
   "execution_count": 93,
   "id": "4c9150cb",
   "metadata": {
    "scrolled": true
   },
   "outputs": [
    {
     "data": {
      "text/plain": [
       "<AxesSubplot:xlabel='Count', ylabel='Order Date'>"
      ]
     },
     "execution_count": 93,
     "metadata": {},
     "output_type": "execute_result"
    },
    {
     "data": {
      "image/png": "[encoded data removed]",
      "text/plain": [
       "<Figure size 1080x288 with 2 Axes>"
      ]
     },
     "metadata": {
      "needs_background": "light"
     },
     "output_type": "display_data"
    }
   ],
   "source": [
    "from matplotlib import pyplot as plt\n",
    "plt.rcParams[\"figure.figsize\"] = [15, 4]\n",
    "f, axes = plt.subplots(1, 2)\n",
    "\n",
    "sns.histplot(data=df_train, y=\"Ship Date\", ax=axes[0])\n",
    "sns.histplot(data=df_train, y=\"Order Date\", ax=axes[1])"
   ]
  },
  {
   "cell_type": "markdown",
   "id": "741a7157",
   "metadata": {},
   "source": [
    "* Almost the same. One column is enough."
   ]
  },
  {
   "cell_type": "markdown",
   "id": "9618af87",
   "metadata": {},
   "source": [
    "#### Ship Mode"
   ]
  },
  {
   "cell_type": "code",
   "execution_count": 94,
   "id": "a611508b",
   "metadata": {},
   "outputs": [
    {
     "data": {
      "text/plain": [
       "Standard Class    23148\n",
       "Second Class       7670\n",
       "First Class        5588\n",
       "Same Day           2065\n",
       "Name: Ship Mode, dtype: int64"
      ]
     },
     "execution_count": 94,
     "metadata": {},
     "output_type": "execute_result"
    }
   ],
   "source": [
    "df_train[\"Ship Mode\"].value_counts()"
   ]
  },
  {
   "cell_type": "markdown",
   "id": "132fadf4",
   "metadata": {},
   "source": [
    "* Predestined for OneHotEncoder"
   ]
  },
  {
   "cell_type": "markdown",
   "id": "557590ea",
   "metadata": {},
   "source": [
    "#### Customer ID, Customer Name"
   ]
  },
  {
   "cell_type": "code",
   "execution_count": 95,
   "id": "4e59f5ee",
   "metadata": {},
   "outputs": [
    {
     "name": "stdout",
     "output_type": "stream",
     "text": [
      "Unique values: 1587\n",
      "Total values: 38471\n"
     ]
    }
   ],
   "source": [
    "print(\"Unique values:\", len(set(df_train[\"Customer ID\"])))\n",
    "print(\"Total values:\", len(df_train[\"Customer ID\"]))"
   ]
  },
  {
   "cell_type": "code",
   "execution_count": 96,
   "id": "fc78b59e",
   "metadata": {},
   "outputs": [
    {
     "name": "stdout",
     "output_type": "stream",
     "text": [
      "Unique values: 795\n",
      "Total values: 38471\n"
     ]
    }
   ],
   "source": [
    "print(\"Unique values:\", len(set(df_train[\"Customer Name\"])))\n",
    "print(\"Total values:\", len(df_train[\"Customer Name\"]))"
   ]
  },
  {
   "cell_type": "markdown",
   "id": "e1e8d424",
   "metadata": {},
   "source": [
    "=> not useless at all... classification?"
   ]
  },
  {
   "cell_type": "markdown",
   "id": "712bca37",
   "metadata": {},
   "source": [
    "#### Segment"
   ]
  },
  {
   "cell_type": "code",
   "execution_count": 97,
   "id": "da1a57fe",
   "metadata": {},
   "outputs": [
    {
     "data": {
      "text/plain": [
       "Consumer       20019\n",
       "Corporate      11471\n",
       "Home Office     6981\n",
       "Name: Segment, dtype: int64"
      ]
     },
     "execution_count": 97,
     "metadata": {},
     "output_type": "execute_result"
    }
   ],
   "source": [
    "df_train[\"Segment\"].value_counts()"
   ]
  },
  {
   "cell_type": "markdown",
   "id": "4277c820",
   "metadata": {},
   "source": [
    "=> OneHotEncoder"
   ]
  },
  {
   "cell_type": "markdown",
   "id": "948d40e8",
   "metadata": {},
   "source": [
    "#### City, State, Country"
   ]
  },
  {
   "cell_type": "code",
   "execution_count": 102,
   "id": "da337db3",
   "metadata": {},
   "outputs": [
    {
     "name": "stdout",
     "output_type": "stream",
     "text": [
      "Unique values City: 3475\n",
      "Unique values State: 1072\n",
      "Total values: 38471\n"
     ]
    }
   ],
   "source": [
    "print(\"Unique values City:\", len(set(df_train[\"City\"])))\n",
    "print(\"Unique values State:\", len(set(df_train[\"State\"])))\n",
    "print(\"Total values:\", len(df_train[\"State\"]))"
   ]
  },
  {
   "cell_type": "code",
   "execution_count": 103,
   "id": "0d31401c",
   "metadata": {
    "scrolled": true
   },
   "outputs": [
    {
     "data": {
      "text/plain": [
       "United States    7556\n",
       "Australia        2137\n",
       "France           2114\n",
       "Mexico           2012\n",
       "Germany          1570\n",
       "                 ... \n",
       "Swaziland           2\n",
       "South Sudan         1\n",
       "Tajikistan          1\n",
       "Burundi             1\n",
       "Chad                1\n",
       "Name: Country, Length: 147, dtype: int64"
      ]
     },
     "execution_count": 103,
     "metadata": {},
     "output_type": "execute_result"
    }
   ],
   "source": [
    "df_train[\"Country\"].value_counts()"
   ]
  },
  {
   "cell_type": "markdown",
   "id": "0100364c",
   "metadata": {},
   "source": [
    "=> Too high cardinality\n",
    "\n",
    "=> The city most likely has nothing to do with the return rate"
   ]
  },
  {
   "cell_type": "markdown",
   "id": "cb09cdf3",
   "metadata": {},
   "source": [
    "#### Postal Code"
   ]
  },
  {
   "cell_type": "markdown",
   "id": "ca07598d",
   "metadata": {},
   "source": [
    "useless due to missing values"
   ]
  },
  {
   "cell_type": "markdown",
   "id": "3a8f5401",
   "metadata": {},
   "source": [
    "#### Market"
   ]
  },
  {
   "cell_type": "code",
   "execution_count": 111,
   "id": "034a131a",
   "metadata": {},
   "outputs": [
    {
     "data": {
      "text/plain": [
       "<AxesSubplot:ylabel='Market'>"
      ]
     },
     "execution_count": 111,
     "metadata": {},
     "output_type": "execute_result"
    },
    {
     "data": {
      "image/png": "[encoded data removed]",
      "text/plain": [
       "<Figure size 1080x288 with 1 Axes>"
      ]
     },
     "metadata": {},
     "output_type": "display_data"
    }
   ],
   "source": [
    "df_train[\"Market\"].value_counts().plot.pie()"
   ]
  },
  {
   "cell_type": "markdown",
   "id": "a777b4a1",
   "metadata": {},
   "source": [
    "==> looks good, OneHotEncoder; there may be differences in the regions"
   ]
  },
  {
   "cell_type": "code",
   "execution_count": null,
   "id": "b10301ee",
   "metadata": {},
   "outputs": [],
   "source": [
    "plt.rcParams[\"figure.figsize\"] = [15, 4]\n",
    "f, axes = plt.subplots(1, 2)\n",
    "\n",
    "ax.set_axis_off() \n",
    "table = ax.table( \n",
    "    cellText = val3,  \n",
    "    rowLabels = val2,  \n",
    "    colLabels = val1, \n",
    "    rowColours =[\"palegreen\"] * 10,  \n",
    "    colColours =[\"palegreen\"] * 10, \n",
    "    cellLoc ='center',  \n",
    "    loc ='upper left') "
   ]
  },
  {
   "cell_type": "code",
   "execution_count": null,
   "id": "07324abe",
   "metadata": {},
   "outputs": [],
   "source": []
  },
  {
   "cell_type": "code",
   "execution_count": null,
   "id": "95f1d547",
   "metadata": {},
   "outputs": [],
   "source": []
  },
  {
   "cell_type": "code",
   "execution_count": null,
   "id": "e07a0e3a",
   "metadata": {},
   "outputs": [],
   "source": []
  },
  {
   "cell_type": "code",
   "execution_count": null,
   "id": "eab3fd02",
   "metadata": {},
   "outputs": [],
   "source": []
  },
  {
   "cell_type": "code",
   "execution_count": null,
   "id": "6a8e247b",
   "metadata": {},
   "outputs": [],
   "source": [
    "# select potentially useful columns\n",
    "useful_columns = [\"\"]\n",
    "df_inspect = df_train[useful_columns]"
   ]
  },
  {
   "cell_type": "code",
   "execution_count": null,
   "id": "140befed",
   "metadata": {},
   "outputs": [],
   "source": [
    "#df_inspect.reset_index(drop=True, inplace=True)\n"
   ]
  },
  {
   "cell_type": "code",
   "execution_count": null,
   "id": "14594335",
   "metadata": {},
   "outputs": [],
   "source": [
    "#df_inspect.loc[:,\"\"] = LabelBinarizer().fit_transform(df_inspect[\"flirtInterests_date\"])"
   ]
  },
  {
   "cell_type": "code",
   "execution_count": null,
   "id": "56ababa4",
   "metadata": {
    "scrolled": true
   },
   "outputs": [],
   "source": [
    "#sns.pairplot(data=df_inspect)"
   ]
  },
  {
   "cell_type": "code",
   "execution_count": null,
   "id": "1b24e735",
   "metadata": {},
   "outputs": [],
   "source": [
    "#sns.heatmap(df_inspect.corr())"
   ]
  },
  {
   "cell_type": "code",
   "execution_count": null,
   "id": "0dff4d5c",
   "metadata": {},
   "outputs": [],
   "source": [
    "#model = smf.ols(formula=\"target ~ a + b + c\", data=df_inspect)\n",
    "#results = model.fit()\n",
    "#print(results.summary())"
   ]
  },
  {
   "cell_type": "code",
   "execution_count": null,
   "id": "3d7f63f6",
   "metadata": {},
   "outputs": [],
   "source": []
  }
 ],
 "metadata": {
  "kernelspec": {
   "display_name": "Python 3.9.4 64-bit",
   "language": "python",
   "name": "python394jvsc74a57bd0f228753f02b6bcec550021ad01f9964bb2298ebd1b1709942fc8265c3e080479"
  },
  "language_info": {
   "codemirror_mode": {
    "name": "ipython",
    "version": 3
   },
   "file_extension": ".py",
   "mimetype": "text/x-python",
   "name": "python",
   "nbconvert_exporter": "python",
   "pygments_lexer": "ipython3",
   "version": "3.9.4"
  }
 },
 "nbformat": 4,
 "nbformat_minor": 5
}
