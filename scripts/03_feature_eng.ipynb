{
 "cells": [
  {
   "cell_type": "markdown",
   "id": "327a78b4-8999-4bc9-a484-96d8b2fade20",
   "metadata": {},
   "source": [
    "# Prepare"
   ]
  },
  {
   "cell_type": "code",
   "execution_count": 1,
   "id": "1e6db656-3d3d-48d0-92aa-6267943deb1f",
   "metadata": {},
   "outputs": [],
   "source": [
    "# machine learning modules\n",
    "from sklearn.model_selection import train_test_split\n",
    "\n",
    "from sklearn.pipeline import Pipeline\n",
    "from sklearn.compose import ColumnTransformer\n",
    "from sklearn.preprocessing import StandardScaler\n",
    "from sklearn.impute import SimpleImputer\n",
    "from sklearn.preprocessing import LabelBinarizer\n",
    "from sklearn.preprocessing import Binarizer\n",
    "\n",
    "from sklearn.preprocessing import OrdinalEncoder\n",
    "from sklearn.preprocessing import OneHotEncoder\n",
    "from sklearn.preprocessing import PolynomialFeatures\n",
    "from sklearn.preprocessing import PowerTransformer\n",
    "\n",
    "from sklearn.neighbors import KNeighborsRegressor\n",
    "\n",
    "from sklearn import tree\n",
    "from sklearn.tree import DecisionTreeClassifier, export_graphviz\n",
    "from sklearn.ensemble import RandomForestClassifier\n",
    "from sklearn.model_selection import train_test_split\n",
    "from six import StringIO\n",
    "from IPython.display import Image\n",
    "from pydot import graph_from_dot_data"
   ]
  },
  {
   "cell_type": "code",
   "execution_count": 2,
   "id": "39391ec3-22a8-43af-b097-5096f72f6ae6",
   "metadata": {},
   "outputs": [],
   "source": [
    "# general modules\n",
    "import pandas as pd\n",
    "import os\n",
    "import numpy as np\n",
    "import seaborn as sns\n",
    "\n",
    "import time\n",
    "\n",
    "import pickle\n",
    "import random"
   ]
  },
  {
   "cell_type": "code",
   "execution_count": 3,
   "id": "b9c42902-3055-41ef-84cf-e1491e5f44cf",
   "metadata": {},
   "outputs": [],
   "source": [
    "# variables\n",
    "random_state = 42\n",
    "\n",
    "temp_path = 'temp'\n",
    "pckl_train = 'train_data'\n",
    "pckl_test = 'test_data'"
   ]
  },
  {
   "cell_type": "markdown",
   "id": "4a557e1f-3eb0-4768-8d48-dc520fa6ba30",
   "metadata": {},
   "source": [
    "# Import"
   ]
  },
  {
   "cell_type": "markdown",
   "id": "ffe0e873",
   "metadata": {},
   "source": [
    "Import dataframes from pickle files"
   ]
  },
  {
   "cell_type": "code",
   "execution_count": 4,
   "id": "08c89903-8d88-49cb-bc24-b0c556d50f8b",
   "metadata": {},
   "outputs": [],
   "source": [
    "train_in = open(os.path.join(\"..\",temp_path, pckl_train),'rb')\n",
    "df_train = pickle.load(train_in)\n",
    "train_in.close()"
   ]
  },
  {
   "cell_type": "code",
   "execution_count": 5,
   "id": "ee8ad3fe-8aff-4f3c-a224-04d6a8156363",
   "metadata": {},
   "outputs": [],
   "source": [
    "test_in = open(os.path.join(\"..\",temp_path, pckl_test),'rb')\n",
    "df_test = pickle.load(test_in)\n",
    "test_in.close()"
   ]
  },
  {
   "cell_type": "code",
   "execution_count": 6,
   "id": "bbbe720d",
   "metadata": {},
   "outputs": [
    {
     "data": {
      "text/plain": [
       "Index(['order_date', 'ship_date', 'ship_mode', 'customer_id', 'customer_name',\n",
       "       'segment', 'city', 'state', 'country', 'postal_code', 'market',\n",
       "       'region', 'product_id', 'category', 'sub-category', 'product_name',\n",
       "       'sales', 'quantity', 'discount', 'profit', 'shipping_cost',\n",
       "       'order_priority', 'returned', 'ship_delay', 'delayed'],\n",
       "      dtype='object')"
      ]
     },
     "execution_count": 6,
     "metadata": {},
     "output_type": "execute_result"
    }
   ],
   "source": [
    "df_train.columns"
   ]
  },
  {
   "cell_type": "code",
   "execution_count": 7,
   "id": "5c6c4fff",
   "metadata": {
    "scrolled": true
   },
   "outputs": [
    {
     "data": {
      "text/html": [
       "<div>\n",
       "<style scoped>\n",
       "    .dataframe tbody tr th:only-of-type {\n",
       "        vertical-align: middle;\n",
       "    }\n",
       "\n",
       "    .dataframe tbody tr th {\n",
       "        vertical-align: top;\n",
       "    }\n",
       "\n",
       "    .dataframe thead th {\n",
       "        text-align: right;\n",
       "    }\n",
       "</style>\n",
       "<table border=\"1\" class=\"dataframe\">\n",
       "  <thead>\n",
       "    <tr style=\"text-align: right;\">\n",
       "      <th></th>\n",
       "      <th>order_date</th>\n",
       "      <th>ship_date</th>\n",
       "      <th>ship_mode</th>\n",
       "      <th>customer_id</th>\n",
       "      <th>customer_name</th>\n",
       "      <th>segment</th>\n",
       "      <th>city</th>\n",
       "      <th>state</th>\n",
       "      <th>country</th>\n",
       "      <th>postal_code</th>\n",
       "      <th>...</th>\n",
       "      <th>product_name</th>\n",
       "      <th>sales</th>\n",
       "      <th>quantity</th>\n",
       "      <th>discount</th>\n",
       "      <th>profit</th>\n",
       "      <th>shipping_cost</th>\n",
       "      <th>order_priority</th>\n",
       "      <th>returned</th>\n",
       "      <th>ship_delay</th>\n",
       "      <th>delayed</th>\n",
       "    </tr>\n",
       "    <tr>\n",
       "      <th>index</th>\n",
       "      <th></th>\n",
       "      <th></th>\n",
       "      <th></th>\n",
       "      <th></th>\n",
       "      <th></th>\n",
       "      <th></th>\n",
       "      <th></th>\n",
       "      <th></th>\n",
       "      <th></th>\n",
       "      <th></th>\n",
       "      <th></th>\n",
       "      <th></th>\n",
       "      <th></th>\n",
       "      <th></th>\n",
       "      <th></th>\n",
       "      <th></th>\n",
       "      <th></th>\n",
       "      <th></th>\n",
       "      <th></th>\n",
       "      <th></th>\n",
       "      <th></th>\n",
       "    </tr>\n",
       "  </thead>\n",
       "  <tbody>\n",
       "    <tr>\n",
       "      <th>27507</th>\n",
       "      <td>2012-12-27</td>\n",
       "      <td>2012-12-31</td>\n",
       "      <td>Standard Class</td>\n",
       "      <td>SP-20860</td>\n",
       "      <td>a7d03c30d416fc5f7d695b495884fdd7</td>\n",
       "      <td>Corporate</td>\n",
       "      <td>Murfreesboro</td>\n",
       "      <td>Tennessee</td>\n",
       "      <td>United States</td>\n",
       "      <td>37130.0</td>\n",
       "      <td>...</td>\n",
       "      <td>SanDisk Ultra 16 GB MicroSDHC Class 10 Memory ...</td>\n",
       "      <td>72.744</td>\n",
       "      <td>7</td>\n",
       "      <td>0.2</td>\n",
       "      <td>-12.7302</td>\n",
       "      <td>6.720</td>\n",
       "      <td>Medium</td>\n",
       "      <td>No</td>\n",
       "      <td>4</td>\n",
       "      <td>True</td>\n",
       "    </tr>\n",
       "    <tr>\n",
       "      <th>35511</th>\n",
       "      <td>2014-12-25</td>\n",
       "      <td>2015-01-01</td>\n",
       "      <td>Standard Class</td>\n",
       "      <td>JD-15895</td>\n",
       "      <td>1b2850c124acd1bc24237b4b5228b65e</td>\n",
       "      <td>Corporate</td>\n",
       "      <td>Oosterhout</td>\n",
       "      <td>North Brabant</td>\n",
       "      <td>Netherlands</td>\n",
       "      <td>NaN</td>\n",
       "      <td>...</td>\n",
       "      <td>Smead File Folder Labels, Adjustable</td>\n",
       "      <td>23.730</td>\n",
       "      <td>7</td>\n",
       "      <td>0.5</td>\n",
       "      <td>-21.0000</td>\n",
       "      <td>3.430</td>\n",
       "      <td>Low</td>\n",
       "      <td>No</td>\n",
       "      <td>7</td>\n",
       "      <td>True</td>\n",
       "    </tr>\n",
       "    <tr>\n",
       "      <th>9172</th>\n",
       "      <td>2012-05-08</td>\n",
       "      <td>2012-05-11</td>\n",
       "      <td>Second Class</td>\n",
       "      <td>AB-10600</td>\n",
       "      <td>6acab08bb2b385c8569adfd24730ee01</td>\n",
       "      <td>Corporate</td>\n",
       "      <td>Phnom Penh</td>\n",
       "      <td>Phnom Penh</td>\n",
       "      <td>Cambodia</td>\n",
       "      <td>NaN</td>\n",
       "      <td>...</td>\n",
       "      <td>Dania Corner Shelving, Pine</td>\n",
       "      <td>617.100</td>\n",
       "      <td>5</td>\n",
       "      <td>0.0</td>\n",
       "      <td>172.6500</td>\n",
       "      <td>36.380</td>\n",
       "      <td>Medium</td>\n",
       "      <td>No</td>\n",
       "      <td>3</td>\n",
       "      <td>False</td>\n",
       "    </tr>\n",
       "    <tr>\n",
       "      <th>31366</th>\n",
       "      <td>2011-06-30</td>\n",
       "      <td>2011-07-02</td>\n",
       "      <td>Second Class</td>\n",
       "      <td>GH-14410</td>\n",
       "      <td>1528a0a296f3ecf500753855ea9a21a5</td>\n",
       "      <td>Home Office</td>\n",
       "      <td>Lima</td>\n",
       "      <td>Lima (city)</td>\n",
       "      <td>Peru</td>\n",
       "      <td>NaN</td>\n",
       "      <td>...</td>\n",
       "      <td>Hon Bag Chairs, Red</td>\n",
       "      <td>54.180</td>\n",
       "      <td>3</td>\n",
       "      <td>0.4</td>\n",
       "      <td>-32.5200</td>\n",
       "      <td>4.919</td>\n",
       "      <td>Medium</td>\n",
       "      <td>Yes</td>\n",
       "      <td>2</td>\n",
       "      <td>False</td>\n",
       "    </tr>\n",
       "    <tr>\n",
       "      <th>24465</th>\n",
       "      <td>2013-06-23</td>\n",
       "      <td>2013-06-26</td>\n",
       "      <td>First Class</td>\n",
       "      <td>KW-16435</td>\n",
       "      <td>648a7c6f93ee0f453ee1378466a84ff8</td>\n",
       "      <td>Consumer</td>\n",
       "      <td>London</td>\n",
       "      <td>England</td>\n",
       "      <td>United Kingdom</td>\n",
       "      <td>NaN</td>\n",
       "      <td>...</td>\n",
       "      <td>Fellowes Box, Wire Frame</td>\n",
       "      <td>50.625</td>\n",
       "      <td>3</td>\n",
       "      <td>0.1</td>\n",
       "      <td>20.2050</td>\n",
       "      <td>8.570</td>\n",
       "      <td>Medium</td>\n",
       "      <td>No</td>\n",
       "      <td>3</td>\n",
       "      <td>False</td>\n",
       "    </tr>\n",
       "  </tbody>\n",
       "</table>\n",
       "<p>5 rows × 25 columns</p>\n",
       "</div>"
      ],
      "text/plain": [
       "      order_date  ship_date       ship_mode customer_id  \\\n",
       "index                                                     \n",
       "27507 2012-12-27 2012-12-31  Standard Class    SP-20860   \n",
       "35511 2014-12-25 2015-01-01  Standard Class    JD-15895   \n",
       "9172  2012-05-08 2012-05-11    Second Class    AB-10600   \n",
       "31366 2011-06-30 2011-07-02    Second Class    GH-14410   \n",
       "24465 2013-06-23 2013-06-26     First Class    KW-16435   \n",
       "\n",
       "                          customer_name      segment          city  \\\n",
       "index                                                                \n",
       "27507  a7d03c30d416fc5f7d695b495884fdd7    Corporate  Murfreesboro   \n",
       "35511  1b2850c124acd1bc24237b4b5228b65e    Corporate    Oosterhout   \n",
       "9172   6acab08bb2b385c8569adfd24730ee01    Corporate    Phnom Penh   \n",
       "31366  1528a0a296f3ecf500753855ea9a21a5  Home Office          Lima   \n",
       "24465  648a7c6f93ee0f453ee1378466a84ff8     Consumer        London   \n",
       "\n",
       "               state         country  postal_code  ...  \\\n",
       "index                                              ...   \n",
       "27507      Tennessee   United States      37130.0  ...   \n",
       "35511  North Brabant     Netherlands          NaN  ...   \n",
       "9172      Phnom Penh        Cambodia          NaN  ...   \n",
       "31366    Lima (city)            Peru          NaN  ...   \n",
       "24465        England  United Kingdom          NaN  ...   \n",
       "\n",
       "                                            product_name    sales quantity  \\\n",
       "index                                                                        \n",
       "27507  SanDisk Ultra 16 GB MicroSDHC Class 10 Memory ...   72.744        7   \n",
       "35511               Smead File Folder Labels, Adjustable   23.730        7   \n",
       "9172                         Dania Corner Shelving, Pine  617.100        5   \n",
       "31366                                Hon Bag Chairs, Red   54.180        3   \n",
       "24465                           Fellowes Box, Wire Frame   50.625        3   \n",
       "\n",
       "      discount    profit shipping_cost  order_priority  returned  ship_delay  \\\n",
       "index                                                                          \n",
       "27507      0.2  -12.7302         6.720          Medium        No           4   \n",
       "35511      0.5  -21.0000         3.430             Low        No           7   \n",
       "9172       0.0  172.6500        36.380          Medium        No           3   \n",
       "31366      0.4  -32.5200         4.919          Medium       Yes           2   \n",
       "24465      0.1   20.2050         8.570          Medium        No           3   \n",
       "\n",
       "       delayed  \n",
       "index           \n",
       "27507     True  \n",
       "35511     True  \n",
       "9172     False  \n",
       "31366    False  \n",
       "24465    False  \n",
       "\n",
       "[5 rows x 25 columns]"
      ]
     },
     "execution_count": 7,
     "metadata": {},
     "output_type": "execute_result"
    }
   ],
   "source": [
    "df_train.head()"
   ]
  },
  {
   "cell_type": "markdown",
   "id": "cf96abf5-41c6-4d4e-81d7-da27a3757491",
   "metadata": {},
   "source": [
    "# Transform"
   ]
  },
  {
   "cell_type": "markdown",
   "id": "69918c65",
   "metadata": {},
   "source": [
    "## Creating features"
   ]
  },
  {
   "cell_type": "markdown",
   "id": "f9512583",
   "metadata": {},
   "source": [
    "Order date to month"
   ]
  },
  {
   "cell_type": "code",
   "execution_count": 8,
   "id": "a8393cfc",
   "metadata": {},
   "outputs": [],
   "source": [
    "df_train[\"order_month\"] = pd.DatetimeIndex(df_train[\"order_date\"]).month\n",
    "df_test[\"order_month\"] = pd.DatetimeIndex(df_test[\"order_date\"]).month"
   ]
  },
  {
   "cell_type": "code",
   "execution_count": 9,
   "id": "c23dfc9f",
   "metadata": {},
   "outputs": [
    {
     "data": {
      "text/html": [
       "<div>\n",
       "<style scoped>\n",
       "    .dataframe tbody tr th:only-of-type {\n",
       "        vertical-align: middle;\n",
       "    }\n",
       "\n",
       "    .dataframe tbody tr th {\n",
       "        vertical-align: top;\n",
       "    }\n",
       "\n",
       "    .dataframe thead th {\n",
       "        text-align: right;\n",
       "    }\n",
       "</style>\n",
       "<table border=\"1\" class=\"dataframe\">\n",
       "  <thead>\n",
       "    <tr style=\"text-align: right;\">\n",
       "      <th></th>\n",
       "      <th>order_date</th>\n",
       "      <th>order_month</th>\n",
       "    </tr>\n",
       "    <tr>\n",
       "      <th>index</th>\n",
       "      <th></th>\n",
       "      <th></th>\n",
       "    </tr>\n",
       "  </thead>\n",
       "  <tbody>\n",
       "    <tr>\n",
       "      <th>27507</th>\n",
       "      <td>2012-12-27</td>\n",
       "      <td>12</td>\n",
       "    </tr>\n",
       "    <tr>\n",
       "      <th>35511</th>\n",
       "      <td>2014-12-25</td>\n",
       "      <td>12</td>\n",
       "    </tr>\n",
       "    <tr>\n",
       "      <th>9172</th>\n",
       "      <td>2012-05-08</td>\n",
       "      <td>5</td>\n",
       "    </tr>\n",
       "    <tr>\n",
       "      <th>31366</th>\n",
       "      <td>2011-06-30</td>\n",
       "      <td>6</td>\n",
       "    </tr>\n",
       "    <tr>\n",
       "      <th>24465</th>\n",
       "      <td>2013-06-23</td>\n",
       "      <td>6</td>\n",
       "    </tr>\n",
       "  </tbody>\n",
       "</table>\n",
       "</div>"
      ],
      "text/plain": [
       "      order_date  order_month\n",
       "index                        \n",
       "27507 2012-12-27           12\n",
       "35511 2014-12-25           12\n",
       "9172  2012-05-08            5\n",
       "31366 2011-06-30            6\n",
       "24465 2013-06-23            6"
      ]
     },
     "execution_count": 9,
     "metadata": {},
     "output_type": "execute_result"
    }
   ],
   "source": [
    "df_train[[\"order_date\",\"order_month\"]].head()"
   ]
  },
  {
   "cell_type": "markdown",
   "id": "8b6b7f2d",
   "metadata": {},
   "source": [
    "## Feature selection"
   ]
  },
  {
   "cell_type": "code",
   "execution_count": 10,
   "id": "fd2e267a",
   "metadata": {},
   "outputs": [],
   "source": [
    "target_col = \"delayed\""
   ]
  },
  {
   "cell_type": "code",
   "execution_count": 11,
   "id": "f000d39e",
   "metadata": {},
   "outputs": [],
   "source": [
    "num_cols = [\"sales\", \"quantity\", \"profit\", \"shipping_cost\"]\n",
    "std_cols = [\"discount\"]\n",
    "\n",
    "nomi_cols = [\"order_month\", \"segment\", \"market\", \"category\"]\n",
    "ordi_cols = [\"ship_mode\", \"order_priority\"]\n",
    "\n",
    "\n",
    "bin_cols = [\"returned\"]\n",
    "\n",
    "unused_cols = [\"order_date\", \"ship_date\", \"customer_id\", \"customer_name\", \"city\", \"state\" ,\"country\", \"postal_code\", \"region\", \"product_id\",\n",
    "               \"sub-category\", \"product_name\"]\n",
    "\n"
   ]
  },
  {
   "cell_type": "code",
   "execution_count": 12,
   "id": "48975693",
   "metadata": {},
   "outputs": [
    {
     "name": "stdout",
     "output_type": "stream",
     "text": [
      "Total cols: 26\n",
      "Considered cols: 25\n"
     ]
    }
   ],
   "source": [
    "# check column count\n",
    "\n",
    "used_cols_len = len(num_cols)+len(nomi_cols)+len(ordi_cols)+len(bin_cols)+len(unused_cols)+len(std_cols)+1\n",
    "\n",
    "print(\"Total cols:\", len(df_train.columns))\n",
    "print(\"Considered cols:\", used_cols_len)"
   ]
  },
  {
   "cell_type": "markdown",
   "id": "f7639855",
   "metadata": {},
   "source": [
    "# Sampling - for debugging only"
   ]
  },
  {
   "cell_type": "code",
   "execution_count": 13,
   "id": "7f089880",
   "metadata": {},
   "outputs": [],
   "source": [
    "#df_train = df_train.sample(n=3000)\n",
    "#df_test = df_train.sample(n=1000)"
   ]
  },
  {
   "cell_type": "code",
   "execution_count": 14,
   "id": "071c5f30",
   "metadata": {},
   "outputs": [
    {
     "data": {
      "text/plain": [
       "38471"
      ]
     },
     "execution_count": 14,
     "metadata": {},
     "output_type": "execute_result"
    }
   ],
   "source": [
    "len(df_train)"
   ]
  },
  {
   "cell_type": "markdown",
   "id": "55f3f9cf",
   "metadata": {},
   "source": [
    "## X y split"
   ]
  },
  {
   "cell_type": "code",
   "execution_count": 15,
   "id": "fe7e9999",
   "metadata": {},
   "outputs": [],
   "source": [
    "def split_x_y(df):\n",
    "    y = np.array(df[target_col])\n",
    "    return df, y"
   ]
  },
  {
   "cell_type": "code",
   "execution_count": 16,
   "id": "1176e263",
   "metadata": {},
   "outputs": [],
   "source": [
    "X_train, y_train = split_x_y(df_train)"
   ]
  },
  {
   "cell_type": "code",
   "execution_count": 17,
   "id": "e205a5ad",
   "metadata": {},
   "outputs": [],
   "source": [
    "X_test, y_test = split_x_y(df_test)"
   ]
  },
  {
   "cell_type": "markdown",
   "id": "797e441e",
   "metadata": {},
   "source": [
    "## Pipeline"
   ]
  },
  {
   "cell_type": "code",
   "execution_count": 18,
   "id": "48da43a0",
   "metadata": {},
   "outputs": [],
   "source": [
    "ordinal_categories = [\n",
    "    [\"Standard Class\", \"Second Class\", \"First Class\", \"Same Day\"],\n",
    "    [\"Low\", \"Medium\", \"High\", \"Critical\"]\n",
    "]"
   ]
  },
  {
   "cell_type": "code",
   "execution_count": 19,
   "id": "6fa268d7",
   "metadata": {},
   "outputs": [],
   "source": [
    "ordinal_encoder = OrdinalEncoder(categories=ordinal_categories)"
   ]
  },
  {
   "cell_type": "code",
   "execution_count": 20,
   "id": "d295242d",
   "metadata": {},
   "outputs": [],
   "source": [
    "std_pipeline = Pipeline([\n",
    "    (\"simple_imp\", SimpleImputer())\n",
    "])"
   ]
  },
  {
   "cell_type": "code",
   "execution_count": 21,
   "id": "24b1d3f8",
   "metadata": {},
   "outputs": [],
   "source": [
    "num_pipeline = Pipeline([\n",
    "    (\"simple_imp\", SimpleImputer()),\n",
    "    #(\"pol\", PolynomialFeatures()),\n",
    "])"
   ]
  },
  {
   "cell_type": "code",
   "execution_count": 22,
   "id": "92e5f18d",
   "metadata": {},
   "outputs": [],
   "source": [
    "nomi_pipeline = Pipeline([\n",
    "    (\"one_hot\", OneHotEncoder()),\n",
    "])"
   ]
  },
  {
   "cell_type": "code",
   "execution_count": 23,
   "id": "83749f48",
   "metadata": {},
   "outputs": [],
   "source": [
    "bin_pipeline = Pipeline([\n",
    "    ('one_hot_encoder', OneHotEncoder(sparse=False))\n",
    "])"
   ]
  },
  {
   "cell_type": "code",
   "execution_count": 24,
   "id": "f1d0d478",
   "metadata": {},
   "outputs": [],
   "source": [
    "# complex transform pipeline includes numeric + binary features\n",
    "transform_pipeline = ColumnTransformer([\n",
    "    (\"num\", num_pipeline, num_cols),\n",
    "    (\"nomi\", nomi_pipeline, nomi_cols),\n",
    "    (\"ordi\", ordinal_encoder, ordi_cols),\n",
    "    (\"bin\", bin_pipeline, bin_cols),\n",
    "    (\"std\", std_pipeline, std_cols)\n",
    "])"
   ]
  },
  {
   "cell_type": "code",
   "execution_count": 25,
   "id": "f380cc60",
   "metadata": {},
   "outputs": [],
   "source": [
    "# simple transform pipeline contains only categorical features\n",
    "simple_transform_pipeline = ColumnTransformer([\n",
    "    (\"nomi\", nomi_pipeline, nomi_cols),\n",
    "    (\"ordi\", ordinal_encoder, ordi_cols),\n",
    "])"
   ]
  },
  {
   "cell_type": "markdown",
   "id": "2671cfac",
   "metadata": {},
   "source": [
    "---\n"
   ]
  },
  {
   "cell_type": "markdown",
   "id": "42f6f23e",
   "metadata": {},
   "source": [
    "## KNearest"
   ]
  },
  {
   "cell_type": "markdown",
   "id": "85407203",
   "metadata": {},
   "source": [
    "First try with \"complex\" pipeline and 8 neighbors "
   ]
  },
  {
   "cell_type": "code",
   "execution_count": 26,
   "id": "2b7d7813",
   "metadata": {},
   "outputs": [],
   "source": [
    "regression_pipeline = Pipeline([\n",
    "    (\"transform\", transform_pipeline),\n",
    "    (\"knearest\", KNeighborsRegressor(n_neighbors=8)),\n",
    "])\n"
   ]
  },
  {
   "cell_type": "code",
   "execution_count": 27,
   "id": "9d0f9cec",
   "metadata": {},
   "outputs": [
    {
     "name": "stdout",
     "output_type": "stream",
     "text": [
      "Score:  0.5434041852847138\n"
     ]
    }
   ],
   "source": [
    "model = regression_pipeline.fit(X_train, y_train)\n",
    "print(\"Score: \", model.score(X_train, y_train))"
   ]
  },
  {
   "cell_type": "code",
   "execution_count": 28,
   "id": "1862f23a",
   "metadata": {},
   "outputs": [
    {
     "name": "stdout",
     "output_type": "stream",
     "text": [
      "Score:  0.41420299585022635\n"
     ]
    }
   ],
   "source": [
    "model = regression_pipeline.fit(X_train, y_train)\n",
    "print(\"Score: \", model.score(X_test, y_test))"
   ]
  },
  {
   "cell_type": "markdown",
   "id": "49045e20",
   "metadata": {},
   "source": [
    "Try with \"simple\" pipeline and 8 neighbors"
   ]
  },
  {
   "cell_type": "code",
   "execution_count": 29,
   "id": "db82e421",
   "metadata": {},
   "outputs": [],
   "source": [
    "regression_pipeline2 = Pipeline([\n",
    "    (\"transform\", simple_transform_pipeline),\n",
    "    (\"knearest\", KNeighborsRegressor(n_neighbors=8)),\n",
    "])"
   ]
  },
  {
   "cell_type": "code",
   "execution_count": 30,
   "id": "aa61ddbe",
   "metadata": {},
   "outputs": [
    {
     "data": {
      "text/plain": [
       "0.825198359432352"
      ]
     },
     "execution_count": 30,
     "metadata": {},
     "output_type": "execute_result"
    }
   ],
   "source": [
    "model2 = regression_pipeline2.fit(X_train, y_train)\n",
    "model2.score(X_train, y_train)"
   ]
  },
  {
   "cell_type": "code",
   "execution_count": 31,
   "id": "a27287e8",
   "metadata": {},
   "outputs": [
    {
     "data": {
      "text/plain": [
       "0.7866715534626578"
      ]
     },
     "execution_count": 31,
     "metadata": {},
     "output_type": "execute_result"
    }
   ],
   "source": [
    "model2 = regression_pipeline2.fit(X_train, y_train)\n",
    "model2.score(X_test, y_test)"
   ]
  },
  {
   "cell_type": "markdown",
   "id": "13778375",
   "metadata": {},
   "source": [
    "### Hyperparameter tuning"
   ]
  },
  {
   "cell_type": "code",
   "execution_count": 32,
   "id": "e3c8c9f0",
   "metadata": {
    "scrolled": false
   },
   "outputs": [],
   "source": [
    "# complex transformation\n",
    "X_train_compl = transform_pipeline.fit_transform(X_train)\n",
    "X_test_compl = transform_pipeline.fit_transform(X_test)"
   ]
  },
  {
   "cell_type": "code",
   "execution_count": 33,
   "id": "be4604d0",
   "metadata": {},
   "outputs": [],
   "source": [
    "# simple transformation\n",
    "X_train_simple = simple_transform_pipeline.fit_transform(X_train)\n",
    "X_test_simple = simple_transform_pipeline.fit_transform(X_test)"
   ]
  },
  {
   "cell_type": "code",
   "execution_count": 34,
   "id": "04a4e95d",
   "metadata": {},
   "outputs": [],
   "source": [
    "k_n = []\n",
    "k_train_simple = [] \n",
    "k_test_simple = []\n",
    "k_train_complex = [] \n",
    "k_test_complex = []"
   ]
  },
  {
   "cell_type": "code",
   "execution_count": 35,
   "id": "bba1ef25",
   "metadata": {},
   "outputs": [],
   "source": [
    "def k_test_model(n_neighbors):\n",
    "    \n",
    "    k_n.append(n_neighbors)\n",
    "    \n",
    "    # complex\n",
    "    model_complex = KNeighborsRegressor(n_neighbors=n_neighbors).fit(X_train_compl, y_train)\n",
    "    train_score = model_complex.score(X_train_compl, y_train)\n",
    "    test_score = model_complex.score(X_test_compl, y_test)\n",
    "    \n",
    "    k_train_complex.append(train_score)\n",
    "    k_test_complex.append(test_score)\n",
    "    \n",
    "    # simple\n",
    "    model_simple = KNeighborsRegressor(n_neighbors=n_neighbors).fit(X_train_simple, y_train)\n",
    "    train_score = model_simple.score(X_train_simple, y_train)\n",
    "    test_score = model_simple.score(X_test_simple, y_test)\n",
    "    \n",
    "    k_train_simple.append(train_score)\n",
    "    k_test_simple.append(test_score)"
   ]
  },
  {
   "cell_type": "code",
   "execution_count": 36,
   "id": "8ddbb678",
   "metadata": {},
   "outputs": [
    {
     "name": "stdout",
     "output_type": "stream",
     "text": [
      "Duration:  1334.3797307014465\n"
     ]
    }
   ],
   "source": [
    "# loop through hyperparameter (n neighbors)\n",
    "test_range = 12\n",
    "\n",
    "start_time = time.time()\n",
    "\n",
    "for i in range(test_range):\n",
    "    k_test_model(i+1)\n",
    "    \n",
    "end_time = time.time()\n",
    "\n",
    "print(\"Duration: \", end_time - start_time)"
   ]
  },
  {
   "cell_type": "code",
   "execution_count": 37,
   "id": "311c80ac",
   "metadata": {},
   "outputs": [
    {
     "data": {
      "text/html": [
       "<div>\n",
       "<style scoped>\n",
       "    .dataframe tbody tr th:only-of-type {\n",
       "        vertical-align: middle;\n",
       "    }\n",
       "\n",
       "    .dataframe tbody tr th {\n",
       "        vertical-align: top;\n",
       "    }\n",
       "\n",
       "    .dataframe thead th {\n",
       "        text-align: right;\n",
       "    }\n",
       "</style>\n",
       "<table border=\"1\" class=\"dataframe\">\n",
       "  <thead>\n",
       "    <tr style=\"text-align: right;\">\n",
       "      <th></th>\n",
       "      <th>Score simple train</th>\n",
       "      <th>Score simple test</th>\n",
       "      <th>Score complex train</th>\n",
       "      <th>Score complex test</th>\n",
       "    </tr>\n",
       "  </thead>\n",
       "  <tbody>\n",
       "    <tr>\n",
       "      <th>1</th>\n",
       "      <td>0.740182</td>\n",
       "      <td>0.666912</td>\n",
       "      <td>1.000000</td>\n",
       "      <td>0.031180</td>\n",
       "    </tr>\n",
       "    <tr>\n",
       "      <th>2</th>\n",
       "      <td>0.806486</td>\n",
       "      <td>0.740514</td>\n",
       "      <td>0.759104</td>\n",
       "      <td>0.265595</td>\n",
       "    </tr>\n",
       "    <tr>\n",
       "      <th>3</th>\n",
       "      <td>0.825162</td>\n",
       "      <td>0.765326</td>\n",
       "      <td>0.672381</td>\n",
       "      <td>0.347872</td>\n",
       "    </tr>\n",
       "    <tr>\n",
       "      <th>4</th>\n",
       "      <td>0.829284</td>\n",
       "      <td>0.772905</td>\n",
       "      <td>0.625866</td>\n",
       "      <td>0.381392</td>\n",
       "    </tr>\n",
       "    <tr>\n",
       "      <th>5</th>\n",
       "      <td>0.829551</td>\n",
       "      <td>0.778486</td>\n",
       "      <td>0.595835</td>\n",
       "      <td>0.395256</td>\n",
       "    </tr>\n",
       "    <tr>\n",
       "      <th>6</th>\n",
       "      <td>0.829550</td>\n",
       "      <td>0.785274</td>\n",
       "      <td>0.574810</td>\n",
       "      <td>0.404352</td>\n",
       "    </tr>\n",
       "    <tr>\n",
       "      <th>7</th>\n",
       "      <td>0.827444</td>\n",
       "      <td>0.786179</td>\n",
       "      <td>0.557655</td>\n",
       "      <td>0.409513</td>\n",
       "    </tr>\n",
       "    <tr>\n",
       "      <th>8</th>\n",
       "      <td>0.825198</td>\n",
       "      <td>0.786672</td>\n",
       "      <td>0.543404</td>\n",
       "      <td>0.414203</td>\n",
       "    </tr>\n",
       "    <tr>\n",
       "      <th>9</th>\n",
       "      <td>0.824201</td>\n",
       "      <td>0.787488</td>\n",
       "      <td>0.533006</td>\n",
       "      <td>0.419513</td>\n",
       "    </tr>\n",
       "    <tr>\n",
       "      <th>10</th>\n",
       "      <td>0.821521</td>\n",
       "      <td>0.786577</td>\n",
       "      <td>0.523176</td>\n",
       "      <td>0.418651</td>\n",
       "    </tr>\n",
       "    <tr>\n",
       "      <th>11</th>\n",
       "      <td>0.819614</td>\n",
       "      <td>0.784883</td>\n",
       "      <td>0.515243</td>\n",
       "      <td>0.418246</td>\n",
       "    </tr>\n",
       "    <tr>\n",
       "      <th>12</th>\n",
       "      <td>0.818153</td>\n",
       "      <td>0.784933</td>\n",
       "      <td>0.508284</td>\n",
       "      <td>0.418427</td>\n",
       "    </tr>\n",
       "  </tbody>\n",
       "</table>\n",
       "</div>"
      ],
      "text/plain": [
       "    Score simple train  Score simple test  Score complex train  \\\n",
       "1             0.740182           0.666912             1.000000   \n",
       "2             0.806486           0.740514             0.759104   \n",
       "3             0.825162           0.765326             0.672381   \n",
       "4             0.829284           0.772905             0.625866   \n",
       "5             0.829551           0.778486             0.595835   \n",
       "6             0.829550           0.785274             0.574810   \n",
       "7             0.827444           0.786179             0.557655   \n",
       "8             0.825198           0.786672             0.543404   \n",
       "9             0.824201           0.787488             0.533006   \n",
       "10            0.821521           0.786577             0.523176   \n",
       "11            0.819614           0.784883             0.515243   \n",
       "12            0.818153           0.784933             0.508284   \n",
       "\n",
       "    Score complex test  \n",
       "1             0.031180  \n",
       "2             0.265595  \n",
       "3             0.347872  \n",
       "4             0.381392  \n",
       "5             0.395256  \n",
       "6             0.404352  \n",
       "7             0.409513  \n",
       "8             0.414203  \n",
       "9             0.419513  \n",
       "10            0.418651  \n",
       "11            0.418246  \n",
       "12            0.418427  "
      ]
     },
     "execution_count": 37,
     "metadata": {},
     "output_type": "execute_result"
    }
   ],
   "source": [
    "k_result = pd.DataFrame()\n",
    "k_result.index = k_n\n",
    "k_result[\"Score simple train\"] = k_train_simple\n",
    "k_result[\"Score simple test\"] = k_test_simple\n",
    "k_result[\"Score complex train\"] = k_train_complex\n",
    "k_result[\"Score complex test\"] = k_test_complex\n",
    "k_result\n"
   ]
  },
  {
   "cell_type": "code",
   "execution_count": 38,
   "id": "25fd4fe3",
   "metadata": {},
   "outputs": [
    {
     "data": {
      "text/plain": [
       "<matplotlib.legend.Legend at 0x254e5f157c0>"
      ]
     },
     "execution_count": 38,
     "metadata": {},
     "output_type": "execute_result"
    },
    {
     "data": {
      "image/png": "[encoded data removed]",
      "text/plain": [
       "<Figure size 720x432 with 1 Axes>"
      ]
     },
     "metadata": {},
     "output_type": "display_data"
    }
   ],
   "source": [
    "%matplotlib inline\n",
    "import matplotlib.pyplot as plt\n",
    "plt.style.use('seaborn-whitegrid')\n",
    "plt.figure(figsize=(10,6))\n",
    "\n",
    "plt.plot(k_n, k_train_simple, color=\"purple\", label=\"simple, train data\", linestyle=\"--\")\n",
    "plt.plot(k_n, k_test_simple, color=\"purple\", label=\"simple, test data\")\n",
    "\n",
    "plt.plot(k_n, k_train_complex, color=\"red\", label=\"complex, train data\", linestyle=\"--\")\n",
    "plt.plot(k_n, k_test_complex, color=\"red\", label=\"complex, test data\")\n",
    "\n",
    "plt.xlabel('k neighbors', size=14)\n",
    "plt.ylabel('score', size=14)\n",
    "\n",
    "plt.legend(fontsize=12)\n"
   ]
  },
  {
   "cell_type": "code",
   "execution_count": 39,
   "id": "0d2366de",
   "metadata": {},
   "outputs": [],
   "source": [
    "import winsound\n",
    "winsound.Beep(550,1000)"
   ]
  },
  {
   "cell_type": "markdown",
   "id": "c16d97af",
   "metadata": {},
   "source": [
    "---"
   ]
  },
  {
   "cell_type": "markdown",
   "id": "202c66a5",
   "metadata": {},
   "source": [
    "## Decision tree"
   ]
  },
  {
   "cell_type": "markdown",
   "id": "09373fdc",
   "metadata": {},
   "source": [
    "First try with simple transform pipeline (cat features) and depth of 3"
   ]
  },
  {
   "cell_type": "code",
   "execution_count": 40,
   "id": "d5bedec1",
   "metadata": {},
   "outputs": [],
   "source": [
    "decision_pipeline = Pipeline([\n",
    "    (\"transform\", simple_transform_pipeline),\n",
    "    (\"dtree\", DecisionTreeClassifier(max_depth=10)),\n",
    "])"
   ]
  },
  {
   "cell_type": "code",
   "execution_count": 41,
   "id": "b15d7e2e",
   "metadata": {},
   "outputs": [],
   "source": [
    "model = decision_pipeline.fit(X_train, y_train)"
   ]
  },
  {
   "cell_type": "code",
   "execution_count": 42,
   "id": "6cc4db69",
   "metadata": {},
   "outputs": [
    {
     "name": "stdout",
     "output_type": "stream",
     "text": [
      "Score:  0.9438278183566843\n"
     ]
    }
   ],
   "source": [
    "print(\"Score: \", model.score(X_train, y_train))"
   ]
  },
  {
   "cell_type": "code",
   "execution_count": 43,
   "id": "dcbd7e3e",
   "metadata": {},
   "outputs": [
    {
     "name": "stdout",
     "output_type": "stream",
     "text": [
      "Score:  0.9393325015595758\n"
     ]
    }
   ],
   "source": [
    "print(\"Score: \", model.score(X_test, y_test))"
   ]
  },
  {
   "cell_type": "markdown",
   "id": "98c1b43c",
   "metadata": {},
   "source": [
    "Second try with simple transform pipeline (incl num features) and depth of 3"
   ]
  },
  {
   "cell_type": "code",
   "execution_count": 44,
   "id": "fcb03236",
   "metadata": {},
   "outputs": [],
   "source": [
    "decision_pipeline = Pipeline([\n",
    "    (\"transform\", transform_pipeline),\n",
    "    (\"dtree\", DecisionTreeClassifier(max_depth=10)),\n",
    "])"
   ]
  },
  {
   "cell_type": "code",
   "execution_count": 45,
   "id": "48e78474",
   "metadata": {},
   "outputs": [],
   "source": [
    "model = decision_pipeline.fit(X_train, y_train)"
   ]
  },
  {
   "cell_type": "code",
   "execution_count": 46,
   "id": "09a4366c",
   "metadata": {},
   "outputs": [
    {
     "name": "stdout",
     "output_type": "stream",
     "text": [
      "Score:  0.9455174027189311\n"
     ]
    }
   ],
   "source": [
    "print(\"Score: \", model.score(X_train, y_train))"
   ]
  },
  {
   "cell_type": "code",
   "execution_count": 47,
   "id": "6a957102",
   "metadata": {},
   "outputs": [
    {
     "name": "stdout",
     "output_type": "stream",
     "text": [
      "Score:  0.936837180286962\n"
     ]
    }
   ],
   "source": [
    "print(\"Score: \", model.score(X_test, y_test))"
   ]
  },
  {
   "cell_type": "markdown",
   "id": "b13a4237",
   "metadata": {},
   "source": [
    "### Hyperparameter tuning"
   ]
  },
  {
   "cell_type": "code",
   "execution_count": 48,
   "id": "af53b212",
   "metadata": {},
   "outputs": [],
   "source": [
    "d_n = []\n",
    "d_train_simple = []\n",
    "d_test_simple = []\n",
    "d_train_complex = []\n",
    "d_test_complex = []"
   ]
  },
  {
   "cell_type": "code",
   "execution_count": 49,
   "id": "150b162f",
   "metadata": {},
   "outputs": [],
   "source": [
    "def d_test_model(max_depth):\n",
    "    \n",
    "    d_n.append(max_depth)\n",
    "    \n",
    "    # simple\n",
    "    model = DecisionTreeClassifier(max_depth=max_depth).fit(X_train_simple, y_train)\n",
    "    train_score = model.score(X_train_simple, y_train)\n",
    "    test_score = model.score(X_test_simple, y_test)\n",
    "    \n",
    "    d_train_simple.append(train_score)\n",
    "    d_test_simple.append(test_score)\n",
    "\n",
    "    # complex\n",
    "    model = DecisionTreeClassifier(max_depth=max_depth).fit(X_train_compl, y_train)\n",
    "    train_score = model.score(X_train_compl, y_train)\n",
    "    test_score = model.score(X_test_compl, y_test)\n",
    "    \n",
    "    d_train_complex.append(train_score)\n",
    "    d_test_complex.append(test_score)\n",
    "    "
   ]
  },
  {
   "cell_type": "code",
   "execution_count": 50,
   "id": "8f7b8b94",
   "metadata": {},
   "outputs": [
    {
     "name": "stdout",
     "output_type": "stream",
     "text": [
      "Duration:  1.74226975440979\n"
     ]
    }
   ],
   "source": [
    "start_time = time.time()\n",
    "\n",
    "for i in range(15):\n",
    "    d_test_model(i+1)\n",
    "    \n",
    "end_time = time.time()\n",
    "\n",
    "print(\"Duration: \", end_time - start_time)"
   ]
  },
  {
   "cell_type": "code",
   "execution_count": 51,
   "id": "8ad31664",
   "metadata": {},
   "outputs": [
    {
     "data": {
      "text/html": [
       "<div>\n",
       "<style scoped>\n",
       "    .dataframe tbody tr th:only-of-type {\n",
       "        vertical-align: middle;\n",
       "    }\n",
       "\n",
       "    .dataframe tbody tr th {\n",
       "        vertical-align: top;\n",
       "    }\n",
       "\n",
       "    .dataframe thead th {\n",
       "        text-align: right;\n",
       "    }\n",
       "</style>\n",
       "<table border=\"1\" class=\"dataframe\">\n",
       "  <thead>\n",
       "    <tr style=\"text-align: right;\">\n",
       "      <th></th>\n",
       "      <th>Score train simple</th>\n",
       "      <th>Score test simple</th>\n",
       "      <th>Score train complex</th>\n",
       "      <th>Score test complex</th>\n",
       "    </tr>\n",
       "  </thead>\n",
       "  <tbody>\n",
       "    <tr>\n",
       "      <th>1</th>\n",
       "      <td>0.919212</td>\n",
       "      <td>0.915471</td>\n",
       "      <td>0.919212</td>\n",
       "      <td>0.915471</td>\n",
       "    </tr>\n",
       "    <tr>\n",
       "      <th>2</th>\n",
       "      <td>0.919212</td>\n",
       "      <td>0.915471</td>\n",
       "      <td>0.919212</td>\n",
       "      <td>0.915471</td>\n",
       "    </tr>\n",
       "    <tr>\n",
       "      <th>3</th>\n",
       "      <td>0.940189</td>\n",
       "      <td>0.939333</td>\n",
       "      <td>0.940189</td>\n",
       "      <td>0.939333</td>\n",
       "    </tr>\n",
       "    <tr>\n",
       "      <th>4</th>\n",
       "      <td>0.940189</td>\n",
       "      <td>0.939333</td>\n",
       "      <td>0.940189</td>\n",
       "      <td>0.939333</td>\n",
       "    </tr>\n",
       "    <tr>\n",
       "      <th>5</th>\n",
       "      <td>0.940579</td>\n",
       "      <td>0.939410</td>\n",
       "      <td>0.940189</td>\n",
       "      <td>0.939333</td>\n",
       "    </tr>\n",
       "    <tr>\n",
       "      <th>6</th>\n",
       "      <td>0.941098</td>\n",
       "      <td>0.939566</td>\n",
       "      <td>0.941021</td>\n",
       "      <td>0.938865</td>\n",
       "    </tr>\n",
       "    <tr>\n",
       "      <th>7</th>\n",
       "      <td>0.941306</td>\n",
       "      <td>0.939566</td>\n",
       "      <td>0.941384</td>\n",
       "      <td>0.938631</td>\n",
       "    </tr>\n",
       "    <tr>\n",
       "      <th>8</th>\n",
       "      <td>0.941878</td>\n",
       "      <td>0.939255</td>\n",
       "      <td>0.942684</td>\n",
       "      <td>0.937851</td>\n",
       "    </tr>\n",
       "    <tr>\n",
       "      <th>9</th>\n",
       "      <td>0.943126</td>\n",
       "      <td>0.938709</td>\n",
       "      <td>0.943958</td>\n",
       "      <td>0.937539</td>\n",
       "    </tr>\n",
       "    <tr>\n",
       "      <th>10</th>\n",
       "      <td>0.943828</td>\n",
       "      <td>0.939333</td>\n",
       "      <td>0.945517</td>\n",
       "      <td>0.936759</td>\n",
       "    </tr>\n",
       "    <tr>\n",
       "      <th>11</th>\n",
       "      <td>0.944660</td>\n",
       "      <td>0.939488</td>\n",
       "      <td>0.947337</td>\n",
       "      <td>0.935356</td>\n",
       "    </tr>\n",
       "    <tr>\n",
       "      <th>12</th>\n",
       "      <td>0.945751</td>\n",
       "      <td>0.938163</td>\n",
       "      <td>0.949338</td>\n",
       "      <td>0.935044</td>\n",
       "    </tr>\n",
       "    <tr>\n",
       "      <th>13</th>\n",
       "      <td>0.946973</td>\n",
       "      <td>0.938709</td>\n",
       "      <td>0.951912</td>\n",
       "      <td>0.933328</td>\n",
       "    </tr>\n",
       "    <tr>\n",
       "      <th>14</th>\n",
       "      <td>0.947987</td>\n",
       "      <td>0.938397</td>\n",
       "      <td>0.954615</td>\n",
       "      <td>0.932236</td>\n",
       "    </tr>\n",
       "    <tr>\n",
       "      <th>15</th>\n",
       "      <td>0.948923</td>\n",
       "      <td>0.937617</td>\n",
       "      <td>0.957552</td>\n",
       "      <td>0.932002</td>\n",
       "    </tr>\n",
       "  </tbody>\n",
       "</table>\n",
       "</div>"
      ],
      "text/plain": [
       "    Score train simple  Score test simple  Score train complex  \\\n",
       "1             0.919212           0.915471             0.919212   \n",
       "2             0.919212           0.915471             0.919212   \n",
       "3             0.940189           0.939333             0.940189   \n",
       "4             0.940189           0.939333             0.940189   \n",
       "5             0.940579           0.939410             0.940189   \n",
       "6             0.941098           0.939566             0.941021   \n",
       "7             0.941306           0.939566             0.941384   \n",
       "8             0.941878           0.939255             0.942684   \n",
       "9             0.943126           0.938709             0.943958   \n",
       "10            0.943828           0.939333             0.945517   \n",
       "11            0.944660           0.939488             0.947337   \n",
       "12            0.945751           0.938163             0.949338   \n",
       "13            0.946973           0.938709             0.951912   \n",
       "14            0.947987           0.938397             0.954615   \n",
       "15            0.948923           0.937617             0.957552   \n",
       "\n",
       "    Score test complex  \n",
       "1             0.915471  \n",
       "2             0.915471  \n",
       "3             0.939333  \n",
       "4             0.939333  \n",
       "5             0.939333  \n",
       "6             0.938865  \n",
       "7             0.938631  \n",
       "8             0.937851  \n",
       "9             0.937539  \n",
       "10            0.936759  \n",
       "11            0.935356  \n",
       "12            0.935044  \n",
       "13            0.933328  \n",
       "14            0.932236  \n",
       "15            0.932002  "
      ]
     },
     "execution_count": 51,
     "metadata": {},
     "output_type": "execute_result"
    }
   ],
   "source": [
    "d_result = pd.DataFrame()\n",
    "d_result.index = d_n\n",
    "d_result[\"Score train simple\"] = d_train_simple\n",
    "d_result[\"Score test simple\"] = d_test_simple\n",
    "d_result[\"Score train complex\"] = d_train_complex\n",
    "d_result[\"Score test complex\"] = d_test_complex\n",
    "\n",
    "d_result"
   ]
  },
  {
   "cell_type": "code",
   "execution_count": 52,
   "id": "063989ef",
   "metadata": {},
   "outputs": [
    {
     "data": {
      "text/plain": [
       "<matplotlib.legend.Legend at 0x254e63c0850>"
      ]
     },
     "execution_count": 52,
     "metadata": {},
     "output_type": "execute_result"
    },
    {
     "data": {
      "image/png": "[encoded data removed]",
      "text/plain": [
       "<Figure size 720x432 with 1 Axes>"
      ]
     },
     "metadata": {},
     "output_type": "display_data"
    }
   ],
   "source": [
    "plt.style.use('seaborn-whitegrid')\n",
    "plt.figure(figsize=(10,6))\n",
    "\n",
    "plt.plot(d_n, d_train_simple, color=\"purple\", linestyle=\"--\", label=\"simple, train data\")\n",
    "plt.plot(d_n, d_test_simple, color=\"purple\", label=\"simple, test data\")\n",
    "\n",
    "plt.plot(d_n, d_train_complex, color=\"red\", linestyle=\"--\", label=\"complex, train data\", alpha=0.3)\n",
    "plt.plot(d_n, d_test_complex, color=\"red\", label=\"complex, test data\", alpha=0.3)\n",
    "\n",
    "plt.xlabel('max depth', size=14)\n",
    "plt.ylabel('score', size=14)\n",
    "\n",
    "plt.legend(fontsize=12)"
   ]
  },
  {
   "cell_type": "markdown",
   "id": "fefd5b6a",
   "metadata": {},
   "source": [
    "### Visualization"
   ]
  },
  {
   "cell_type": "code",
   "execution_count": 53,
   "id": "1a18c672",
   "metadata": {},
   "outputs": [],
   "source": [
    "def split_x_y(df, features):\n",
    "    df = df.dropna()\n",
    "    y = df[target_col]\n",
    "    X = df.loc[: , features]\n",
    "    X = pd.get_dummies(X)\n",
    "    return X, y"
   ]
  },
  {
   "cell_type": "code",
   "execution_count": 54,
   "id": "6dcac531",
   "metadata": {},
   "outputs": [],
   "source": [
    "feature_selection = nomi_cols + ordi_cols"
   ]
  },
  {
   "cell_type": "code",
   "execution_count": 55,
   "id": "8135cbae",
   "metadata": {
    "scrolled": true
   },
   "outputs": [],
   "source": [
    "X_train_g, y_train_g = split_x_y(df_train, feature_selection)"
   ]
  },
  {
   "cell_type": "code",
   "execution_count": 56,
   "id": "45468d76",
   "metadata": {},
   "outputs": [
    {
     "data": {
      "text/plain": [
       "DecisionTreeClassifier(max_depth=4)"
      ]
     },
     "execution_count": 56,
     "metadata": {},
     "output_type": "execute_result"
    }
   ],
   "source": [
    "model = DecisionTreeClassifier(max_depth=4)\n",
    "model.fit(X_train_g, y_train_g)"
   ]
  },
  {
   "cell_type": "code",
   "execution_count": 58,
   "id": "d7a684bd",
   "metadata": {
    "scrolled": true
   },
   "outputs": [
    {
     "data": {
      "image/png": "[encoded data removed]",
      "text/plain": [
       "<IPython.core.display.Image object>"
      ]
     },
     "execution_count": 58,
     "metadata": {},
     "output_type": "execute_result"
    }
   ],
   "source": [
    "dot_data = StringIO()\n",
    "export_graphviz(model, out_file=dot_data, feature_names=X_train_g.columns)\n",
    "(graph, ) = graph_from_dot_data(dot_data.getvalue())\n",
    "Image(graph.create_png())"
   ]
  },
  {
   "cell_type": "markdown",
   "id": "9f8558fc",
   "metadata": {},
   "source": [
    "# Prediction"
   ]
  },
  {
   "cell_type": "code",
   "execution_count": 59,
   "id": "0e6f16b6-da35-42d2-95f0-9869c8739554",
   "metadata": {},
   "outputs": [],
   "source": [
    "decision_pipeline = Pipeline([\n",
    "    (\"transform\", simple_transform_pipeline),\n",
    "    (\"dtree\", DecisionTreeClassifier(max_depth=4)),\n",
    "])\n",
    "\n",
    "model = decision_pipeline.fit(X_train, y_train)"
   ]
  },
  {
   "cell_type": "code",
   "execution_count": 60,
   "id": "0eb43d4a",
   "metadata": {},
   "outputs": [],
   "source": [
    "y_train_predict = model.predict(X_test)"
   ]
  },
  {
   "cell_type": "code",
   "execution_count": 61,
   "id": "6c0d7923",
   "metadata": {},
   "outputs": [],
   "source": [
    "X_test[\"prediction\"] = y_train_predict"
   ]
  },
  {
   "cell_type": "code",
   "execution_count": 62,
   "id": "c6481921",
   "metadata": {
    "scrolled": true
   },
   "outputs": [
    {
     "data": {
      "text/html": [
       "<div>\n",
       "<style scoped>\n",
       "    .dataframe tbody tr th:only-of-type {\n",
       "        vertical-align: middle;\n",
       "    }\n",
       "\n",
       "    .dataframe tbody tr th {\n",
       "        vertical-align: top;\n",
       "    }\n",
       "\n",
       "    .dataframe thead th {\n",
       "        text-align: right;\n",
       "    }\n",
       "</style>\n",
       "<table border=\"1\" class=\"dataframe\">\n",
       "  <thead>\n",
       "    <tr style=\"text-align: right;\">\n",
       "      <th></th>\n",
       "      <th>order_date</th>\n",
       "      <th>ship_date</th>\n",
       "      <th>ship_mode</th>\n",
       "      <th>customer_id</th>\n",
       "      <th>customer_name</th>\n",
       "      <th>segment</th>\n",
       "      <th>city</th>\n",
       "      <th>state</th>\n",
       "      <th>country</th>\n",
       "      <th>postal_code</th>\n",
       "      <th>...</th>\n",
       "      <th>quantity</th>\n",
       "      <th>discount</th>\n",
       "      <th>profit</th>\n",
       "      <th>shipping_cost</th>\n",
       "      <th>order_priority</th>\n",
       "      <th>returned</th>\n",
       "      <th>ship_delay</th>\n",
       "      <th>delayed</th>\n",
       "      <th>order_month</th>\n",
       "      <th>prediction</th>\n",
       "    </tr>\n",
       "    <tr>\n",
       "      <th>index</th>\n",
       "      <th></th>\n",
       "      <th></th>\n",
       "      <th></th>\n",
       "      <th></th>\n",
       "      <th></th>\n",
       "      <th></th>\n",
       "      <th></th>\n",
       "      <th></th>\n",
       "      <th></th>\n",
       "      <th></th>\n",
       "      <th></th>\n",
       "      <th></th>\n",
       "      <th></th>\n",
       "      <th></th>\n",
       "      <th></th>\n",
       "      <th></th>\n",
       "      <th></th>\n",
       "      <th></th>\n",
       "      <th></th>\n",
       "      <th></th>\n",
       "      <th></th>\n",
       "    </tr>\n",
       "  </thead>\n",
       "  <tbody>\n",
       "    <tr>\n",
       "      <th>30040</th>\n",
       "      <td>2012-09-05</td>\n",
       "      <td>2012-09-11</td>\n",
       "      <td>Standard Class</td>\n",
       "      <td>CA-12055</td>\n",
       "      <td>d7f40cbb6597f62d85534ef6342c695e</td>\n",
       "      <td>Home Office</td>\n",
       "      <td>Houston</td>\n",
       "      <td>Texas</td>\n",
       "      <td>United States</td>\n",
       "      <td>77036.0</td>\n",
       "      <td>...</td>\n",
       "      <td>9</td>\n",
       "      <td>0.2</td>\n",
       "      <td>-14.6880</td>\n",
       "      <td>5.480</td>\n",
       "      <td>Medium</td>\n",
       "      <td>No</td>\n",
       "      <td>6</td>\n",
       "      <td>True</td>\n",
       "      <td>9</td>\n",
       "      <td>True</td>\n",
       "    </tr>\n",
       "    <tr>\n",
       "      <th>44906</th>\n",
       "      <td>2014-04-17</td>\n",
       "      <td>2014-04-23</td>\n",
       "      <td>Standard Class</td>\n",
       "      <td>MH-18025</td>\n",
       "      <td>0b13a87bdfb89e5bb4b2c7d188c81a66</td>\n",
       "      <td>Consumer</td>\n",
       "      <td>Hayange</td>\n",
       "      <td>Lorraine</td>\n",
       "      <td>France</td>\n",
       "      <td>NaN</td>\n",
       "      <td>...</td>\n",
       "      <td>1</td>\n",
       "      <td>0.0</td>\n",
       "      <td>4.0500</td>\n",
       "      <td>1.250</td>\n",
       "      <td>Medium</td>\n",
       "      <td>No</td>\n",
       "      <td>6</td>\n",
       "      <td>True</td>\n",
       "      <td>4</td>\n",
       "      <td>True</td>\n",
       "    </tr>\n",
       "    <tr>\n",
       "      <th>27274</th>\n",
       "      <td>2014-09-01</td>\n",
       "      <td>2014-09-06</td>\n",
       "      <td>Second Class</td>\n",
       "      <td>SS-20410</td>\n",
       "      <td>27ea858c3a7e3c037df97c0e1e7b8d5f</td>\n",
       "      <td>Consumer</td>\n",
       "      <td>Maracay</td>\n",
       "      <td>Aragua</td>\n",
       "      <td>Venezuela</td>\n",
       "      <td>NaN</td>\n",
       "      <td>...</td>\n",
       "      <td>2</td>\n",
       "      <td>0.4</td>\n",
       "      <td>-17.8480</td>\n",
       "      <td>6.841</td>\n",
       "      <td>Medium</td>\n",
       "      <td>No</td>\n",
       "      <td>5</td>\n",
       "      <td>True</td>\n",
       "      <td>9</td>\n",
       "      <td>True</td>\n",
       "    </tr>\n",
       "    <tr>\n",
       "      <th>35047</th>\n",
       "      <td>2013-11-11</td>\n",
       "      <td>2013-11-15</td>\n",
       "      <td>Second Class</td>\n",
       "      <td>LT-16765</td>\n",
       "      <td>92d453d65fa6b31840bc146955c2f8c9</td>\n",
       "      <td>Consumer</td>\n",
       "      <td>Bikaner</td>\n",
       "      <td>Rajasthan</td>\n",
       "      <td>India</td>\n",
       "      <td>NaN</td>\n",
       "      <td>...</td>\n",
       "      <td>3</td>\n",
       "      <td>0.0</td>\n",
       "      <td>2.4300</td>\n",
       "      <td>3.570</td>\n",
       "      <td>Medium</td>\n",
       "      <td>No</td>\n",
       "      <td>4</td>\n",
       "      <td>True</td>\n",
       "      <td>11</td>\n",
       "      <td>True</td>\n",
       "    </tr>\n",
       "    <tr>\n",
       "      <th>45715</th>\n",
       "      <td>2014-10-28</td>\n",
       "      <td>2014-10-31</td>\n",
       "      <td>Second Class</td>\n",
       "      <td>MA-17560</td>\n",
       "      <td>92adf7ff67aa85d6a74afadb0c095427</td>\n",
       "      <td>Home Office</td>\n",
       "      <td>Chicago</td>\n",
       "      <td>Illinois</td>\n",
       "      <td>United States</td>\n",
       "      <td>60610.0</td>\n",
       "      <td>...</td>\n",
       "      <td>3</td>\n",
       "      <td>0.2</td>\n",
       "      <td>2.2050</td>\n",
       "      <td>1.110</td>\n",
       "      <td>Medium</td>\n",
       "      <td>No</td>\n",
       "      <td>3</td>\n",
       "      <td>False</td>\n",
       "      <td>10</td>\n",
       "      <td>True</td>\n",
       "    </tr>\n",
       "    <tr>\n",
       "      <th>...</th>\n",
       "      <td>...</td>\n",
       "      <td>...</td>\n",
       "      <td>...</td>\n",
       "      <td>...</td>\n",
       "      <td>...</td>\n",
       "      <td>...</td>\n",
       "      <td>...</td>\n",
       "      <td>...</td>\n",
       "      <td>...</td>\n",
       "      <td>...</td>\n",
       "      <td>...</td>\n",
       "      <td>...</td>\n",
       "      <td>...</td>\n",
       "      <td>...</td>\n",
       "      <td>...</td>\n",
       "      <td>...</td>\n",
       "      <td>...</td>\n",
       "      <td>...</td>\n",
       "      <td>...</td>\n",
       "      <td>...</td>\n",
       "      <td>...</td>\n",
       "    </tr>\n",
       "    <tr>\n",
       "      <th>25018</th>\n",
       "      <td>2011-05-11</td>\n",
       "      <td>2011-05-16</td>\n",
       "      <td>Standard Class</td>\n",
       "      <td>PG-18895</td>\n",
       "      <td>4c63c9a8552f33c37ca42d8227bd8bf3</td>\n",
       "      <td>Consumer</td>\n",
       "      <td>Fort Worth</td>\n",
       "      <td>Texas</td>\n",
       "      <td>United States</td>\n",
       "      <td>76106.0</td>\n",
       "      <td>...</td>\n",
       "      <td>1</td>\n",
       "      <td>0.2</td>\n",
       "      <td>6.2995</td>\n",
       "      <td>8.210</td>\n",
       "      <td>Medium</td>\n",
       "      <td>No</td>\n",
       "      <td>5</td>\n",
       "      <td>True</td>\n",
       "      <td>5</td>\n",
       "      <td>True</td>\n",
       "    </tr>\n",
       "    <tr>\n",
       "      <th>16992</th>\n",
       "      <td>2012-09-27</td>\n",
       "      <td>2012-09-29</td>\n",
       "      <td>Second Class</td>\n",
       "      <td>SS-20140</td>\n",
       "      <td>ffbcd7803fec65466870f0d49e286497</td>\n",
       "      <td>Corporate</td>\n",
       "      <td>Seattle</td>\n",
       "      <td>Washington</td>\n",
       "      <td>United States</td>\n",
       "      <td>98103.0</td>\n",
       "      <td>...</td>\n",
       "      <td>5</td>\n",
       "      <td>0.0</td>\n",
       "      <td>25.7920</td>\n",
       "      <td>16.360</td>\n",
       "      <td>Critical</td>\n",
       "      <td>No</td>\n",
       "      <td>2</td>\n",
       "      <td>False</td>\n",
       "      <td>9</td>\n",
       "      <td>False</td>\n",
       "    </tr>\n",
       "    <tr>\n",
       "      <th>34459</th>\n",
       "      <td>2014-10-24</td>\n",
       "      <td>2014-10-30</td>\n",
       "      <td>Standard Class</td>\n",
       "      <td>JC-16105</td>\n",
       "      <td>d5ed932ed8b86e3d5a97c7f2f746c1e4</td>\n",
       "      <td>Corporate</td>\n",
       "      <td>Rochester</td>\n",
       "      <td>New York</td>\n",
       "      <td>United States</td>\n",
       "      <td>14609.0</td>\n",
       "      <td>...</td>\n",
       "      <td>5</td>\n",
       "      <td>0.0</td>\n",
       "      <td>11.8800</td>\n",
       "      <td>3.760</td>\n",
       "      <td>Low</td>\n",
       "      <td>No</td>\n",
       "      <td>6</td>\n",
       "      <td>True</td>\n",
       "      <td>10</td>\n",
       "      <td>True</td>\n",
       "    </tr>\n",
       "    <tr>\n",
       "      <th>42322</th>\n",
       "      <td>2013-06-04</td>\n",
       "      <td>2013-06-07</td>\n",
       "      <td>First Class</td>\n",
       "      <td>LW-16990</td>\n",
       "      <td>07696034d97176810f7c42ba7aa2aaf0</td>\n",
       "      <td>Corporate</td>\n",
       "      <td>Magdeburg</td>\n",
       "      <td>Saxony-Anhalt</td>\n",
       "      <td>Germany</td>\n",
       "      <td>NaN</td>\n",
       "      <td>...</td>\n",
       "      <td>1</td>\n",
       "      <td>0.0</td>\n",
       "      <td>3.1800</td>\n",
       "      <td>1.750</td>\n",
       "      <td>High</td>\n",
       "      <td>No</td>\n",
       "      <td>3</td>\n",
       "      <td>False</td>\n",
       "      <td>6</td>\n",
       "      <td>False</td>\n",
       "    </tr>\n",
       "    <tr>\n",
       "      <th>31722</th>\n",
       "      <td>2011-10-03</td>\n",
       "      <td>2011-10-08</td>\n",
       "      <td>Standard Class</td>\n",
       "      <td>FP-14320</td>\n",
       "      <td>2f040812d6fb6fd4e99b623892091b7a</td>\n",
       "      <td>Consumer</td>\n",
       "      <td>Brisbane</td>\n",
       "      <td>Queensland</td>\n",
       "      <td>Australia</td>\n",
       "      <td>NaN</td>\n",
       "      <td>...</td>\n",
       "      <td>4</td>\n",
       "      <td>0.1</td>\n",
       "      <td>6.8160</td>\n",
       "      <td>4.760</td>\n",
       "      <td>Medium</td>\n",
       "      <td>No</td>\n",
       "      <td>5</td>\n",
       "      <td>True</td>\n",
       "      <td>10</td>\n",
       "      <td>True</td>\n",
       "    </tr>\n",
       "  </tbody>\n",
       "</table>\n",
       "<p>12824 rows × 27 columns</p>\n",
       "</div>"
      ],
      "text/plain": [
       "      order_date  ship_date       ship_mode customer_id  \\\n",
       "index                                                     \n",
       "30040 2012-09-05 2012-09-11  Standard Class    CA-12055   \n",
       "44906 2014-04-17 2014-04-23  Standard Class    MH-18025   \n",
       "27274 2014-09-01 2014-09-06    Second Class    SS-20410   \n",
       "35047 2013-11-11 2013-11-15    Second Class    LT-16765   \n",
       "45715 2014-10-28 2014-10-31    Second Class    MA-17560   \n",
       "...          ...        ...             ...         ...   \n",
       "25018 2011-05-11 2011-05-16  Standard Class    PG-18895   \n",
       "16992 2012-09-27 2012-09-29    Second Class    SS-20140   \n",
       "34459 2014-10-24 2014-10-30  Standard Class    JC-16105   \n",
       "42322 2013-06-04 2013-06-07     First Class    LW-16990   \n",
       "31722 2011-10-03 2011-10-08  Standard Class    FP-14320   \n",
       "\n",
       "                          customer_name      segment        city  \\\n",
       "index                                                              \n",
       "30040  d7f40cbb6597f62d85534ef6342c695e  Home Office     Houston   \n",
       "44906  0b13a87bdfb89e5bb4b2c7d188c81a66     Consumer     Hayange   \n",
       "27274  27ea858c3a7e3c037df97c0e1e7b8d5f     Consumer     Maracay   \n",
       "35047  92d453d65fa6b31840bc146955c2f8c9     Consumer     Bikaner   \n",
       "45715  92adf7ff67aa85d6a74afadb0c095427  Home Office     Chicago   \n",
       "...                                 ...          ...         ...   \n",
       "25018  4c63c9a8552f33c37ca42d8227bd8bf3     Consumer  Fort Worth   \n",
       "16992  ffbcd7803fec65466870f0d49e286497    Corporate     Seattle   \n",
       "34459  d5ed932ed8b86e3d5a97c7f2f746c1e4    Corporate   Rochester   \n",
       "42322  07696034d97176810f7c42ba7aa2aaf0    Corporate   Magdeburg   \n",
       "31722  2f040812d6fb6fd4e99b623892091b7a     Consumer    Brisbane   \n",
       "\n",
       "               state        country  postal_code  ... quantity discount  \\\n",
       "index                                             ...                     \n",
       "30040          Texas  United States      77036.0  ...        9      0.2   \n",
       "44906       Lorraine         France          NaN  ...        1      0.0   \n",
       "27274         Aragua      Venezuela          NaN  ...        2      0.4   \n",
       "35047      Rajasthan          India          NaN  ...        3      0.0   \n",
       "45715       Illinois  United States      60610.0  ...        3      0.2   \n",
       "...              ...            ...          ...  ...      ...      ...   \n",
       "25018          Texas  United States      76106.0  ...        1      0.2   \n",
       "16992     Washington  United States      98103.0  ...        5      0.0   \n",
       "34459       New York  United States      14609.0  ...        5      0.0   \n",
       "42322  Saxony-Anhalt        Germany          NaN  ...        1      0.0   \n",
       "31722     Queensland      Australia          NaN  ...        4      0.1   \n",
       "\n",
       "        profit shipping_cost order_priority returned  ship_delay  delayed  \\\n",
       "index                                                                       \n",
       "30040 -14.6880         5.480         Medium       No           6     True   \n",
       "44906   4.0500         1.250         Medium       No           6     True   \n",
       "27274 -17.8480         6.841         Medium       No           5     True   \n",
       "35047   2.4300         3.570         Medium       No           4     True   \n",
       "45715   2.2050         1.110         Medium       No           3    False   \n",
       "...        ...           ...            ...      ...         ...      ...   \n",
       "25018   6.2995         8.210         Medium       No           5     True   \n",
       "16992  25.7920        16.360       Critical       No           2    False   \n",
       "34459  11.8800         3.760            Low       No           6     True   \n",
       "42322   3.1800         1.750           High       No           3    False   \n",
       "31722   6.8160         4.760         Medium       No           5     True   \n",
       "\n",
       "       order_month  prediction  \n",
       "index                           \n",
       "30040            9        True  \n",
       "44906            4        True  \n",
       "27274            9        True  \n",
       "35047           11        True  \n",
       "45715           10        True  \n",
       "...            ...         ...  \n",
       "25018            5        True  \n",
       "16992            9       False  \n",
       "34459           10        True  \n",
       "42322            6       False  \n",
       "31722           10        True  \n",
       "\n",
       "[12824 rows x 27 columns]"
      ]
     },
     "execution_count": 62,
     "metadata": {},
     "output_type": "execute_result"
    }
   ],
   "source": [
    "X_test"
   ]
  }
 ],
 "metadata": {
  "kernelspec": {
   "display_name": "Python 3.9.4 64-bit",
   "language": "python",
   "name": "python394jvsc74a57bd0f228753f02b6bcec550021ad01f9964bb2298ebd1b1709942fc8265c3e080479"
  },
  "language_info": {
   "codemirror_mode": {
    "name": "ipython",
    "version": 3
   },
   "file_extension": ".py",
   "mimetype": "text/x-python",
   "name": "python",
   "nbconvert_exporter": "python",
   "pygments_lexer": "ipython3",
   "version": "3.9.4"
  }
 },
 "nbformat": 4,
 "nbformat_minor": 5
}
