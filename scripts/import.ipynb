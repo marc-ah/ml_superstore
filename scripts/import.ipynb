{
 "cells": [
  {
   "cell_type": "markdown",
   "id": "c1df34c1",
   "metadata": {},
   "source": [
    "# Prepare"
   ]
  },
  {
   "cell_type": "code",
   "execution_count": 1,
   "id": "71b37a0c",
   "metadata": {},
   "outputs": [],
   "source": [
    "# general modules\n",
    "import pandas as pd\n",
    "import sqlite3 \n",
    "import os\n",
    "import pandas_profiling\n",
    "import seaborn as sns\n",
    "import sqlite3 as sql\n",
    "import hashlib"
   ]
  },
  {
   "cell_type": "code",
   "execution_count": 2,
   "id": "6b7d9604",
   "metadata": {},
   "outputs": [],
   "source": [
    "# variables\n",
    "INPUT_FOLDER = \"input\"\n",
    "OUTPUT_FOLDER = \"output\"\n",
    "DATA_FOLDER = \"data\"\n",
    "\n",
    "xl_name = \"global-superstore.xls\" \n",
    "db_name = \"superstore.db\"\n",
    "\n",
    "randon_state = 42"
   ]
  },
  {
   "cell_type": "markdown",
   "id": "2dfc0c21",
   "metadata": {},
   "source": [
    "# Import"
   ]
  },
  {
   "cell_type": "code",
   "execution_count": 3,
   "id": "e2aab164",
   "metadata": {},
   "outputs": [],
   "source": [
    "df_orders = pd.read_excel(os.path.join(\"..\", INPUT_FOLDER, xl_name), sheet_name=\"Orders\")\n",
    "df_returns = pd.read_excel(os.path.join(\"..\", INPUT_FOLDER, xl_name), sheet_name=\"Returns\")\n",
    "df_people = pd.read_excel(os.path.join(\"..\", INPUT_FOLDER, xl_name), sheet_name=\"People\")"
   ]
  },
  {
   "cell_type": "markdown",
   "id": "94276015",
   "metadata": {},
   "source": [
    "### Column Inspection"
   ]
  },
  {
   "cell_type": "code",
   "execution_count": 4,
   "id": "faebd124",
   "metadata": {
    "scrolled": true
   },
   "outputs": [
    {
     "data": {
      "text/plain": [
       "Index(['Row ID', 'Order ID', 'Order Date', 'Ship Date', 'Ship Mode',\n",
       "       'Customer ID', 'Customer Name', 'Segment', 'City', 'State', 'Country',\n",
       "       'Postal Code', 'Market', 'Region', 'Product ID', 'Category',\n",
       "       'Sub-Category', 'Product Name', 'Sales', 'Quantity', 'Discount',\n",
       "       'Profit', 'Shipping Cost', 'Order Priority'],\n",
       "      dtype='object')"
      ]
     },
     "execution_count": 4,
     "metadata": {},
     "output_type": "execute_result"
    }
   ],
   "source": [
    "df_orders.columns"
   ]
  },
  {
   "cell_type": "code",
   "execution_count": 5,
   "id": "ae98ef49",
   "metadata": {},
   "outputs": [
    {
     "data": {
      "text/plain": [
       "Index(['Returned', 'Order ID', 'Market'], dtype='object')"
      ]
     },
     "execution_count": 5,
     "metadata": {},
     "output_type": "execute_result"
    }
   ],
   "source": [
    "df_returns.columns"
   ]
  },
  {
   "cell_type": "code",
   "execution_count": 6,
   "id": "cf845221",
   "metadata": {},
   "outputs": [
    {
     "data": {
      "text/plain": [
       "Index(['Person', 'Region'], dtype='object')"
      ]
     },
     "execution_count": 6,
     "metadata": {},
     "output_type": "execute_result"
    }
   ],
   "source": [
    "df_people.columns"
   ]
  },
  {
   "cell_type": "code",
   "execution_count": 7,
   "id": "03921fb1",
   "metadata": {},
   "outputs": [
    {
     "data": {
      "text/html": [
       "<div>\n",
       "<style scoped>\n",
       "    .dataframe tbody tr th:only-of-type {\n",
       "        vertical-align: middle;\n",
       "    }\n",
       "\n",
       "    .dataframe tbody tr th {\n",
       "        vertical-align: top;\n",
       "    }\n",
       "\n",
       "    .dataframe thead th {\n",
       "        text-align: right;\n",
       "    }\n",
       "</style>\n",
       "<table border=\"1\" class=\"dataframe\">\n",
       "  <thead>\n",
       "    <tr style=\"text-align: right;\">\n",
       "      <th></th>\n",
       "      <th>Person</th>\n",
       "      <th>Region</th>\n",
       "    </tr>\n",
       "  </thead>\n",
       "  <tbody>\n",
       "    <tr>\n",
       "      <th>0</th>\n",
       "      <td>Anna Andreadi</td>\n",
       "      <td>Central</td>\n",
       "    </tr>\n",
       "    <tr>\n",
       "      <th>1</th>\n",
       "      <td>Chuck Magee</td>\n",
       "      <td>South</td>\n",
       "    </tr>\n",
       "    <tr>\n",
       "      <th>2</th>\n",
       "      <td>Kelly Williams</td>\n",
       "      <td>East</td>\n",
       "    </tr>\n",
       "    <tr>\n",
       "      <th>3</th>\n",
       "      <td>Matt Collister</td>\n",
       "      <td>West</td>\n",
       "    </tr>\n",
       "    <tr>\n",
       "      <th>4</th>\n",
       "      <td>Deborah Brumfield</td>\n",
       "      <td>Africa</td>\n",
       "    </tr>\n",
       "    <tr>\n",
       "      <th>5</th>\n",
       "      <td>Larry Hughes</td>\n",
       "      <td>AMEA</td>\n",
       "    </tr>\n",
       "    <tr>\n",
       "      <th>6</th>\n",
       "      <td>Nicole Hansen</td>\n",
       "      <td>Canada</td>\n",
       "    </tr>\n",
       "    <tr>\n",
       "      <th>7</th>\n",
       "      <td>Giulietta Dortch</td>\n",
       "      <td>Caribbean</td>\n",
       "    </tr>\n",
       "    <tr>\n",
       "      <th>8</th>\n",
       "      <td>Nora Preis</td>\n",
       "      <td>Central Asia</td>\n",
       "    </tr>\n",
       "    <tr>\n",
       "      <th>9</th>\n",
       "      <td>Jack Lebron</td>\n",
       "      <td>North</td>\n",
       "    </tr>\n",
       "    <tr>\n",
       "      <th>10</th>\n",
       "      <td>Shirley Daniels</td>\n",
       "      <td>North Asia</td>\n",
       "    </tr>\n",
       "    <tr>\n",
       "      <th>11</th>\n",
       "      <td>Anthony Jacobs</td>\n",
       "      <td>Oceania</td>\n",
       "    </tr>\n",
       "    <tr>\n",
       "      <th>12</th>\n",
       "      <td>Alejandro Ballentine</td>\n",
       "      <td>Southeast Asia</td>\n",
       "    </tr>\n",
       "  </tbody>\n",
       "</table>\n",
       "</div>"
      ],
      "text/plain": [
       "                  Person          Region\n",
       "0          Anna Andreadi         Central\n",
       "1            Chuck Magee           South\n",
       "2         Kelly Williams            East\n",
       "3         Matt Collister            West\n",
       "4      Deborah Brumfield          Africa\n",
       "5           Larry Hughes            AMEA\n",
       "6          Nicole Hansen          Canada\n",
       "7       Giulietta Dortch       Caribbean\n",
       "8             Nora Preis    Central Asia\n",
       "9            Jack Lebron           North\n",
       "10       Shirley Daniels      North Asia\n",
       "11        Anthony Jacobs         Oceania\n",
       "12  Alejandro Ballentine  Southeast Asia"
      ]
     },
     "execution_count": 7,
     "metadata": {},
     "output_type": "execute_result"
    }
   ],
   "source": [
    "df_people"
   ]
  },
  {
   "cell_type": "code",
   "execution_count": 8,
   "id": "37fb3a0f",
   "metadata": {},
   "outputs": [],
   "source": [
    "# seems to be not relevant at all"
   ]
  },
  {
   "cell_type": "markdown",
   "id": "37218b0d",
   "metadata": {},
   "source": [
    "### Integration"
   ]
  },
  {
   "cell_type": "code",
   "execution_count": 9,
   "id": "6853f39d",
   "metadata": {},
   "outputs": [],
   "source": [
    "raw_df = df_orders.merge(\n",
    "    df_returns[[\"Order ID\", \"Returned\"]],\n",
    "    on=\"Order ID\",\n",
    "    how=\"left\",\n",
    ")"
   ]
  },
  {
   "cell_type": "code",
   "execution_count": 10,
   "id": "e6ea125a",
   "metadata": {},
   "outputs": [
    {
     "data": {
      "text/plain": [
       "Index(['Row ID', 'Order ID', 'Order Date', 'Ship Date', 'Ship Mode',\n",
       "       'Customer ID', 'Customer Name', 'Segment', 'City', 'State', 'Country',\n",
       "       'Postal Code', 'Market', 'Region', 'Product ID', 'Category',\n",
       "       'Sub-Category', 'Product Name', 'Sales', 'Quantity', 'Discount',\n",
       "       'Profit', 'Shipping Cost', 'Order Priority', 'Returned'],\n",
       "      dtype='object')"
      ]
     },
     "execution_count": 10,
     "metadata": {},
     "output_type": "execute_result"
    }
   ],
   "source": [
    "raw_df.columns\n"
   ]
  },
  {
   "cell_type": "code",
   "execution_count": 11,
   "id": "80ca8720",
   "metadata": {},
   "outputs": [],
   "source": [
    "# replace NaN values in Returned with \"No\"\n",
    "raw_df[\"Returned\"].fillna(\"No\", inplace=True)"
   ]
  },
  {
   "cell_type": "code",
   "execution_count": 12,
   "id": "69857431",
   "metadata": {},
   "outputs": [],
   "source": [
    "# remove obviously useless columns\n",
    "raw_df.drop(columns=\"Row ID\", inplace=True)\n",
    "raw_df.drop(columns=\"Order ID\", inplace=True)"
   ]
  },
  {
   "cell_type": "code",
   "execution_count": 13,
   "id": "d0f4a4f3",
   "metadata": {},
   "outputs": [],
   "source": [
    "# anonymize customer name\n",
    "raw_df[\"Customer Name\"] = raw_df.apply(lambda x: hashlib.md5(x[\"Customer Name\"].encode()).hexdigest(), axis=1)"
   ]
  },
  {
   "cell_type": "markdown",
   "id": "377435b6",
   "metadata": {},
   "source": [
    "# Store"
   ]
  },
  {
   "cell_type": "code",
   "execution_count": 14,
   "id": "71ede14b",
   "metadata": {},
   "outputs": [
    {
     "name": "stderr",
     "output_type": "stream",
     "text": [
      "C:\\Users\\Marc\\AppData\\Local\\Programs\\Python\\Python39\\lib\\site-packages\\pandas\\core\\generic.py:2779: UserWarning: The spaces in these column names will not be changed. In pandas versions < 0.14, spaces were converted to underscores.\n",
      "  sql.to_sql(\n"
     ]
    }
   ],
   "source": [
    "conn = sql.connect(os.path.join(\"..\", DATA_FOLDER, db_name))\n",
    "raw_df.to_sql('superstore', conn, if_exists='replace')"
   ]
  }
 ],
 "metadata": {
  "kernelspec": {
   "display_name": "Python 3.9.4 64-bit",
   "language": "python",
   "name": "python394jvsc74a57bd0f228753f02b6bcec550021ad01f9964bb2298ebd1b1709942fc8265c3e080479"
  },
  "language_info": {
   "codemirror_mode": {
    "name": "ipython",
    "version": 3
   },
   "file_extension": ".py",
   "mimetype": "text/x-python",
   "name": "python",
   "nbconvert_exporter": "python",
   "pygments_lexer": "ipython3",
   "version": "3.9.4"
  },
  "widgets": {
   "application/vnd.jupyter.widget-state+json": {
    "state": {
     "0d75513cb0f84fb9bdc9cd94c8b775ff": {
      "model_module": "@jupyter-widgets/base",
      "model_module_version": "1.2.0",
      "model_name": "LayoutModel",
      "state": {}
     },
     "0e5d66a9fd754eb3b79ad8b42d91a24b": {
      "model_module": "@jupyter-widgets/controls",
      "model_module_version": "1.5.0",
      "model_name": "HTMLModel",
      "state": {
       "layout": "IPY_MODEL_1cdca762513f42e1bbdfe2fdb1f9e448",
       "style": "IPY_MODEL_95d4b801108d4beea508904655fd8b98",
       "value": "Summarize dataset: 100%"
      }
     },
     "0e5e5a846b364fd696e4cef5886a99dc": {
      "model_module": "@jupyter-widgets/controls",
      "model_module_version": "1.5.0",
      "model_name": "HBoxModel",
      "state": {
       "children": [
        "IPY_MODEL_424adc75b8ce472ea6df66eb4bb852ef",
        "IPY_MODEL_449fbb77d0f3405fa9aa16214d62a6e1",
        "IPY_MODEL_42e860787ba24c46a62c7d2b1572f68b"
       ],
       "layout": "IPY_MODEL_db1260daa43848d3861989a1e9b6c9a8"
      }
     },
     "1049994662e2426c8240ba9ab206277c": {
      "model_module": "@jupyter-widgets/controls",
      "model_module_version": "1.5.0",
      "model_name": "ProgressStyleModel",
      "state": {
       "description_width": ""
      }
     },
     "1b099a5b1149461a84854eddc9784188": {
      "model_module": "@jupyter-widgets/controls",
      "model_module_version": "1.5.0",
      "model_name": "DescriptionStyleModel",
      "state": {
       "description_width": ""
      }
     },
     "1cdca762513f42e1bbdfe2fdb1f9e448": {
      "model_module": "@jupyter-widgets/base",
      "model_module_version": "1.2.0",
      "model_name": "LayoutModel",
      "state": {}
     },
     "21453d6ca030469c953616077619daa0": {
      "model_module": "@jupyter-widgets/controls",
      "model_module_version": "1.5.0",
      "model_name": "HBoxModel",
      "state": {
       "children": [
        "IPY_MODEL_e95ef5f850ee4bf8b99d8cb35a440b06",
        "IPY_MODEL_8a214fe6cec54458a04be4bac96a1d9d",
        "IPY_MODEL_b5ed8ddd4e8141de8f03b9153cd29559"
       ],
       "layout": "IPY_MODEL_a2bfa269b2dc4ed383bf4159b7ce01a7"
      }
     },
     "21c65e67c1e3442cbedecd60aeb507d7": {
      "model_module": "@jupyter-widgets/controls",
      "model_module_version": "1.5.0",
      "model_name": "FloatProgressModel",
      "state": {
       "bar_style": "success",
       "layout": "IPY_MODEL_e729a77a4e204e67ac2236fa10177d6c",
       "max": 1,
       "style": "IPY_MODEL_fdfb3146c87c48208f8fd01b9711a0fe",
       "value": 1
      }
     },
     "22c1ad61b5fc41098674a46a22c5adf5": {
      "model_module": "@jupyter-widgets/controls",
      "model_module_version": "1.5.0",
      "model_name": "ProgressStyleModel",
      "state": {
       "description_width": ""
      }
     },
     "233b6e0a031349b9a17f8c31679339b8": {
      "model_module": "@jupyter-widgets/base",
      "model_module_version": "1.2.0",
      "model_name": "LayoutModel",
      "state": {}
     },
     "2364405e27a345c581da94fb721c8d3f": {
      "model_module": "@jupyter-widgets/base",
      "model_module_version": "1.2.0",
      "model_name": "LayoutModel",
      "state": {}
     },
     "2643ea048af54a0792bf3354257de13b": {
      "model_module": "@jupyter-widgets/base",
      "model_module_version": "1.2.0",
      "model_name": "LayoutModel",
      "state": {}
     },
     "26fb01a2d30d429385e6f136e1c9c79f": {
      "model_module": "@jupyter-widgets/controls",
      "model_module_version": "1.5.0",
      "model_name": "DescriptionStyleModel",
      "state": {
       "description_width": ""
      }
     },
     "27359bd8f9e840038bf71a21ec6a40f1": {
      "model_module": "@jupyter-widgets/base",
      "model_module_version": "1.2.0",
      "model_name": "LayoutModel",
      "state": {}
     },
     "280420305f93451299972d61a9625b64": {
      "model_module": "@jupyter-widgets/controls",
      "model_module_version": "1.5.0",
      "model_name": "DescriptionStyleModel",
      "state": {
       "description_width": ""
      }
     },
     "2a84a026a9ac414bb7598a3b81cb2071": {
      "model_module": "@jupyter-widgets/controls",
      "model_module_version": "1.5.0",
      "model_name": "ProgressStyleModel",
      "state": {
       "description_width": ""
      }
     },
     "2c9fafab1d0b4e1abbed45b77cfb3d35": {
      "model_module": "@jupyter-widgets/base",
      "model_module_version": "1.2.0",
      "model_name": "LayoutModel",
      "state": {}
     },
     "34f8757fb12149909c4ce8b43157d695": {
      "model_module": "@jupyter-widgets/controls",
      "model_module_version": "1.5.0",
      "model_name": "FloatProgressModel",
      "state": {
       "bar_style": "success",
       "layout": "IPY_MODEL_8e356509cd4f410793526b6ae8efb120",
       "max": 37,
       "style": "IPY_MODEL_22c1ad61b5fc41098674a46a22c5adf5",
       "value": 37
      }
     },
     "35f056535dce41899dc2c624db8cae32": {
      "model_module": "@jupyter-widgets/controls",
      "model_module_version": "1.5.0",
      "model_name": "HTMLModel",
      "state": {
       "layout": "IPY_MODEL_2643ea048af54a0792bf3354257de13b",
       "style": "IPY_MODEL_5c559a07f9b346bfaec5a4809eda479b",
       "value": " 38/38 [00:11&lt;00:00,  1.93it/s, Completed]"
      }
     },
     "39b12bb168af480bb5c5c651ea1554ba": {
      "model_module": "@jupyter-widgets/base",
      "model_module_version": "1.2.0",
      "model_name": "LayoutModel",
      "state": {}
     },
     "3ac9d3b14c7244198747beed066589d6": {
      "model_module": "@jupyter-widgets/controls",
      "model_module_version": "1.5.0",
      "model_name": "HBoxModel",
      "state": {
       "children": [
        "IPY_MODEL_f1812f99ef0342d1ba9958bef534a248",
        "IPY_MODEL_6e430a1109e948f798d0fcb9a4803e9e",
        "IPY_MODEL_bee83ab3917f4713b56cbe7108ec8cbf"
       ],
       "layout": "IPY_MODEL_587319cdab9d40ef99ccfab8a79624bb"
      }
     },
     "41c3cf36df404c6f904c7912a1b05313": {
      "model_module": "@jupyter-widgets/base",
      "model_module_version": "1.2.0",
      "model_name": "LayoutModel",
      "state": {}
     },
     "41c6f3286f0d4baa971fad9fa40f8c70": {
      "model_module": "@jupyter-widgets/base",
      "model_module_version": "1.2.0",
      "model_name": "LayoutModel",
      "state": {}
     },
     "424adc75b8ce472ea6df66eb4bb852ef": {
      "model_module": "@jupyter-widgets/controls",
      "model_module_version": "1.5.0",
      "model_name": "HTMLModel",
      "state": {
       "layout": "IPY_MODEL_41c6f3286f0d4baa971fad9fa40f8c70",
       "style": "IPY_MODEL_5d24e0dfdfd34cce96dcaec1271d30ff",
       "value": "Export report to file: 100%"
      }
     },
     "42e860787ba24c46a62c7d2b1572f68b": {
      "model_module": "@jupyter-widgets/controls",
      "model_module_version": "1.5.0",
      "model_name": "HTMLModel",
      "state": {
       "layout": "IPY_MODEL_4396d9429dc946b5a3cc5844af168af2",
       "style": "IPY_MODEL_bbb6c984d5b04c2985cea341e1a21123",
       "value": " 1/1 [00:00&lt;00:00, 29.03it/s]"
      }
     },
     "4396d9429dc946b5a3cc5844af168af2": {
      "model_module": "@jupyter-widgets/base",
      "model_module_version": "1.2.0",
      "model_name": "LayoutModel",
      "state": {}
     },
     "449fbb77d0f3405fa9aa16214d62a6e1": {
      "model_module": "@jupyter-widgets/controls",
      "model_module_version": "1.5.0",
      "model_name": "FloatProgressModel",
      "state": {
       "bar_style": "success",
       "layout": "IPY_MODEL_27359bd8f9e840038bf71a21ec6a40f1",
       "max": 1,
       "style": "IPY_MODEL_1049994662e2426c8240ba9ab206277c",
       "value": 1
      }
     },
     "4fcaaeaa543f49f2bdb185748e302b2d": {
      "model_module": "@jupyter-widgets/controls",
      "model_module_version": "1.5.0",
      "model_name": "DescriptionStyleModel",
      "state": {
       "description_width": ""
      }
     },
     "57bccfb914854e4ba4caa87baf236e55": {
      "model_module": "@jupyter-widgets/controls",
      "model_module_version": "1.5.0",
      "model_name": "ProgressStyleModel",
      "state": {
       "description_width": ""
      }
     },
     "57d790f6f7914fe4be4d6d70c749eea2": {
      "model_module": "@jupyter-widgets/controls",
      "model_module_version": "1.5.0",
      "model_name": "DescriptionStyleModel",
      "state": {
       "description_width": ""
      }
     },
     "587319cdab9d40ef99ccfab8a79624bb": {
      "model_module": "@jupyter-widgets/base",
      "model_module_version": "1.2.0",
      "model_name": "LayoutModel",
      "state": {}
     },
     "5c559a07f9b346bfaec5a4809eda479b": {
      "model_module": "@jupyter-widgets/controls",
      "model_module_version": "1.5.0",
      "model_name": "DescriptionStyleModel",
      "state": {
       "description_width": ""
      }
     },
     "5d24e0dfdfd34cce96dcaec1271d30ff": {
      "model_module": "@jupyter-widgets/controls",
      "model_module_version": "1.5.0",
      "model_name": "DescriptionStyleModel",
      "state": {
       "description_width": ""
      }
     },
     "5f42b447b461433c9e04e1886f9a5ebe": {
      "model_module": "@jupyter-widgets/base",
      "model_module_version": "1.2.0",
      "model_name": "LayoutModel",
      "state": {}
     },
     "6dc97831cf104843acf5021f8044cdb3": {
      "model_module": "@jupyter-widgets/base",
      "model_module_version": "1.2.0",
      "model_name": "LayoutModel",
      "state": {}
     },
     "6e430a1109e948f798d0fcb9a4803e9e": {
      "model_module": "@jupyter-widgets/controls",
      "model_module_version": "1.5.0",
      "model_name": "FloatProgressModel",
      "state": {
       "bar_style": "success",
       "layout": "IPY_MODEL_d220925161fc4573a0336df85c93d4c3",
       "max": 1,
       "style": "IPY_MODEL_f114f7f47ec9456cb89521fb31492e29",
       "value": 1
      }
     },
     "7762565340c64d58bddf1403bb5a1f4c": {
      "model_module": "@jupyter-widgets/controls",
      "model_module_version": "1.5.0",
      "model_name": "FloatProgressModel",
      "state": {
       "bar_style": "success",
       "layout": "IPY_MODEL_a07a0849ba8e4b50afab935c41eebd8d",
       "max": 1,
       "style": "IPY_MODEL_e01be78222004bfeac63af73ec354166",
       "value": 1
      }
     },
     "7de2c41501564e7b81f3a65f5bba34ac": {
      "model_module": "@jupyter-widgets/controls",
      "model_module_version": "1.5.0",
      "model_name": "HBoxModel",
      "state": {
       "children": [
        "IPY_MODEL_0e5d66a9fd754eb3b79ad8b42d91a24b",
        "IPY_MODEL_34f8757fb12149909c4ce8b43157d695",
        "IPY_MODEL_ad78261e4305479dad202a9065b8b769"
       ],
       "layout": "IPY_MODEL_39b12bb168af480bb5c5c651ea1554ba"
      }
     },
     "7f0b79dccef640e8827bac530f76c911": {
      "model_module": "@jupyter-widgets/controls",
      "model_module_version": "1.5.0",
      "model_name": "DescriptionStyleModel",
      "state": {
       "description_width": ""
      }
     },
     "810cb80d2bfe4062a989007932f0a24b": {
      "model_module": "@jupyter-widgets/controls",
      "model_module_version": "1.5.0",
      "model_name": "HBoxModel",
      "state": {
       "children": [
        "IPY_MODEL_b46cabe80855425189cbdf1df5676ff5",
        "IPY_MODEL_ac91c7e6b6284621a29f76cecab1db41",
        "IPY_MODEL_f2f0a96ab84f4cb79cefd56cf9d6c77c"
       ],
       "layout": "IPY_MODEL_5f42b447b461433c9e04e1886f9a5ebe"
      }
     },
     "844b80df7ae34504b2080ca2752706e9": {
      "model_module": "@jupyter-widgets/base",
      "model_module_version": "1.2.0",
      "model_name": "LayoutModel",
      "state": {}
     },
     "84fb89e569504f13b5bc9c85f89766ef": {
      "model_module": "@jupyter-widgets/controls",
      "model_module_version": "1.5.0",
      "model_name": "DescriptionStyleModel",
      "state": {
       "description_width": ""
      }
     },
     "8a214fe6cec54458a04be4bac96a1d9d": {
      "model_module": "@jupyter-widgets/controls",
      "model_module_version": "1.5.0",
      "model_name": "FloatProgressModel",
      "state": {
       "bar_style": "success",
       "layout": "IPY_MODEL_8cd74ce82fc74b4896f16eac8117940c",
       "max": 1,
       "style": "IPY_MODEL_57bccfb914854e4ba4caa87baf236e55",
       "value": 1
      }
     },
     "8a8c67653d14472db07ee485c25ae125": {
      "model_module": "@jupyter-widgets/base",
      "model_module_version": "1.2.0",
      "model_name": "LayoutModel",
      "state": {}
     },
     "8cd74ce82fc74b4896f16eac8117940c": {
      "model_module": "@jupyter-widgets/base",
      "model_module_version": "1.2.0",
      "model_name": "LayoutModel",
      "state": {}
     },
     "8e356509cd4f410793526b6ae8efb120": {
      "model_module": "@jupyter-widgets/base",
      "model_module_version": "1.2.0",
      "model_name": "LayoutModel",
      "state": {}
     },
     "95d4b801108d4beea508904655fd8b98": {
      "model_module": "@jupyter-widgets/controls",
      "model_module_version": "1.5.0",
      "model_name": "DescriptionStyleModel",
      "state": {
       "description_width": ""
      }
     },
     "9f2db0da3a774fde9d65a253a526ef89": {
      "model_module": "@jupyter-widgets/controls",
      "model_module_version": "1.5.0",
      "model_name": "FloatProgressModel",
      "state": {
       "bar_style": "success",
       "layout": "IPY_MODEL_844b80df7ae34504b2080ca2752706e9",
       "max": 38,
       "style": "IPY_MODEL_2a84a026a9ac414bb7598a3b81cb2071",
       "value": 38
      }
     },
     "a07a0849ba8e4b50afab935c41eebd8d": {
      "model_module": "@jupyter-widgets/base",
      "model_module_version": "1.2.0",
      "model_name": "LayoutModel",
      "state": {}
     },
     "a13d850b21b54194957364b0b6972d37": {
      "model_module": "@jupyter-widgets/base",
      "model_module_version": "1.2.0",
      "model_name": "LayoutModel",
      "state": {}
     },
     "a2bfa269b2dc4ed383bf4159b7ce01a7": {
      "model_module": "@jupyter-widgets/base",
      "model_module_version": "1.2.0",
      "model_name": "LayoutModel",
      "state": {}
     },
     "a4861c8179e244cca78caa0adbd2b7fc": {
      "model_module": "@jupyter-widgets/controls",
      "model_module_version": "1.5.0",
      "model_name": "HTMLModel",
      "state": {
       "layout": "IPY_MODEL_233b6e0a031349b9a17f8c31679339b8",
       "style": "IPY_MODEL_a8a9149e64e14716af0beafbfb36a5db",
       "value": "Generate report structure: 100%"
      }
     },
     "a66dbfdb75994ddfba753a9236cb37c0": {
      "model_module": "@jupyter-widgets/base",
      "model_module_version": "1.2.0",
      "model_name": "LayoutModel",
      "state": {}
     },
     "a8280b9a7cf949dab30c759f30ab2133": {
      "model_module": "@jupyter-widgets/base",
      "model_module_version": "1.2.0",
      "model_name": "LayoutModel",
      "state": {}
     },
     "a8a9149e64e14716af0beafbfb36a5db": {
      "model_module": "@jupyter-widgets/controls",
      "model_module_version": "1.5.0",
      "model_name": "DescriptionStyleModel",
      "state": {
       "description_width": ""
      }
     },
     "ac91c7e6b6284621a29f76cecab1db41": {
      "model_module": "@jupyter-widgets/controls",
      "model_module_version": "1.5.0",
      "model_name": "FloatProgressModel",
      "state": {
       "bar_style": "success",
       "layout": "IPY_MODEL_d88340ad26bb46a3802f41ff408ef05b",
       "max": 1,
       "style": "IPY_MODEL_d7ff6b19f6e24ceb91b4f5ff743731d1",
       "value": 1
      }
     },
     "ad78261e4305479dad202a9065b8b769": {
      "model_module": "@jupyter-widgets/controls",
      "model_module_version": "1.5.0",
      "model_name": "HTMLModel",
      "state": {
       "layout": "IPY_MODEL_ee4ecd7ff2074c6682cb1fb90a3d4834",
       "style": "IPY_MODEL_c9eda6dfc83f442ab624f61fb5571834",
       "value": " 37/37 [00:11&lt;00:00,  1.45it/s, Completed]"
      }
     },
     "b35ed7c8c1f04a1c89026b4d36c8195b": {
      "model_module": "@jupyter-widgets/controls",
      "model_module_version": "1.5.0",
      "model_name": "DescriptionStyleModel",
      "state": {
       "description_width": ""
      }
     },
     "b46cabe80855425189cbdf1df5676ff5": {
      "model_module": "@jupyter-widgets/controls",
      "model_module_version": "1.5.0",
      "model_name": "HTMLModel",
      "state": {
       "layout": "IPY_MODEL_a8280b9a7cf949dab30c759f30ab2133",
       "style": "IPY_MODEL_f56c2eb755924dad9b51787e3f3ee317",
       "value": "Export report to file: 100%"
      }
     },
     "b5ed8ddd4e8141de8f03b9153cd29559": {
      "model_module": "@jupyter-widgets/controls",
      "model_module_version": "1.5.0",
      "model_name": "HTMLModel",
      "state": {
       "layout": "IPY_MODEL_c858316ca95942c5b47c1df0c3597394",
       "style": "IPY_MODEL_26fb01a2d30d429385e6f136e1c9c79f",
       "value": " 1/1 [00:01&lt;00:00,  1.70s/it]"
      }
     },
     "b69e44fdd72c48648e78a7f8fc3d3413": {
      "model_module": "@jupyter-widgets/base",
      "model_module_version": "1.2.0",
      "model_name": "LayoutModel",
      "state": {}
     },
     "bbb6c984d5b04c2985cea341e1a21123": {
      "model_module": "@jupyter-widgets/controls",
      "model_module_version": "1.5.0",
      "model_name": "DescriptionStyleModel",
      "state": {
       "description_width": ""
      }
     },
     "bee83ab3917f4713b56cbe7108ec8cbf": {
      "model_module": "@jupyter-widgets/controls",
      "model_module_version": "1.5.0",
      "model_name": "HTMLModel",
      "state": {
       "layout": "IPY_MODEL_c9e76d83c9214ee8a4c1496f0729e37f",
       "style": "IPY_MODEL_b35ed7c8c1f04a1c89026b4d36c8195b",
       "value": " 1/1 [00:01&lt;00:00,  1.86s/it]"
      }
     },
     "c1e3c550fdd14a95963f99f8215c2280": {
      "model_module": "@jupyter-widgets/controls",
      "model_module_version": "1.5.0",
      "model_name": "HBoxModel",
      "state": {
       "children": [
        "IPY_MODEL_a4861c8179e244cca78caa0adbd2b7fc",
        "IPY_MODEL_21c65e67c1e3442cbedecd60aeb507d7",
        "IPY_MODEL_dfc77ebfd53d472ba75fbeeac294c6ae"
       ],
       "layout": "IPY_MODEL_8a8c67653d14472db07ee485c25ae125"
      }
     },
     "c6d15a1dc9ed47a29652acded53cf160": {
      "model_module": "@jupyter-widgets/controls",
      "model_module_version": "1.5.0",
      "model_name": "HBoxModel",
      "state": {
       "children": [
        "IPY_MODEL_e26d909d55214cdf9186a542d51de167",
        "IPY_MODEL_9f2db0da3a774fde9d65a253a526ef89",
        "IPY_MODEL_35f056535dce41899dc2c624db8cae32"
       ],
       "layout": "IPY_MODEL_f8f6f46f0a1344629ba7262cf766f229"
      }
     },
     "c8016e084a5e4aa294f77165ec90db17": {
      "model_module": "@jupyter-widgets/controls",
      "model_module_version": "1.5.0",
      "model_name": "HTMLModel",
      "state": {
       "layout": "IPY_MODEL_2c9fafab1d0b4e1abbed45b77cfb3d35",
       "style": "IPY_MODEL_7f0b79dccef640e8827bac530f76c911",
       "value": " 1/1 [00:06&lt;00:00,  6.25s/it]"
      }
     },
     "c858316ca95942c5b47c1df0c3597394": {
      "model_module": "@jupyter-widgets/base",
      "model_module_version": "1.2.0",
      "model_name": "LayoutModel",
      "state": {}
     },
     "c9e76d83c9214ee8a4c1496f0729e37f": {
      "model_module": "@jupyter-widgets/base",
      "model_module_version": "1.2.0",
      "model_name": "LayoutModel",
      "state": {}
     },
     "c9eda6dfc83f442ab624f61fb5571834": {
      "model_module": "@jupyter-widgets/controls",
      "model_module_version": "1.5.0",
      "model_name": "DescriptionStyleModel",
      "state": {
       "description_width": ""
      }
     },
     "d220925161fc4573a0336df85c93d4c3": {
      "model_module": "@jupyter-widgets/base",
      "model_module_version": "1.2.0",
      "model_name": "LayoutModel",
      "state": {}
     },
     "d7ff6b19f6e24ceb91b4f5ff743731d1": {
      "model_module": "@jupyter-widgets/controls",
      "model_module_version": "1.5.0",
      "model_name": "ProgressStyleModel",
      "state": {
       "description_width": ""
      }
     },
     "d88340ad26bb46a3802f41ff408ef05b": {
      "model_module": "@jupyter-widgets/base",
      "model_module_version": "1.2.0",
      "model_name": "LayoutModel",
      "state": {}
     },
     "db1260daa43848d3861989a1e9b6c9a8": {
      "model_module": "@jupyter-widgets/base",
      "model_module_version": "1.2.0",
      "model_name": "LayoutModel",
      "state": {}
     },
     "dcc26c932cab4b45905bb776f74918b9": {
      "model_module": "@jupyter-widgets/controls",
      "model_module_version": "1.5.0",
      "model_name": "HTMLModel",
      "state": {
       "layout": "IPY_MODEL_a66dbfdb75994ddfba753a9236cb37c0",
       "style": "IPY_MODEL_4fcaaeaa543f49f2bdb185748e302b2d",
       "value": "Generate report structure: 100%"
      }
     },
     "dfc77ebfd53d472ba75fbeeac294c6ae": {
      "model_module": "@jupyter-widgets/controls",
      "model_module_version": "1.5.0",
      "model_name": "HTMLModel",
      "state": {
       "layout": "IPY_MODEL_41c3cf36df404c6f904c7912a1b05313",
       "style": "IPY_MODEL_280420305f93451299972d61a9625b64",
       "value": " 1/1 [00:05&lt;00:00,  5.48s/it]"
      }
     },
     "e01be78222004bfeac63af73ec354166": {
      "model_module": "@jupyter-widgets/controls",
      "model_module_version": "1.5.0",
      "model_name": "ProgressStyleModel",
      "state": {
       "description_width": ""
      }
     },
     "e26d909d55214cdf9186a542d51de167": {
      "model_module": "@jupyter-widgets/controls",
      "model_module_version": "1.5.0",
      "model_name": "HTMLModel",
      "state": {
       "layout": "IPY_MODEL_a13d850b21b54194957364b0b6972d37",
       "style": "IPY_MODEL_57d790f6f7914fe4be4d6d70c749eea2",
       "value": "Summarize dataset: 100%"
      }
     },
     "e729a77a4e204e67ac2236fa10177d6c": {
      "model_module": "@jupyter-widgets/base",
      "model_module_version": "1.2.0",
      "model_name": "LayoutModel",
      "state": {}
     },
     "e95ef5f850ee4bf8b99d8cb35a440b06": {
      "model_module": "@jupyter-widgets/controls",
      "model_module_version": "1.5.0",
      "model_name": "HTMLModel",
      "state": {
       "layout": "IPY_MODEL_b69e44fdd72c48648e78a7f8fc3d3413",
       "style": "IPY_MODEL_fd62af980475407ca63d2ccd7371c6b6",
       "value": "Render HTML: 100%"
      }
     },
     "ee4ecd7ff2074c6682cb1fb90a3d4834": {
      "model_module": "@jupyter-widgets/base",
      "model_module_version": "1.2.0",
      "model_name": "LayoutModel",
      "state": {}
     },
     "f114f7f47ec9456cb89521fb31492e29": {
      "model_module": "@jupyter-widgets/controls",
      "model_module_version": "1.5.0",
      "model_name": "ProgressStyleModel",
      "state": {
       "description_width": ""
      }
     },
     "f1812f99ef0342d1ba9958bef534a248": {
      "model_module": "@jupyter-widgets/controls",
      "model_module_version": "1.5.0",
      "model_name": "HTMLModel",
      "state": {
       "layout": "IPY_MODEL_0d75513cb0f84fb9bdc9cd94c8b775ff",
       "style": "IPY_MODEL_84fb89e569504f13b5bc9c85f89766ef",
       "value": "Render HTML: 100%"
      }
     },
     "f2f0a96ab84f4cb79cefd56cf9d6c77c": {
      "model_module": "@jupyter-widgets/controls",
      "model_module_version": "1.5.0",
      "model_name": "HTMLModel",
      "state": {
       "layout": "IPY_MODEL_2364405e27a345c581da94fb721c8d3f",
       "style": "IPY_MODEL_1b099a5b1149461a84854eddc9784188",
       "value": " 1/1 [00:00&lt;00:00, 24.65it/s]"
      }
     },
     "f481c935d1c94f76b176b71581142b59": {
      "model_module": "@jupyter-widgets/controls",
      "model_module_version": "1.5.0",
      "model_name": "HBoxModel",
      "state": {
       "children": [
        "IPY_MODEL_dcc26c932cab4b45905bb776f74918b9",
        "IPY_MODEL_7762565340c64d58bddf1403bb5a1f4c",
        "IPY_MODEL_c8016e084a5e4aa294f77165ec90db17"
       ],
       "layout": "IPY_MODEL_6dc97831cf104843acf5021f8044cdb3"
      }
     },
     "f56c2eb755924dad9b51787e3f3ee317": {
      "model_module": "@jupyter-widgets/controls",
      "model_module_version": "1.5.0",
      "model_name": "DescriptionStyleModel",
      "state": {
       "description_width": ""
      }
     },
     "f8f6f46f0a1344629ba7262cf766f229": {
      "model_module": "@jupyter-widgets/base",
      "model_module_version": "1.2.0",
      "model_name": "LayoutModel",
      "state": {}
     },
     "fd62af980475407ca63d2ccd7371c6b6": {
      "model_module": "@jupyter-widgets/controls",
      "model_module_version": "1.5.0",
      "model_name": "DescriptionStyleModel",
      "state": {
       "description_width": ""
      }
     },
     "fdfb3146c87c48208f8fd01b9711a0fe": {
      "model_module": "@jupyter-widgets/controls",
      "model_module_version": "1.5.0",
      "model_name": "ProgressStyleModel",
      "state": {
       "description_width": ""
      }
     }
    },
    "version_major": 2,
    "version_minor": 0
   }
  }
 },
 "nbformat": 4,
 "nbformat_minor": 5
}
