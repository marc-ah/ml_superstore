{
 "cells": [
  {
   "cell_type": "markdown",
   "id": "327a78b4-8999-4bc9-a484-96d8b2fade20",
   "metadata": {},
   "source": [
    "# Prepare"
   ]
  },
  {
   "cell_type": "code",
   "execution_count": 1,
   "id": "1e6db656-3d3d-48d0-92aa-6267943deb1f",
   "metadata": {},
   "outputs": [],
   "source": [
    "# machine learning modules\n",
    "from sklearn.model_selection import train_test_split\n",
    "\n",
    "from sklearn.pipeline import Pipeline\n",
    "from sklearn.compose import ColumnTransformer\n",
    "from sklearn.preprocessing import StandardScaler\n",
    "from sklearn.impute import SimpleImputer\n",
    "from sklearn.preprocessing import LabelBinarizer\n",
    "\n",
    "import statsmodels.formula.api as smf\n",
    "from sklearn.linear_model import LinearRegression, Ridge, Lasso"
   ]
  },
  {
   "cell_type": "code",
   "execution_count": 2,
   "id": "39391ec3-22a8-43af-b097-5096f72f6ae6",
   "metadata": {},
   "outputs": [],
   "source": [
    "# general modules\n",
    "import pandas as pd\n",
    "import sqlite3 \n",
    "import os\n",
    "import pandas_profiling\n",
    "import seaborn as sns\n",
    "import sqlite3 as sql\n",
    "import hashlib"
   ]
  },
  {
   "cell_type": "code",
   "execution_count": 3,
   "id": "b9c42902-3055-41ef-84cf-e1491e5f44cf",
   "metadata": {},
   "outputs": [],
   "source": [
    "# variables\n",
    "INPUT_FOLDER = \"input\"\n",
    "OUTPUT_FOLDER = \"output\"\n",
    "DATA_FOLDER = \"data\"\n",
    "\n",
    "db_name = \"superstore.db\"\n",
    "\n",
    "randon_state = 42"
   ]
  },
  {
   "cell_type": "markdown",
   "id": "4a557e1f-3eb0-4768-8d48-dc520fa6ba30",
   "metadata": {},
   "source": [
    "# Import"
   ]
  },
  {
   "cell_type": "code",
   "execution_count": 4,
   "id": "08c89903-8d88-49cb-bc24-b0c556d50f8b",
   "metadata": {},
   "outputs": [],
   "source": [
    "conn = sql.connect(os.path.join(\"..\", DATA_FOLDER, db_name))"
   ]
  },
  {
   "cell_type": "code",
   "execution_count": 5,
   "id": "ee8ad3fe-8aff-4f3c-a224-04d6a8156363",
   "metadata": {},
   "outputs": [],
   "source": [
    "stmt = \"select * from superstore\""
   ]
  },
  {
   "cell_type": "code",
   "execution_count": 6,
   "id": "d848a0cd-e8b8-4a28-b5bb-aa883fb9b5be",
   "metadata": {},
   "outputs": [],
   "source": [
    "raw_df = pd.read_sql(stmt, conn, index_col='index')"
   ]
  },
  {
   "cell_type": "markdown",
   "id": "1d5fbd9f-80ce-4320-820e-eaaa5e72696e",
   "metadata": {},
   "source": [
    "# Train-Test-Split"
   ]
  },
  {
   "cell_type": "code",
   "execution_count": 7,
   "id": "25b4489e-b1d9-43de-93e3-c8609e64a062",
   "metadata": {},
   "outputs": [],
   "source": [
    "df_train, df_test = train_test_split(raw_df, random_state = randon_state)"
   ]
  },
  {
   "cell_type": "code",
   "execution_count": 8,
   "id": "96475e32-0432-46dc-b2e8-6de7b6673816",
   "metadata": {
    "scrolled": true
   },
   "outputs": [
    {
     "name": "stdout",
     "output_type": "stream",
     "text": [
      "(38471, 23)\n",
      "(12824, 23)\n"
     ]
    }
   ],
   "source": [
    "print(df_train.shape)\n",
    "print(df_test.shape)"
   ]
  },
  {
   "cell_type": "markdown",
   "id": "cf96abf5-41c6-4d4e-81d7-da27a3757491",
   "metadata": {},
   "source": [
    "# Inspect"
   ]
  },
  {
   "cell_type": "code",
   "execution_count": 9,
   "id": "dfe5e85d-0494-4867-a98c-ff11a3d5f3a6",
   "metadata": {
    "scrolled": true
   },
   "outputs": [
    {
     "data": {
      "text/html": [
       "<div>\n",
       "<style scoped>\n",
       "    .dataframe tbody tr th:only-of-type {\n",
       "        vertical-align: middle;\n",
       "    }\n",
       "\n",
       "    .dataframe tbody tr th {\n",
       "        vertical-align: top;\n",
       "    }\n",
       "\n",
       "    .dataframe thead th {\n",
       "        text-align: right;\n",
       "    }\n",
       "</style>\n",
       "<table border=\"1\" class=\"dataframe\">\n",
       "  <thead>\n",
       "    <tr style=\"text-align: right;\">\n",
       "      <th></th>\n",
       "      <th>Order Date</th>\n",
       "      <th>Ship Date</th>\n",
       "      <th>Ship Mode</th>\n",
       "      <th>Customer ID</th>\n",
       "      <th>Customer Name</th>\n",
       "      <th>Segment</th>\n",
       "      <th>City</th>\n",
       "      <th>State</th>\n",
       "      <th>Country</th>\n",
       "      <th>Postal Code</th>\n",
       "      <th>...</th>\n",
       "      <th>Category</th>\n",
       "      <th>Sub-Category</th>\n",
       "      <th>Product Name</th>\n",
       "      <th>Sales</th>\n",
       "      <th>Quantity</th>\n",
       "      <th>Discount</th>\n",
       "      <th>Profit</th>\n",
       "      <th>Shipping Cost</th>\n",
       "      <th>Order Priority</th>\n",
       "      <th>Returned</th>\n",
       "    </tr>\n",
       "    <tr>\n",
       "      <th>index</th>\n",
       "      <th></th>\n",
       "      <th></th>\n",
       "      <th></th>\n",
       "      <th></th>\n",
       "      <th></th>\n",
       "      <th></th>\n",
       "      <th></th>\n",
       "      <th></th>\n",
       "      <th></th>\n",
       "      <th></th>\n",
       "      <th></th>\n",
       "      <th></th>\n",
       "      <th></th>\n",
       "      <th></th>\n",
       "      <th></th>\n",
       "      <th></th>\n",
       "      <th></th>\n",
       "      <th></th>\n",
       "      <th></th>\n",
       "      <th></th>\n",
       "      <th></th>\n",
       "    </tr>\n",
       "  </thead>\n",
       "  <tbody>\n",
       "    <tr>\n",
       "      <th>27507</th>\n",
       "      <td>2012-12-27 00:00:00</td>\n",
       "      <td>2012-12-31 00:00:00</td>\n",
       "      <td>Standard Class</td>\n",
       "      <td>SP-20860</td>\n",
       "      <td>a7d03c30d416fc5f7d695b495884fdd7</td>\n",
       "      <td>Corporate</td>\n",
       "      <td>Murfreesboro</td>\n",
       "      <td>Tennessee</td>\n",
       "      <td>United States</td>\n",
       "      <td>37130.0</td>\n",
       "      <td>...</td>\n",
       "      <td>Technology</td>\n",
       "      <td>Accessories</td>\n",
       "      <td>SanDisk Ultra 16 GB MicroSDHC Class 10 Memory ...</td>\n",
       "      <td>72.744</td>\n",
       "      <td>7</td>\n",
       "      <td>0.2</td>\n",
       "      <td>-12.7302</td>\n",
       "      <td>6.720</td>\n",
       "      <td>Medium</td>\n",
       "      <td>No</td>\n",
       "    </tr>\n",
       "    <tr>\n",
       "      <th>35511</th>\n",
       "      <td>2014-12-25 00:00:00</td>\n",
       "      <td>2015-01-01 00:00:00</td>\n",
       "      <td>Standard Class</td>\n",
       "      <td>JD-15895</td>\n",
       "      <td>1b2850c124acd1bc24237b4b5228b65e</td>\n",
       "      <td>Corporate</td>\n",
       "      <td>Oosterhout</td>\n",
       "      <td>North Brabant</td>\n",
       "      <td>Netherlands</td>\n",
       "      <td>NaN</td>\n",
       "      <td>...</td>\n",
       "      <td>Office Supplies</td>\n",
       "      <td>Labels</td>\n",
       "      <td>Smead File Folder Labels, Adjustable</td>\n",
       "      <td>23.730</td>\n",
       "      <td>7</td>\n",
       "      <td>0.5</td>\n",
       "      <td>-21.0000</td>\n",
       "      <td>3.430</td>\n",
       "      <td>Low</td>\n",
       "      <td>No</td>\n",
       "    </tr>\n",
       "    <tr>\n",
       "      <th>9172</th>\n",
       "      <td>2012-05-08 00:00:00</td>\n",
       "      <td>2012-05-11 00:00:00</td>\n",
       "      <td>Second Class</td>\n",
       "      <td>AB-10600</td>\n",
       "      <td>6acab08bb2b385c8569adfd24730ee01</td>\n",
       "      <td>Corporate</td>\n",
       "      <td>Phnom Penh</td>\n",
       "      <td>Phnom Penh</td>\n",
       "      <td>Cambodia</td>\n",
       "      <td>NaN</td>\n",
       "      <td>...</td>\n",
       "      <td>Furniture</td>\n",
       "      <td>Bookcases</td>\n",
       "      <td>Dania Corner Shelving, Pine</td>\n",
       "      <td>617.100</td>\n",
       "      <td>5</td>\n",
       "      <td>0.0</td>\n",
       "      <td>172.6500</td>\n",
       "      <td>36.380</td>\n",
       "      <td>Medium</td>\n",
       "      <td>No</td>\n",
       "    </tr>\n",
       "    <tr>\n",
       "      <th>31366</th>\n",
       "      <td>2011-06-30 00:00:00</td>\n",
       "      <td>2011-07-02 00:00:00</td>\n",
       "      <td>Second Class</td>\n",
       "      <td>GH-14410</td>\n",
       "      <td>1528a0a296f3ecf500753855ea9a21a5</td>\n",
       "      <td>Home Office</td>\n",
       "      <td>Lima</td>\n",
       "      <td>Lima (city)</td>\n",
       "      <td>Peru</td>\n",
       "      <td>NaN</td>\n",
       "      <td>...</td>\n",
       "      <td>Furniture</td>\n",
       "      <td>Chairs</td>\n",
       "      <td>Hon Bag Chairs, Red</td>\n",
       "      <td>54.180</td>\n",
       "      <td>3</td>\n",
       "      <td>0.4</td>\n",
       "      <td>-32.5200</td>\n",
       "      <td>4.919</td>\n",
       "      <td>Medium</td>\n",
       "      <td>Yes</td>\n",
       "    </tr>\n",
       "    <tr>\n",
       "      <th>24465</th>\n",
       "      <td>2013-06-23 00:00:00</td>\n",
       "      <td>2013-06-26 00:00:00</td>\n",
       "      <td>First Class</td>\n",
       "      <td>KW-16435</td>\n",
       "      <td>648a7c6f93ee0f453ee1378466a84ff8</td>\n",
       "      <td>Consumer</td>\n",
       "      <td>London</td>\n",
       "      <td>England</td>\n",
       "      <td>United Kingdom</td>\n",
       "      <td>NaN</td>\n",
       "      <td>...</td>\n",
       "      <td>Office Supplies</td>\n",
       "      <td>Storage</td>\n",
       "      <td>Fellowes Box, Wire Frame</td>\n",
       "      <td>50.625</td>\n",
       "      <td>3</td>\n",
       "      <td>0.1</td>\n",
       "      <td>20.2050</td>\n",
       "      <td>8.570</td>\n",
       "      <td>Medium</td>\n",
       "      <td>No</td>\n",
       "    </tr>\n",
       "  </tbody>\n",
       "</table>\n",
       "<p>5 rows × 23 columns</p>\n",
       "</div>"
      ],
      "text/plain": [
       "                Order Date            Ship Date       Ship Mode Customer ID  \\\n",
       "index                                                                         \n",
       "27507  2012-12-27 00:00:00  2012-12-31 00:00:00  Standard Class    SP-20860   \n",
       "35511  2014-12-25 00:00:00  2015-01-01 00:00:00  Standard Class    JD-15895   \n",
       "9172   2012-05-08 00:00:00  2012-05-11 00:00:00    Second Class    AB-10600   \n",
       "31366  2011-06-30 00:00:00  2011-07-02 00:00:00    Second Class    GH-14410   \n",
       "24465  2013-06-23 00:00:00  2013-06-26 00:00:00     First Class    KW-16435   \n",
       "\n",
       "                          Customer Name      Segment          City  \\\n",
       "index                                                                \n",
       "27507  a7d03c30d416fc5f7d695b495884fdd7    Corporate  Murfreesboro   \n",
       "35511  1b2850c124acd1bc24237b4b5228b65e    Corporate    Oosterhout   \n",
       "9172   6acab08bb2b385c8569adfd24730ee01    Corporate    Phnom Penh   \n",
       "31366  1528a0a296f3ecf500753855ea9a21a5  Home Office          Lima   \n",
       "24465  648a7c6f93ee0f453ee1378466a84ff8     Consumer        London   \n",
       "\n",
       "               State         Country  Postal Code  ...         Category  \\\n",
       "index                                              ...                    \n",
       "27507      Tennessee   United States      37130.0  ...       Technology   \n",
       "35511  North Brabant     Netherlands          NaN  ...  Office Supplies   \n",
       "9172      Phnom Penh        Cambodia          NaN  ...        Furniture   \n",
       "31366    Lima (city)            Peru          NaN  ...        Furniture   \n",
       "24465        England  United Kingdom          NaN  ...  Office Supplies   \n",
       "\n",
       "      Sub-Category                                       Product Name  \\\n",
       "index                                                                   \n",
       "27507  Accessories  SanDisk Ultra 16 GB MicroSDHC Class 10 Memory ...   \n",
       "35511       Labels               Smead File Folder Labels, Adjustable   \n",
       "9172     Bookcases                        Dania Corner Shelving, Pine   \n",
       "31366       Chairs                                Hon Bag Chairs, Red   \n",
       "24465      Storage                           Fellowes Box, Wire Frame   \n",
       "\n",
       "         Sales Quantity Discount    Profit  Shipping Cost  Order Priority  \\\n",
       "index                                                                       \n",
       "27507   72.744        7      0.2  -12.7302          6.720          Medium   \n",
       "35511   23.730        7      0.5  -21.0000          3.430             Low   \n",
       "9172   617.100        5      0.0  172.6500         36.380          Medium   \n",
       "31366   54.180        3      0.4  -32.5200          4.919          Medium   \n",
       "24465   50.625        3      0.1   20.2050          8.570          Medium   \n",
       "\n",
       "       Returned  \n",
       "index            \n",
       "27507        No  \n",
       "35511        No  \n",
       "9172         No  \n",
       "31366       Yes  \n",
       "24465        No  \n",
       "\n",
       "[5 rows x 23 columns]"
      ]
     },
     "execution_count": 9,
     "metadata": {},
     "output_type": "execute_result"
    }
   ],
   "source": [
    "df_train.head()"
   ]
  },
  {
   "cell_type": "code",
   "execution_count": 10,
   "id": "0b7362ee-0b8d-4645-919c-f2cc4795971f",
   "metadata": {
    "scrolled": true
   },
   "outputs": [
    {
     "data": {
      "text/plain": [
       "Index(['Order Date', 'Ship Date', 'Ship Mode', 'Customer ID', 'Customer Name',\n",
       "       'Segment', 'City', 'State', 'Country', 'Postal Code', 'Market',\n",
       "       'Region', 'Product ID', 'Category', 'Sub-Category', 'Product Name',\n",
       "       'Sales', 'Quantity', 'Discount', 'Profit', 'Shipping Cost',\n",
       "       'Order Priority', 'Returned'],\n",
       "      dtype='object')"
      ]
     },
     "execution_count": 10,
     "metadata": {},
     "output_type": "execute_result"
    }
   ],
   "source": [
    "df_train.columns"
   ]
  },
  {
   "cell_type": "markdown",
   "id": "ad0ff9ae-2cb8-445b-96b5-e615106278ab",
   "metadata": {},
   "source": [
    "### Target Column"
   ]
  },
  {
   "cell_type": "markdown",
   "id": "d65a7ee2-e6d9-4163-863f-410b2533db77",
   "metadata": {},
   "source": [
    "Time between order and shipment in days"
   ]
  },
  {
   "cell_type": "code",
   "execution_count": 11,
   "id": "d39bd94b-6ca4-4508-ae8b-0164cf9e62f4",
   "metadata": {},
   "outputs": [
    {
     "ename": "TypeError",
     "evalue": "unsupported operand type(s) for -: 'str' and 'str'",
     "output_type": "error",
     "traceback": [
      "\u001b[1;31m---------------------------------------------------------------------------\u001b[0m",
      "\u001b[1;31mTypeError\u001b[0m                                 Traceback (most recent call last)",
      "\u001b[1;32m<ipython-input-11-7ec150f686c2>\u001b[0m in \u001b[0;36m<module>\u001b[1;34m\u001b[0m\n\u001b[1;32m----> 1\u001b[1;33m \u001b[0mdf_train\u001b[0m\u001b[1;33m[\u001b[0m\u001b[1;34m'ship_delay'\u001b[0m\u001b[1;33m]\u001b[0m \u001b[1;33m=\u001b[0m \u001b[0mdf_train\u001b[0m\u001b[1;33m.\u001b[0m\u001b[0mapply\u001b[0m\u001b[1;33m(\u001b[0m\u001b[1;32mlambda\u001b[0m \u001b[0mx\u001b[0m\u001b[1;33m:\u001b[0m \u001b[1;33m(\u001b[0m\u001b[0mx\u001b[0m\u001b[1;33m[\u001b[0m\u001b[1;34m\"Ship Date\"\u001b[0m\u001b[1;33m]\u001b[0m\u001b[1;33m-\u001b[0m\u001b[0mx\u001b[0m\u001b[1;33m[\u001b[0m\u001b[1;34m'Order Date'\u001b[0m\u001b[1;33m]\u001b[0m\u001b[1;33m)\u001b[0m\u001b[1;33m.\u001b[0m\u001b[0mdays\u001b[0m\u001b[1;33m,\u001b[0m \u001b[0maxis\u001b[0m\u001b[1;33m=\u001b[0m\u001b[1;36m1\u001b[0m\u001b[1;33m)\u001b[0m\u001b[1;33m\u001b[0m\u001b[1;33m\u001b[0m\u001b[0m\n\u001b[0m",
      "\u001b[1;32m~\\AppData\\Local\\Programs\\Python\\Python39\\lib\\site-packages\\pandas\\core\\frame.py\u001b[0m in \u001b[0;36mapply\u001b[1;34m(self, func, axis, raw, result_type, args, **kwds)\u001b[0m\n\u001b[0;32m   7766\u001b[0m             \u001b[0mkwds\u001b[0m\u001b[1;33m=\u001b[0m\u001b[0mkwds\u001b[0m\u001b[1;33m,\u001b[0m\u001b[1;33m\u001b[0m\u001b[1;33m\u001b[0m\u001b[0m\n\u001b[0;32m   7767\u001b[0m         )\n\u001b[1;32m-> 7768\u001b[1;33m         \u001b[1;32mreturn\u001b[0m \u001b[0mop\u001b[0m\u001b[1;33m.\u001b[0m\u001b[0mget_result\u001b[0m\u001b[1;33m(\u001b[0m\u001b[1;33m)\u001b[0m\u001b[1;33m\u001b[0m\u001b[1;33m\u001b[0m\u001b[0m\n\u001b[0m\u001b[0;32m   7769\u001b[0m \u001b[1;33m\u001b[0m\u001b[0m\n\u001b[0;32m   7770\u001b[0m     \u001b[1;32mdef\u001b[0m \u001b[0mapplymap\u001b[0m\u001b[1;33m(\u001b[0m\u001b[0mself\u001b[0m\u001b[1;33m,\u001b[0m \u001b[0mfunc\u001b[0m\u001b[1;33m,\u001b[0m \u001b[0mna_action\u001b[0m\u001b[1;33m:\u001b[0m \u001b[0mOptional\u001b[0m\u001b[1;33m[\u001b[0m\u001b[0mstr\u001b[0m\u001b[1;33m]\u001b[0m \u001b[1;33m=\u001b[0m \u001b[1;32mNone\u001b[0m\u001b[1;33m)\u001b[0m \u001b[1;33m->\u001b[0m \u001b[0mDataFrame\u001b[0m\u001b[1;33m:\u001b[0m\u001b[1;33m\u001b[0m\u001b[1;33m\u001b[0m\u001b[0m\n",
      "\u001b[1;32m~\\AppData\\Local\\Programs\\Python\\Python39\\lib\\site-packages\\pandas\\core\\apply.py\u001b[0m in \u001b[0;36mget_result\u001b[1;34m(self)\u001b[0m\n\u001b[0;32m    183\u001b[0m             \u001b[1;32mreturn\u001b[0m \u001b[0mself\u001b[0m\u001b[1;33m.\u001b[0m\u001b[0mapply_raw\u001b[0m\u001b[1;33m(\u001b[0m\u001b[1;33m)\u001b[0m\u001b[1;33m\u001b[0m\u001b[1;33m\u001b[0m\u001b[0m\n\u001b[0;32m    184\u001b[0m \u001b[1;33m\u001b[0m\u001b[0m\n\u001b[1;32m--> 185\u001b[1;33m         \u001b[1;32mreturn\u001b[0m \u001b[0mself\u001b[0m\u001b[1;33m.\u001b[0m\u001b[0mapply_standard\u001b[0m\u001b[1;33m(\u001b[0m\u001b[1;33m)\u001b[0m\u001b[1;33m\u001b[0m\u001b[1;33m\u001b[0m\u001b[0m\n\u001b[0m\u001b[0;32m    186\u001b[0m \u001b[1;33m\u001b[0m\u001b[0m\n\u001b[0;32m    187\u001b[0m     \u001b[1;32mdef\u001b[0m \u001b[0mapply_empty_result\u001b[0m\u001b[1;33m(\u001b[0m\u001b[0mself\u001b[0m\u001b[1;33m)\u001b[0m\u001b[1;33m:\u001b[0m\u001b[1;33m\u001b[0m\u001b[1;33m\u001b[0m\u001b[0m\n",
      "\u001b[1;32m~\\AppData\\Local\\Programs\\Python\\Python39\\lib\\site-packages\\pandas\\core\\apply.py\u001b[0m in \u001b[0;36mapply_standard\u001b[1;34m(self)\u001b[0m\n\u001b[0;32m    274\u001b[0m \u001b[1;33m\u001b[0m\u001b[0m\n\u001b[0;32m    275\u001b[0m     \u001b[1;32mdef\u001b[0m \u001b[0mapply_standard\u001b[0m\u001b[1;33m(\u001b[0m\u001b[0mself\u001b[0m\u001b[1;33m)\u001b[0m\u001b[1;33m:\u001b[0m\u001b[1;33m\u001b[0m\u001b[1;33m\u001b[0m\u001b[0m\n\u001b[1;32m--> 276\u001b[1;33m         \u001b[0mresults\u001b[0m\u001b[1;33m,\u001b[0m \u001b[0mres_index\u001b[0m \u001b[1;33m=\u001b[0m \u001b[0mself\u001b[0m\u001b[1;33m.\u001b[0m\u001b[0mapply_series_generator\u001b[0m\u001b[1;33m(\u001b[0m\u001b[1;33m)\u001b[0m\u001b[1;33m\u001b[0m\u001b[1;33m\u001b[0m\u001b[0m\n\u001b[0m\u001b[0;32m    277\u001b[0m \u001b[1;33m\u001b[0m\u001b[0m\n\u001b[0;32m    278\u001b[0m         \u001b[1;31m# wrap results\u001b[0m\u001b[1;33m\u001b[0m\u001b[1;33m\u001b[0m\u001b[1;33m\u001b[0m\u001b[0m\n",
      "\u001b[1;32m~\\AppData\\Local\\Programs\\Python\\Python39\\lib\\site-packages\\pandas\\core\\apply.py\u001b[0m in \u001b[0;36mapply_series_generator\u001b[1;34m(self)\u001b[0m\n\u001b[0;32m    288\u001b[0m             \u001b[1;32mfor\u001b[0m \u001b[0mi\u001b[0m\u001b[1;33m,\u001b[0m \u001b[0mv\u001b[0m \u001b[1;32min\u001b[0m \u001b[0menumerate\u001b[0m\u001b[1;33m(\u001b[0m\u001b[0mseries_gen\u001b[0m\u001b[1;33m)\u001b[0m\u001b[1;33m:\u001b[0m\u001b[1;33m\u001b[0m\u001b[1;33m\u001b[0m\u001b[0m\n\u001b[0;32m    289\u001b[0m                 \u001b[1;31m# ignore SettingWithCopy here in case the user mutates\u001b[0m\u001b[1;33m\u001b[0m\u001b[1;33m\u001b[0m\u001b[1;33m\u001b[0m\u001b[0m\n\u001b[1;32m--> 290\u001b[1;33m                 \u001b[0mresults\u001b[0m\u001b[1;33m[\u001b[0m\u001b[0mi\u001b[0m\u001b[1;33m]\u001b[0m \u001b[1;33m=\u001b[0m \u001b[0mself\u001b[0m\u001b[1;33m.\u001b[0m\u001b[0mf\u001b[0m\u001b[1;33m(\u001b[0m\u001b[0mv\u001b[0m\u001b[1;33m)\u001b[0m\u001b[1;33m\u001b[0m\u001b[1;33m\u001b[0m\u001b[0m\n\u001b[0m\u001b[0;32m    291\u001b[0m                 \u001b[1;32mif\u001b[0m \u001b[0misinstance\u001b[0m\u001b[1;33m(\u001b[0m\u001b[0mresults\u001b[0m\u001b[1;33m[\u001b[0m\u001b[0mi\u001b[0m\u001b[1;33m]\u001b[0m\u001b[1;33m,\u001b[0m \u001b[0mABCSeries\u001b[0m\u001b[1;33m)\u001b[0m\u001b[1;33m:\u001b[0m\u001b[1;33m\u001b[0m\u001b[1;33m\u001b[0m\u001b[0m\n\u001b[0;32m    292\u001b[0m                     \u001b[1;31m# If we have a view on v, we need to make a copy because\u001b[0m\u001b[1;33m\u001b[0m\u001b[1;33m\u001b[0m\u001b[1;33m\u001b[0m\u001b[0m\n",
      "\u001b[1;32m<ipython-input-11-7ec150f686c2>\u001b[0m in \u001b[0;36m<lambda>\u001b[1;34m(x)\u001b[0m\n\u001b[1;32m----> 1\u001b[1;33m \u001b[0mdf_train\u001b[0m\u001b[1;33m[\u001b[0m\u001b[1;34m'ship_delay'\u001b[0m\u001b[1;33m]\u001b[0m \u001b[1;33m=\u001b[0m \u001b[0mdf_train\u001b[0m\u001b[1;33m.\u001b[0m\u001b[0mapply\u001b[0m\u001b[1;33m(\u001b[0m\u001b[1;32mlambda\u001b[0m \u001b[0mx\u001b[0m\u001b[1;33m:\u001b[0m \u001b[1;33m(\u001b[0m\u001b[0mx\u001b[0m\u001b[1;33m[\u001b[0m\u001b[1;34m\"Ship Date\"\u001b[0m\u001b[1;33m]\u001b[0m\u001b[1;33m-\u001b[0m\u001b[0mx\u001b[0m\u001b[1;33m[\u001b[0m\u001b[1;34m'Order Date'\u001b[0m\u001b[1;33m]\u001b[0m\u001b[1;33m)\u001b[0m\u001b[1;33m.\u001b[0m\u001b[0mdays\u001b[0m\u001b[1;33m,\u001b[0m \u001b[0maxis\u001b[0m\u001b[1;33m=\u001b[0m\u001b[1;36m1\u001b[0m\u001b[1;33m)\u001b[0m\u001b[1;33m\u001b[0m\u001b[1;33m\u001b[0m\u001b[0m\n\u001b[0m",
      "\u001b[1;31mTypeError\u001b[0m: unsupported operand type(s) for -: 'str' and 'str'"
     ]
    }
   ],
   "source": [
    "df_train['ship_delay'] = df_train.apply(lambda x: (x[\"Ship Date\"]-x['Order Date']).days, axis=1)"
   ]
  },
  {
   "cell_type": "code",
   "execution_count": null,
   "id": "c5efa7b0-7472-4005-a3f2-310b42b01fc7",
   "metadata": {},
   "outputs": [],
   "source": [
    "df_train[[\"Order Date\", \"Ship Date\", \"ship_delay\"]].head()"
   ]
  },
  {
   "cell_type": "code",
   "execution_count": null,
   "id": "4a7d57ac-c76a-4763-943e-1efb516f7155",
   "metadata": {},
   "outputs": [],
   "source": [
    "df_train[\"ship_delay\"].value_counts().plot.bar()"
   ]
  },
  {
   "cell_type": "code",
   "execution_count": null,
   "id": "3c2600d4-0a19-4bbd-8a28-8677f22f1705",
   "metadata": {},
   "outputs": [],
   "source": []
  },
  {
   "cell_type": "markdown",
   "id": "b1df8e69-f1f3-461f-b06b-f871190e9041",
   "metadata": {},
   "source": [
    "### Profiling"
   ]
  },
  {
   "cell_type": "code",
   "execution_count": null,
   "id": "c217e259-a145-489c-8d12-eb311d318890",
   "metadata": {},
   "outputs": [],
   "source": [
    "profile = df_train.profile_report(title='Pandas Profiling Report')"
   ]
  },
  {
   "cell_type": "code",
   "execution_count": null,
   "id": "54851283-e7cf-419f-a506-a047ae30af82",
   "metadata": {},
   "outputs": [],
   "source": [
    "os.makedirs(os.path.join('..',OUTPUT_FOLDER), exist_ok=True)\n",
    "profile.to_file(output_file=os.path.join(\"..\", OUTPUT_FOLDER, \"data_profile.html\"))"
   ]
  },
  {
   "cell_type": "markdown",
   "id": "aa7ffcf3-8008-4215-8bfc-7c71102103da",
   "metadata": {},
   "source": [
    "### Missings"
   ]
  },
  {
   "cell_type": "code",
   "execution_count": null,
   "id": "5a58ea5a-48de-48ab-a0e6-3b062fb86932",
   "metadata": {},
   "outputs": [],
   "source": [
    "df_train.isnull().sum()"
   ]
  },
  {
   "cell_type": "markdown",
   "id": "13c6d1ca-cff9-4cdb-9b41-4d84d86a953f",
   "metadata": {},
   "source": [
    "Postal Code ==> useless"
   ]
  },
  {
   "cell_type": "markdown",
   "id": "f9efaf5d-14e4-4a6b-8b8f-2bcb1342cee6",
   "metadata": {},
   "source": [
    "### Columnwise Inspection"
   ]
  },
  {
   "cell_type": "markdown",
   "id": "6a6e5854-5d2c-489d-9806-348518f37b68",
   "metadata": {},
   "source": [
    "#### Ship Date, Order Date"
   ]
  },
  {
   "cell_type": "code",
   "execution_count": null,
   "id": "b726f9e3-1a0e-4e00-8b64-e3b73f14a903",
   "metadata": {
    "scrolled": true
   },
   "outputs": [],
   "source": [
    "from matplotlib import pyplot as plt\n",
    "plt.rcParams[\"figure.figsize\"] = [15, 4]\n",
    "f, axes = plt.subplots(1, 2)\n",
    "\n",
    "sns.histplot(data=df_train, y=\"Ship Date\", ax=axes[0])\n",
    "sns.histplot(data=df_train, y=\"Order Date\", ax=axes[1])"
   ]
  },
  {
   "cell_type": "markdown",
   "id": "43cf873b-baa5-4c2d-bb93-aa7c837dba43",
   "metadata": {},
   "source": [
    "#### Ship Mode"
   ]
  },
  {
   "cell_type": "code",
   "execution_count": null,
   "id": "f89327b3-2103-48f0-847e-eb3d250ac9f8",
   "metadata": {},
   "outputs": [],
   "source": [
    "df_train[\"Ship Mode\"].value_counts()"
   ]
  },
  {
   "cell_type": "markdown",
   "id": "7d08c89a-8270-4964-9910-2bed64f8ad3d",
   "metadata": {},
   "source": [
    "* Predestined for OneHotEncoder"
   ]
  },
  {
   "cell_type": "markdown",
   "id": "afba49f3-7a1e-4511-a260-1262bf5a3568",
   "metadata": {},
   "source": [
    "#### Customer ID, Customer Name"
   ]
  },
  {
   "cell_type": "code",
   "execution_count": null,
   "id": "c4e39aea-49d8-4b1b-9908-5743ca3a4bb0",
   "metadata": {},
   "outputs": [],
   "source": [
    "print(\"Unique values:\", len(set(df_train[\"Customer ID\"])))\n",
    "print(\"Total values:\", len(df_train[\"Customer ID\"]))"
   ]
  },
  {
   "cell_type": "code",
   "execution_count": null,
   "id": "9fa041d0-d593-476b-9f68-c9500e0e502b",
   "metadata": {},
   "outputs": [],
   "source": [
    "print(\"Unique values:\", len(set(df_train[\"Customer Name\"])))\n",
    "print(\"Total values:\", len(df_train[\"Customer Name\"]))"
   ]
  },
  {
   "cell_type": "markdown",
   "id": "8ace7eb6-cb39-46dc-a68b-39b88a2f0b1b",
   "metadata": {},
   "source": [
    "* not useless at all... classification?\n",
    "\n",
    "* customer may have nothing to do with the shipment delay (cannot be caused by the customer)"
   ]
  },
  {
   "cell_type": "markdown",
   "id": "1787f1aa-4767-4895-82de-728076e9940d",
   "metadata": {},
   "source": [
    "#### Segment"
   ]
  },
  {
   "cell_type": "code",
   "execution_count": null,
   "id": "6e6620b0-6e5e-47ad-ac77-c278e3b7db7d",
   "metadata": {},
   "outputs": [],
   "source": [
    "df_train[\"Segment\"].value_counts()"
   ]
  },
  {
   "cell_type": "markdown",
   "id": "68cc4f54-28ce-4aba-b4eb-6cbc60dd1788",
   "metadata": {},
   "source": [
    "=> OneHotEncoder"
   ]
  },
  {
   "cell_type": "markdown",
   "id": "11da2aa1-98b6-4b0f-adea-a30a5801aec1",
   "metadata": {},
   "source": [
    "#### City, State, Country"
   ]
  },
  {
   "cell_type": "code",
   "execution_count": null,
   "id": "757fcf27-a8f3-45c8-a05f-5f2977789921",
   "metadata": {},
   "outputs": [],
   "source": [
    "print(\"Unique values City:\", len(set(df_train[\"City\"])))\n",
    "print(\"Unique values State:\", len(set(df_train[\"State\"])))\n",
    "print(\"Total values:\", len(df_train[\"State\"]))"
   ]
  },
  {
   "cell_type": "code",
   "execution_count": null,
   "id": "f67e3fac-1bf2-4417-8adb-464d48e3f135",
   "metadata": {
    "scrolled": true
   },
   "outputs": [],
   "source": [
    "df_train[\"Country\"].value_counts()"
   ]
  },
  {
   "cell_type": "markdown",
   "id": "5eef8507-945c-4ebe-9b4b-4056064b4af9",
   "metadata": {},
   "source": [
    "=> Too high cardinality"
   ]
  },
  {
   "cell_type": "markdown",
   "id": "ec476b75-e0f2-4d12-bc9a-62791e306336",
   "metadata": {},
   "source": [
    "#### Postal Code"
   ]
  },
  {
   "cell_type": "markdown",
   "id": "a1b2b8f7-7bfc-438a-a58f-17b180828db8",
   "metadata": {},
   "source": [
    "useless due to missing values"
   ]
  },
  {
   "cell_type": "markdown",
   "id": "9458145e-db94-4368-8522-72e3f267fadd",
   "metadata": {},
   "source": [
    "#### Market"
   ]
  },
  {
   "cell_type": "code",
   "execution_count": null,
   "id": "d15a4b47-933a-4e18-8e76-5d2c1b60330b",
   "metadata": {},
   "outputs": [],
   "source": [
    "df_train[\"Market\"].value_counts().plot.pie()"
   ]
  },
  {
   "cell_type": "markdown",
   "id": "7014d879-3b63-425b-ba3f-f2530b223edc",
   "metadata": {},
   "source": [
    "* looks interesting, OneHotEncoder; there may be differences in the regions"
   ]
  },
  {
   "cell_type": "markdown",
   "id": "03abb322-2a21-4ca9-811e-c37707b7e901",
   "metadata": {},
   "source": [
    "#### Region"
   ]
  },
  {
   "cell_type": "code",
   "execution_count": null,
   "id": "fd24d7de-13d8-4489-9d32-b67cdad188d6",
   "metadata": {},
   "outputs": [],
   "source": [
    "df_train[\"Region\"].value_counts().plot.pie()"
   ]
  },
  {
   "cell_type": "markdown",
   "id": "12bbaa05-2f0c-4f1c-976b-c92cd7ea7505",
   "metadata": {},
   "source": [
    "* almost the same as market, but more detailed"
   ]
  },
  {
   "cell_type": "markdown",
   "id": "f6b52ec5-b4e4-48f8-9bb7-9d5ee8e28fb5",
   "metadata": {},
   "source": [
    "#### Product ID, Product Name"
   ]
  },
  {
   "cell_type": "code",
   "execution_count": null,
   "id": "3d78b363-61f4-4496-8a9b-0c57421a03a3",
   "metadata": {},
   "outputs": [],
   "source": [
    "df_train[\"Product ID\"]"
   ]
  },
  {
   "cell_type": "code",
   "execution_count": null,
   "id": "5746c241-bf0f-4f22-b464-c3b8e3746e37",
   "metadata": {},
   "outputs": [],
   "source": [
    "df_train[\"Product Name\"]"
   ]
  },
  {
   "cell_type": "markdown",
   "id": "d158b56a-af2b-41ab-a62a-f3daaa92cb06",
   "metadata": {},
   "source": [
    "* Obviously too detailed"
   ]
  },
  {
   "cell_type": "markdown",
   "id": "71e567d9-f2f5-4a9c-97ea-22d87d751ed8",
   "metadata": {},
   "source": [
    "#### Category, Sub-Category"
   ]
  },
  {
   "cell_type": "code",
   "execution_count": null,
   "id": "8ff3cf10-c42e-4840-9bf3-09005b2d6547",
   "metadata": {},
   "outputs": [],
   "source": [
    "from matplotlib import pyplot as plt\n",
    "plt.rcParams[\"figure.figsize\"] = [21, 5]\n",
    "\n",
    "f, axes = plt.subplots(1, 2)\n",
    "\n",
    "sns.countplot(data=df_train, y=\"Category\", ax=axes[0])\n",
    "sns.countplot(data=df_train, y=\"Sub-Category\", ax=axes[1])\n",
    "\n",
    "axes[0].tick_params(axis='y', rotation=75, labelsize=12)"
   ]
  },
  {
   "cell_type": "markdown",
   "id": "bddd95f8-980f-48cc-840c-c0add38551f3",
   "metadata": {},
   "source": [
    "* OneHotEncoder"
   ]
  },
  {
   "cell_type": "code",
   "execution_count": null,
   "id": "ad5114ed-3d65-440f-8d0c-33b16c9620da",
   "metadata": {},
   "outputs": [],
   "source": []
  },
  {
   "cell_type": "code",
   "execution_count": null,
   "id": "b3651faa-84a0-43bd-8518-ebe37c7417ab",
   "metadata": {},
   "outputs": [],
   "source": []
  },
  {
   "cell_type": "markdown",
   "id": "5c3c807e-0117-409c-a8c3-4bf0b7845393",
   "metadata": {},
   "source": [
    "#### Sales, Discount, Profit"
   ]
  },
  {
   "cell_type": "code",
   "execution_count": null,
   "id": "198a1d86-82a1-400d-bb4e-587bd5b55bea",
   "metadata": {},
   "outputs": [],
   "source": [
    "sns.histplot(data=df_train, x=\"Sales\")"
   ]
  },
  {
   "cell_type": "code",
   "execution_count": null,
   "id": "93b97cf4-241e-4214-a216-b617e2149c96",
   "metadata": {},
   "outputs": [],
   "source": [
    "sns.histplot(data=df_train, x=\"Sales\", log_scale=True)"
   ]
  },
  {
   "cell_type": "markdown",
   "id": "1b71d49f-a837-44a8-86b7-74479a986c51",
   "metadata": {},
   "source": [
    "* Log-normal distribution ?"
   ]
  },
  {
   "cell_type": "code",
   "execution_count": null,
   "id": "503c7b5e-9cbb-4991-aa07-df73f7e41589",
   "metadata": {},
   "outputs": [],
   "source": [
    "df_train[\"Profit\"].min()"
   ]
  },
  {
   "cell_type": "code",
   "execution_count": null,
   "id": "0a1d3b92-d8bc-4266-91f2-4a8723a8c233",
   "metadata": {},
   "outputs": [],
   "source": [
    "df_train[\"Profit\"].max()"
   ]
  },
  {
   "cell_type": "code",
   "execution_count": null,
   "id": "edb15902-6ff5-4b72-8219-51fda1cafa35",
   "metadata": {},
   "outputs": [],
   "source": [
    "sns.histplot(df_train[\"Profit\"]).set(yscale=\"log\")"
   ]
  },
  {
   "cell_type": "markdown",
   "id": "adaa2adc-fb18-42b5-883e-307f5cc570e0",
   "metadata": {},
   "source": [
    "#### Quantity"
   ]
  },
  {
   "cell_type": "code",
   "execution_count": null,
   "id": "9a88ce6c-0b66-4242-a5fb-22186ad55a6b",
   "metadata": {},
   "outputs": [],
   "source": [
    "df_train[\"Quantity\"].value_counts()"
   ]
  },
  {
   "cell_type": "markdown",
   "id": "f95e5e55-3120-44e5-97cd-7193412368b0",
   "metadata": {},
   "source": [
    "#### Discount"
   ]
  },
  {
   "cell_type": "code",
   "execution_count": null,
   "id": "eacc98e5-4319-4e12-8c4f-848aa26f1078",
   "metadata": {},
   "outputs": [],
   "source": [
    "df_train[\"Discount\"].value_counts().plot.bar()"
   ]
  },
  {
   "cell_type": "markdown",
   "id": "16b812c5-8fab-4902-b932-7e86d77ce5f5",
   "metadata": {},
   "source": [
    "* Percentage, already normalized\n",
    "* Higher Discount = lower order priority?"
   ]
  },
  {
   "cell_type": "markdown",
   "id": "86df45b0-0bfe-4b34-bf3c-8f79017e4b65",
   "metadata": {},
   "source": [
    "#### Shipping Cost"
   ]
  },
  {
   "cell_type": "code",
   "execution_count": null,
   "id": "eeff7a6f-cb32-4a10-8edc-38bcbe3e5ec9",
   "metadata": {},
   "outputs": [],
   "source": [
    "sns.histplot(data=df_train, x=\"Shipping Cost\", log_scale=True)"
   ]
  },
  {
   "cell_type": "markdown",
   "id": "859b5bce-039f-484d-af09-5c3d5c6c80db",
   "metadata": {},
   "source": [
    "#### Order Priority"
   ]
  },
  {
   "cell_type": "code",
   "execution_count": null,
   "id": "02b55fba-5aab-4fbe-a6da-cd796de25554",
   "metadata": {},
   "outputs": [],
   "source": [
    "df_train[\"Order Priority\"].value_counts()"
   ]
  },
  {
   "cell_type": "markdown",
   "id": "7aacbfa2-b15d-4d14-adf0-5249915f1279",
   "metadata": {},
   "source": [
    "* OneHotEncoder or OrdinalEncoder\n",
    "* Order Prio may have impact on shipment delay"
   ]
  },
  {
   "cell_type": "markdown",
   "id": "8fa9487c-d7ce-4485-b55b-327dbdacb1e2",
   "metadata": {},
   "source": [
    "#### Returned"
   ]
  },
  {
   "cell_type": "code",
   "execution_count": null,
   "id": "d8ab6365-ae6f-4153-8326-3ac0c07b2dad",
   "metadata": {},
   "outputs": [],
   "source": [
    "df_train[\"Returned\"].value_counts()"
   ]
  },
  {
   "cell_type": "markdown",
   "id": "812384f5-65a4-4b9a-a17c-a763f45da00c",
   "metadata": {},
   "source": [
    "* 0/1, LabelBinarizer\n",
    "* questionable if it makes sense"
   ]
  },
  {
   "cell_type": "markdown",
   "id": "34fb6bd5-0b1e-4cb9-9274-6f2647612dac",
   "metadata": {},
   "source": [
    "### Potential relationships"
   ]
  },
  {
   "cell_type": "code",
   "execution_count": null,
   "id": "b710a2a8-3ba8-41c0-bbea-1f8d95bb71af",
   "metadata": {},
   "outputs": [],
   "source": [
    "plt.rcParams[\"figure.figsize\"] = [10,8]\n",
    "sns.heatmap(df_train.corr(), vmin=-1, vmax=1, cmap=\"RdBu\", annot=True)"
   ]
  },
  {
   "cell_type": "markdown",
   "id": "0d396c07-fdac-4f08-b568-a524406323a9",
   "metadata": {},
   "source": [
    "#### Impact of order priority on ship_delay"
   ]
  },
  {
   "cell_type": "code",
   "execution_count": null,
   "id": "64ed06a1-9ab5-4033-93ff-fa248fa2d18c",
   "metadata": {},
   "outputs": [],
   "source": [
    "pd.crosstab(df_train[\"ship_delay\"], df_train[\"Order Priority\"])"
   ]
  },
  {
   "cell_type": "code",
   "execution_count": null,
   "id": "42ce89ed-026e-4d8f-a554-703cdd9e9d44",
   "metadata": {},
   "outputs": [],
   "source": [
    "sns.boxplot(x=\"Order Priority\", y=\"ship_delay\", data=df_train)"
   ]
  },
  {
   "cell_type": "markdown",
   "id": "7405e147-00aa-4dbf-95b4-ce4b9c1ced11",
   "metadata": {},
   "source": [
    "* Order Priority has a signifcant impact on the shipment delay"
   ]
  },
  {
   "cell_type": "markdown",
   "id": "5695be82-7597-4a32-90d8-b17df4dbac2c",
   "metadata": {},
   "source": [
    "#### Impact of Ship Mode on ship_delay"
   ]
  },
  {
   "cell_type": "code",
   "execution_count": null,
   "id": "24b9b7af-907c-4f90-bf89-954124c689f4",
   "metadata": {},
   "outputs": [],
   "source": [
    "sns.boxplot(x=\"Ship Mode\", y=\"ship_delay\", data=df_train)"
   ]
  },
  {
   "cell_type": "markdown",
   "id": "228e6e7d-cc47-4513-af4e-321d1b9f788b",
   "metadata": {},
   "source": [
    "#### Impact of quantity / sales on ship_delay"
   ]
  },
  {
   "cell_type": "code",
   "execution_count": null,
   "id": "86d2a92b-1f01-4183-ad04-eb50f4de2caa",
   "metadata": {},
   "outputs": [],
   "source": [
    "qty_delay = pd.crosstab(df_train[\"Quantity\"], df_train[\"ship_delay\"], normalize='index', margins=True)"
   ]
  },
  {
   "cell_type": "code",
   "execution_count": null,
   "id": "eae0516b-c1fb-4f4d-983a-ab4f85e056d2",
   "metadata": {},
   "outputs": [],
   "source": [
    "sns.heatmap(qty_delay, cmap=\"OrRd\", annot=True)"
   ]
  },
  {
   "cell_type": "code",
   "execution_count": null,
   "id": "c96e3d15-44d9-4b13-917c-5d47a5804d66",
   "metadata": {},
   "outputs": [],
   "source": [
    "#qty_delay"
   ]
  },
  {
   "cell_type": "markdown",
   "id": "a75e64c0-7d0e-4f37-95c0-3129a9df0f2e",
   "metadata": {},
   "source": [
    "* insignificant"
   ]
  },
  {
   "cell_type": "code",
   "execution_count": null,
   "id": "605ddb26-1573-4c1c-a66d-5472ae5aa497",
   "metadata": {
    "scrolled": true
   },
   "outputs": [],
   "source": [
    "bin_labels = [1,2,3,4,5]\n",
    "df_train['sales_quantiles'] = pd.qcut(df_train['Sales'],\n",
    "                              q=5,\n",
    "                              labels=bin_labels)"
   ]
  },
  {
   "cell_type": "code",
   "execution_count": null,
   "id": "2ede821b-d6e3-4326-9b6e-4e66cc4e29d1",
   "metadata": {},
   "outputs": [],
   "source": [
    "sls_delay = pd.crosstab(df_train[\"sales_quantiles\"], df_train[\"ship_delay\"], normalize='index', margins=True)"
   ]
  },
  {
   "cell_type": "code",
   "execution_count": null,
   "id": "49d8b5d0-bb67-4c2a-961c-0984da4c27f2",
   "metadata": {},
   "outputs": [],
   "source": [
    "sns.heatmap(sls_delay, cmap=\"OrRd\", annot=True)"
   ]
  },
  {
   "cell_type": "markdown",
   "id": "f5725768-985a-4237-bb8f-529cccc8d85f",
   "metadata": {},
   "source": [
    "* insignificant"
   ]
  },
  {
   "cell_type": "code",
   "execution_count": null,
   "id": "5a543439-3bc9-42ea-8a01-2a510b0c91ab",
   "metadata": {},
   "outputs": [],
   "source": []
  },
  {
   "cell_type": "code",
   "execution_count": null,
   "id": "f643394f-ba6e-4e8f-8a57-20c5ea1f8033",
   "metadata": {},
   "outputs": [],
   "source": []
  },
  {
   "cell_type": "code",
   "execution_count": null,
   "id": "fbf5f4e6-add8-4520-a03a-2efda7f51086",
   "metadata": {},
   "outputs": [],
   "source": []
  },
  {
   "cell_type": "code",
   "execution_count": null,
   "id": "1d3769e7-6e6a-4b63-8be1-92d09a998c63",
   "metadata": {},
   "outputs": [],
   "source": []
  },
  {
   "cell_type": "code",
   "execution_count": null,
   "id": "0024273d-a2f4-439e-aa6d-5fcfc0368a2c",
   "metadata": {},
   "outputs": [],
   "source": [
    "# -----------------------------------------------------------------"
   ]
  },
  {
   "cell_type": "code",
   "execution_count": null,
   "id": "12d5ad23-2657-4cc1-92fd-f55e4083ebdc",
   "metadata": {},
   "outputs": [],
   "source": [
    "# select potentially useful columns\n",
    "#useful_columns = [\"\"]\n",
    "#df_inspect = df_train[useful_columns]"
   ]
  },
  {
   "cell_type": "code",
   "execution_count": null,
   "id": "4a8f2110-7c46-4ccb-ac49-00a9077d5737",
   "metadata": {},
   "outputs": [],
   "source": [
    "#df_inspect.reset_index(drop=True, inplace=True)\n"
   ]
  },
  {
   "cell_type": "code",
   "execution_count": null,
   "id": "f63cddf2-290c-4da6-90ac-7c9be9f40d6c",
   "metadata": {},
   "outputs": [],
   "source": [
    "#df_inspect.loc[:,\"\"] = LabelBinarizer().fit_transform(df_inspect[\"...\"])"
   ]
  },
  {
   "cell_type": "code",
   "execution_count": null,
   "id": "7a9f2c53-67f9-47f2-8c3e-e93b0a11a03e",
   "metadata": {
    "scrolled": true
   },
   "outputs": [],
   "source": [
    "#sns.pairplot(data=df_inspect)"
   ]
  },
  {
   "cell_type": "code",
   "execution_count": null,
   "id": "d02a506c-0ddc-43b3-8e28-22c545201585",
   "metadata": {},
   "outputs": [],
   "source": [
    "#sns.heatmap(df_inspect.corr())"
   ]
  },
  {
   "cell_type": "code",
   "execution_count": null,
   "id": "839b58e6-8542-42a6-906c-212c9bba2c69",
   "metadata": {},
   "outputs": [],
   "source": [
    "#model = smf.ols(formula=\"target ~ a + b + c\", data=df_inspect)\n",
    "#results = model.fit()\n",
    "#print(results.summary())"
   ]
  },
  {
   "cell_type": "code",
   "execution_count": null,
   "id": "0e6f16b6-da35-42d2-95f0-9869c8739554",
   "metadata": {},
   "outputs": [],
   "source": []
  }
 ],
 "metadata": {
  "kernelspec": {
   "display_name": "Python 3.9.4 64-bit",
   "language": "python",
   "name": "python394jvsc74a57bd0f228753f02b6bcec550021ad01f9964bb2298ebd1b1709942fc8265c3e080479"
  },
  "language_info": {
   "codemirror_mode": {
    "name": "ipython",
    "version": 3
   },
   "file_extension": ".py",
   "mimetype": "text/x-python",
   "name": "python",
   "nbconvert_exporter": "python",
   "pygments_lexer": "ipython3",
   "version": "3.9.4"
  }
 },
 "nbformat": 4,
 "nbformat_minor": 5
}
